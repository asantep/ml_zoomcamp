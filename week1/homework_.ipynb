{
 "cells": [
  {
   "cell_type": "code",
   "execution_count": 1,
   "metadata": {
    "collapsed": true
   },
   "outputs": [],
   "source": [
    "import numpy as np\n",
    "import pandas as pd"
   ]
  },
  {
   "cell_type": "code",
   "execution_count": 2,
   "outputs": [
    {
     "data": {
      "text/plain": "'1.21.5'"
     },
     "execution_count": 2,
     "metadata": {},
     "output_type": "execute_result"
    }
   ],
   "source": [
    "np.__version__"
   ],
   "metadata": {
    "collapsed": false,
    "pycharm": {
     "name": "#%%\n"
    }
   }
  },
  {
   "cell_type": "code",
   "execution_count": 3,
   "outputs": [],
   "source": [
    "%%capture\n",
    "df = pd.read_csv('https://raw.githubusercontent.com/alexeygrigorev/mlbookcamp-code/master/chapter-02-car-price/data.csv')"
   ],
   "metadata": {
    "collapsed": false,
    "pycharm": {
     "name": "#%%\n"
    }
   }
  },
  {
   "cell_type": "code",
   "execution_count": 4,
   "outputs": [
    {
     "data": {
      "text/plain": "(11914, 16)"
     },
     "execution_count": 4,
     "metadata": {},
     "output_type": "execute_result"
    }
   ],
   "source": [
    "df.shape"
   ],
   "metadata": {
    "collapsed": false,
    "pycharm": {
     "name": "#%%\n"
    }
   }
  },
  {
   "cell_type": "code",
   "execution_count": 5,
   "outputs": [
    {
     "data": {
      "text/plain": "  Make       Model  Year             Engine Fuel Type  Engine HP  \\\n0  BMW  1 Series M  2011  premium unleaded (required)      335.0   \n1  BMW    1 Series  2011  premium unleaded (required)      300.0   \n2  BMW    1 Series  2011  premium unleaded (required)      300.0   \n3  BMW    1 Series  2011  premium unleaded (required)      230.0   \n4  BMW    1 Series  2011  premium unleaded (required)      230.0   \n\n   Engine Cylinders Transmission Type     Driven_Wheels  Number of Doors  \\\n0               6.0            MANUAL  rear wheel drive              2.0   \n1               6.0            MANUAL  rear wheel drive              2.0   \n2               6.0            MANUAL  rear wheel drive              2.0   \n3               6.0            MANUAL  rear wheel drive              2.0   \n4               6.0            MANUAL  rear wheel drive              2.0   \n\n                         Market Category Vehicle Size Vehicle Style  \\\n0  Factory Tuner,Luxury,High-Performance      Compact         Coupe   \n1                     Luxury,Performance      Compact   Convertible   \n2                Luxury,High-Performance      Compact         Coupe   \n3                     Luxury,Performance      Compact         Coupe   \n4                                 Luxury      Compact   Convertible   \n\n   highway MPG  city mpg  Popularity   MSRP  \n0           26        19        3916  46135  \n1           28        19        3916  40650  \n2           28        20        3916  36350  \n3           28        18        3916  29450  \n4           28        18        3916  34500  ",
      "text/html": "<div>\n<style scoped>\n    .dataframe tbody tr th:only-of-type {\n        vertical-align: middle;\n    }\n\n    .dataframe tbody tr th {\n        vertical-align: top;\n    }\n\n    .dataframe thead th {\n        text-align: right;\n    }\n</style>\n<table border=\"1\" class=\"dataframe\">\n  <thead>\n    <tr style=\"text-align: right;\">\n      <th></th>\n      <th>Make</th>\n      <th>Model</th>\n      <th>Year</th>\n      <th>Engine Fuel Type</th>\n      <th>Engine HP</th>\n      <th>Engine Cylinders</th>\n      <th>Transmission Type</th>\n      <th>Driven_Wheels</th>\n      <th>Number of Doors</th>\n      <th>Market Category</th>\n      <th>Vehicle Size</th>\n      <th>Vehicle Style</th>\n      <th>highway MPG</th>\n      <th>city mpg</th>\n      <th>Popularity</th>\n      <th>MSRP</th>\n    </tr>\n  </thead>\n  <tbody>\n    <tr>\n      <th>0</th>\n      <td>BMW</td>\n      <td>1 Series M</td>\n      <td>2011</td>\n      <td>premium unleaded (required)</td>\n      <td>335.0</td>\n      <td>6.0</td>\n      <td>MANUAL</td>\n      <td>rear wheel drive</td>\n      <td>2.0</td>\n      <td>Factory Tuner,Luxury,High-Performance</td>\n      <td>Compact</td>\n      <td>Coupe</td>\n      <td>26</td>\n      <td>19</td>\n      <td>3916</td>\n      <td>46135</td>\n    </tr>\n    <tr>\n      <th>1</th>\n      <td>BMW</td>\n      <td>1 Series</td>\n      <td>2011</td>\n      <td>premium unleaded (required)</td>\n      <td>300.0</td>\n      <td>6.0</td>\n      <td>MANUAL</td>\n      <td>rear wheel drive</td>\n      <td>2.0</td>\n      <td>Luxury,Performance</td>\n      <td>Compact</td>\n      <td>Convertible</td>\n      <td>28</td>\n      <td>19</td>\n      <td>3916</td>\n      <td>40650</td>\n    </tr>\n    <tr>\n      <th>2</th>\n      <td>BMW</td>\n      <td>1 Series</td>\n      <td>2011</td>\n      <td>premium unleaded (required)</td>\n      <td>300.0</td>\n      <td>6.0</td>\n      <td>MANUAL</td>\n      <td>rear wheel drive</td>\n      <td>2.0</td>\n      <td>Luxury,High-Performance</td>\n      <td>Compact</td>\n      <td>Coupe</td>\n      <td>28</td>\n      <td>20</td>\n      <td>3916</td>\n      <td>36350</td>\n    </tr>\n    <tr>\n      <th>3</th>\n      <td>BMW</td>\n      <td>1 Series</td>\n      <td>2011</td>\n      <td>premium unleaded (required)</td>\n      <td>230.0</td>\n      <td>6.0</td>\n      <td>MANUAL</td>\n      <td>rear wheel drive</td>\n      <td>2.0</td>\n      <td>Luxury,Performance</td>\n      <td>Compact</td>\n      <td>Coupe</td>\n      <td>28</td>\n      <td>18</td>\n      <td>3916</td>\n      <td>29450</td>\n    </tr>\n    <tr>\n      <th>4</th>\n      <td>BMW</td>\n      <td>1 Series</td>\n      <td>2011</td>\n      <td>premium unleaded (required)</td>\n      <td>230.0</td>\n      <td>6.0</td>\n      <td>MANUAL</td>\n      <td>rear wheel drive</td>\n      <td>2.0</td>\n      <td>Luxury</td>\n      <td>Compact</td>\n      <td>Convertible</td>\n      <td>28</td>\n      <td>18</td>\n      <td>3916</td>\n      <td>34500</td>\n    </tr>\n  </tbody>\n</table>\n</div>"
     },
     "execution_count": 5,
     "metadata": {},
     "output_type": "execute_result"
    }
   ],
   "source": [
    "df.head()"
   ],
   "metadata": {
    "collapsed": false,
    "pycharm": {
     "name": "#%%\n"
    }
   }
  },
  {
   "cell_type": "code",
   "execution_count": 7,
   "outputs": [
    {
     "data": {
      "text/plain": "               Year    Engine HP  Engine Cylinders  Number of Doors  \\\ncount  11914.000000  11845.00000      11884.000000     11908.000000   \nmean    2010.384338    249.38607          5.628829         3.436093   \nstd        7.579740    109.19187          1.780559         0.881315   \nmin     1990.000000     55.00000          0.000000         2.000000   \n25%     2007.000000    170.00000          4.000000         2.000000   \n50%     2015.000000    227.00000          6.000000         4.000000   \n75%     2016.000000    300.00000          6.000000         4.000000   \nmax     2017.000000   1001.00000         16.000000         4.000000   \n\n        highway MPG      city mpg    Popularity          MSRP  \ncount  11914.000000  11914.000000  11914.000000  1.191400e+04  \nmean      26.637485     19.733255   1554.911197  4.059474e+04  \nstd        8.863001      8.987798   1441.855347  6.010910e+04  \nmin       12.000000      7.000000      2.000000  2.000000e+03  \n25%       22.000000     16.000000    549.000000  2.100000e+04  \n50%       26.000000     18.000000   1385.000000  2.999500e+04  \n75%       30.000000     22.000000   2009.000000  4.223125e+04  \nmax      354.000000    137.000000   5657.000000  2.065902e+06  ",
      "text/html": "<div>\n<style scoped>\n    .dataframe tbody tr th:only-of-type {\n        vertical-align: middle;\n    }\n\n    .dataframe tbody tr th {\n        vertical-align: top;\n    }\n\n    .dataframe thead th {\n        text-align: right;\n    }\n</style>\n<table border=\"1\" class=\"dataframe\">\n  <thead>\n    <tr style=\"text-align: right;\">\n      <th></th>\n      <th>Year</th>\n      <th>Engine HP</th>\n      <th>Engine Cylinders</th>\n      <th>Number of Doors</th>\n      <th>highway MPG</th>\n      <th>city mpg</th>\n      <th>Popularity</th>\n      <th>MSRP</th>\n    </tr>\n  </thead>\n  <tbody>\n    <tr>\n      <th>count</th>\n      <td>11914.000000</td>\n      <td>11845.00000</td>\n      <td>11884.000000</td>\n      <td>11908.000000</td>\n      <td>11914.000000</td>\n      <td>11914.000000</td>\n      <td>11914.000000</td>\n      <td>1.191400e+04</td>\n    </tr>\n    <tr>\n      <th>mean</th>\n      <td>2010.384338</td>\n      <td>249.38607</td>\n      <td>5.628829</td>\n      <td>3.436093</td>\n      <td>26.637485</td>\n      <td>19.733255</td>\n      <td>1554.911197</td>\n      <td>4.059474e+04</td>\n    </tr>\n    <tr>\n      <th>std</th>\n      <td>7.579740</td>\n      <td>109.19187</td>\n      <td>1.780559</td>\n      <td>0.881315</td>\n      <td>8.863001</td>\n      <td>8.987798</td>\n      <td>1441.855347</td>\n      <td>6.010910e+04</td>\n    </tr>\n    <tr>\n      <th>min</th>\n      <td>1990.000000</td>\n      <td>55.00000</td>\n      <td>0.000000</td>\n      <td>2.000000</td>\n      <td>12.000000</td>\n      <td>7.000000</td>\n      <td>2.000000</td>\n      <td>2.000000e+03</td>\n    </tr>\n    <tr>\n      <th>25%</th>\n      <td>2007.000000</td>\n      <td>170.00000</td>\n      <td>4.000000</td>\n      <td>2.000000</td>\n      <td>22.000000</td>\n      <td>16.000000</td>\n      <td>549.000000</td>\n      <td>2.100000e+04</td>\n    </tr>\n    <tr>\n      <th>50%</th>\n      <td>2015.000000</td>\n      <td>227.00000</td>\n      <td>6.000000</td>\n      <td>4.000000</td>\n      <td>26.000000</td>\n      <td>18.000000</td>\n      <td>1385.000000</td>\n      <td>2.999500e+04</td>\n    </tr>\n    <tr>\n      <th>75%</th>\n      <td>2016.000000</td>\n      <td>300.00000</td>\n      <td>6.000000</td>\n      <td>4.000000</td>\n      <td>30.000000</td>\n      <td>22.000000</td>\n      <td>2009.000000</td>\n      <td>4.223125e+04</td>\n    </tr>\n    <tr>\n      <th>max</th>\n      <td>2017.000000</td>\n      <td>1001.00000</td>\n      <td>16.000000</td>\n      <td>4.000000</td>\n      <td>354.000000</td>\n      <td>137.000000</td>\n      <td>5657.000000</td>\n      <td>2.065902e+06</td>\n    </tr>\n  </tbody>\n</table>\n</div>"
     },
     "execution_count": 7,
     "metadata": {},
     "output_type": "execute_result"
    }
   ],
   "source": [
    "df.describe()"
   ],
   "metadata": {
    "collapsed": false,
    "pycharm": {
     "name": "#%%\n"
    }
   }
  },
  {
   "cell_type": "code",
   "execution_count": 8,
   "outputs": [
    {
     "data": {
      "text/plain": "count         11914\nunique           48\ntop       Chevrolet\nfreq           1123\nName: Make, dtype: object"
     },
     "execution_count": 8,
     "metadata": {},
     "output_type": "execute_result"
    }
   ],
   "source": [
    "df.Make.describe()"
   ],
   "metadata": {
    "collapsed": false,
    "pycharm": {
     "name": "#%%\n"
    }
   }
  },
  {
   "cell_type": "code",
   "execution_count": 9,
   "outputs": [
    {
     "data": {
      "text/plain": "Index(['Make', 'Model', 'Year', 'Engine Fuel Type', 'Engine HP',\n       'Engine Cylinders', 'Transmission Type', 'Driven_Wheels',\n       'Number of Doors', 'Market Category', 'Vehicle Size', 'Vehicle Style',\n       'highway MPG', 'city mpg', 'Popularity', 'MSRP'],\n      dtype='object')"
     },
     "execution_count": 9,
     "metadata": {},
     "output_type": "execute_result"
    }
   ],
   "source": [
    "df.columns"
   ],
   "metadata": {
    "collapsed": false,
    "pycharm": {
     "name": "#%%\n"
    }
   }
  },
  {
   "cell_type": "code",
   "execution_count": 10,
   "outputs": [
    {
     "data": {
      "text/plain": "               Model  Year  Engine Fuel Type  Engine HP  Engine Cylinders  \\\nMake                                                                        \nAcura            252   252               252        252               252   \nAlfa Romeo         5     5                 5          5                 5   \nAston Martin      93    93                93         93                93   \nAudi             328   328               328        328               328   \nBMW              334   334               334        334               334   \nBentley           74    74                74         74                74   \nBugatti            3     3                 3          3                 3   \nBuick            196   196               196        196               196   \nCadillac         397   397               397        397               397   \nChevrolet       1123  1123              1123       1117              1121   \nChrysler         187   187               187        187               187   \nDodge            626   626               626        626               626   \nFIAT              62    62                62         59                62   \nFerrari           69    69                69         69                69   \nFord             881   881               881        868               881   \nGMC              515   515               515        515               515   \nGenesis            3     3                 3          3                 3   \nHUMMER            17    17                17         17                17   \nHonda            449   449               449        447               449   \nHyundai          303   303               303        303               303   \nInfiniti         330   330               330        330               330   \nKia              231   231               231        226               231   \nLamborghini       52    52                52         52                52   \nLand Rover       143   143               143        143               143   \nLexus            202   202               202        202               202   \nLincoln          164   164               164        156               164   \nLotus             29    29                29         29                29   \nMaserati          58    58                58         58                58   \nMaybach           16    16                16         16                16   \nMazda            423   423               423        423               403   \nMcLaren            5     5                 5          5                 5   \nMercedes-Benz    353   353               353        352               353   \nMitsubishi       213   213               213        212               210   \nNissan           558   558               558        548               558   \nOldsmobile       150   150               150        150               150   \nPlymouth          82    82                82         82                82   \nPontiac          186   186               186        186               186   \nPorsche          136   136               136        136               136   \nRolls-Royce       31    31                31         31                31   \nSaab             111   111               111        111               111   \nScion             60    60                60         60                60   \nSpyker             3     3                 3          3                 3   \nSubaru           256   256               256        256               256   \nSuzuki           351   351               348        351               351   \nTesla             18    18                18          0                18   \nToyota           746   746               746        744               745   \nVolkswagen       809   809               809        809               805   \nVolvo            281   281               281        281               281   \n\n               Transmission Type  Driven_Wheels  Number of Doors  \\\nMake                                                               \nAcura                        252            252              252   \nAlfa Romeo                     5              5                5   \nAston Martin                  93             93               93   \nAudi                         328            328              328   \nBMW                          334            334              334   \nBentley                       74             74               74   \nBugatti                        3              3                3   \nBuick                        196            196              196   \nCadillac                     397            397              397   \nChevrolet                   1123           1123             1123   \nChrysler                     187            187              187   \nDodge                        626            626              626   \nFIAT                          62             62               62   \nFerrari                       69             69               68   \nFord                         881            881              881   \nGMC                          515            515              515   \nGenesis                        3              3                3   \nHUMMER                        17             17               17   \nHonda                        449            449              449   \nHyundai                      303            303              303   \nInfiniti                     330            330              330   \nKia                          231            231              231   \nLamborghini                   52             52               52   \nLand Rover                   143            143              143   \nLexus                        202            202              202   \nLincoln                      164            164              164   \nLotus                         29             29               29   \nMaserati                      58             58               58   \nMaybach                       16             16               16   \nMazda                        423            423              423   \nMcLaren                        5              5                5   \nMercedes-Benz                353            353              353   \nMitsubishi                   213            213              213   \nNissan                       558            558              558   \nOldsmobile                   150            150              150   \nPlymouth                      82             82               82   \nPontiac                      186            186              186   \nPorsche                      136            136              136   \nRolls-Royce                   31             31               31   \nSaab                         111            111              111   \nScion                         60             60               60   \nSpyker                         3              3                3   \nSubaru                       256            256              256   \nSuzuki                       351            351              351   \nTesla                         18             18               13   \nToyota                       746            746              746   \nVolkswagen                   809            809              809   \nVolvo                        281            281              281   \n\n               Market Category  Vehicle Size  Vehicle Style  highway MPG  \\\nMake                                                                       \nAcura                      252           252            252          252   \nAlfa Romeo                   5             5              5            5   \nAston Martin                93            93             93           93   \nAudi                       328           328            328          328   \nBMW                        334           334            334          334   \nBentley                     74            74             74           74   \nBugatti                      3             3              3            3   \nBuick                      125           196            196          196   \nCadillac                   397           397            397          397   \nChevrolet                  622          1123           1123         1123   \nChrysler                   108           187            187          187   \nDodge                      320           626            626          626   \nFIAT                        41            62             62           62   \nFerrari                     69            69             69           69   \nFord                       499           881            881          881   \nGMC                        270           515            515          515   \nGenesis                      3             3              3            3   \nHUMMER                      17            17             17           17   \nHonda                      284           449            449          449   \nHyundai                    214           303            303          303   \nInfiniti                   330           330            330          330   \nKia                        109           231            231          231   \nLamborghini                 52            52             52           52   \nLand Rover                 143           143            143          143   \nLexus                      202           202            202          202   \nLincoln                    164           164            164          164   \nLotus                       29            29             29           29   \nMaserati                    58            58             58           58   \nMaybach                     16            16             16           16   \nMazda                      259           423            423          423   \nMcLaren                      5             5              5            5   \nMercedes-Benz              353           353            353          353   \nMitsubishi                 128           213            213          213   \nNissan                     318           558            558          558   \nOldsmobile                   3           150            150          150   \nPlymouth                    39            82             82           82   \nPontiac                     77           186            186          186   \nPorsche                    136           136            136          136   \nRolls-Royce                 31            31             31           31   \nSaab                       111           111            111          111   \nScion                       48            60             60           60   \nSpyker                       3             3              3            3   \nSubaru                     214           256            256          256   \nSuzuki                      99           351            351          351   \nTesla                       18            18             18           18   \nToyota                     303           746            746          746   \nVolkswagen                 585           809            809          809   \nVolvo                      281           281            281          281   \n\n               city mpg  Popularity  MSRP  \nMake                                       \nAcura               252         252   252  \nAlfa Romeo            5           5     5  \nAston Martin         93          93    93  \nAudi                328         328   328  \nBMW                 334         334   334  \nBentley              74          74    74  \nBugatti               3           3     3  \nBuick               196         196   196  \nCadillac            397         397   397  \nChevrolet          1123        1123  1123  \nChrysler            187         187   187  \nDodge               626         626   626  \nFIAT                 62          62    62  \nFerrari              69          69    69  \nFord                881         881   881  \nGMC                 515         515   515  \nGenesis               3           3     3  \nHUMMER               17          17    17  \nHonda               449         449   449  \nHyundai             303         303   303  \nInfiniti            330         330   330  \nKia                 231         231   231  \nLamborghini          52          52    52  \nLand Rover          143         143   143  \nLexus               202         202   202  \nLincoln             164         164   164  \nLotus                29          29    29  \nMaserati             58          58    58  \nMaybach              16          16    16  \nMazda               423         423   423  \nMcLaren               5           5     5  \nMercedes-Benz       353         353   353  \nMitsubishi          213         213   213  \nNissan              558         558   558  \nOldsmobile          150         150   150  \nPlymouth             82          82    82  \nPontiac             186         186   186  \nPorsche             136         136   136  \nRolls-Royce          31          31    31  \nSaab                111         111   111  \nScion                60          60    60  \nSpyker                3           3     3  \nSubaru              256         256   256  \nSuzuki              351         351   351  \nTesla                18          18    18  \nToyota              746         746   746  \nVolkswagen          809         809   809  \nVolvo               281         281   281  ",
      "text/html": "<div>\n<style scoped>\n    .dataframe tbody tr th:only-of-type {\n        vertical-align: middle;\n    }\n\n    .dataframe tbody tr th {\n        vertical-align: top;\n    }\n\n    .dataframe thead th {\n        text-align: right;\n    }\n</style>\n<table border=\"1\" class=\"dataframe\">\n  <thead>\n    <tr style=\"text-align: right;\">\n      <th></th>\n      <th>Model</th>\n      <th>Year</th>\n      <th>Engine Fuel Type</th>\n      <th>Engine HP</th>\n      <th>Engine Cylinders</th>\n      <th>Transmission Type</th>\n      <th>Driven_Wheels</th>\n      <th>Number of Doors</th>\n      <th>Market Category</th>\n      <th>Vehicle Size</th>\n      <th>Vehicle Style</th>\n      <th>highway MPG</th>\n      <th>city mpg</th>\n      <th>Popularity</th>\n      <th>MSRP</th>\n    </tr>\n    <tr>\n      <th>Make</th>\n      <th></th>\n      <th></th>\n      <th></th>\n      <th></th>\n      <th></th>\n      <th></th>\n      <th></th>\n      <th></th>\n      <th></th>\n      <th></th>\n      <th></th>\n      <th></th>\n      <th></th>\n      <th></th>\n      <th></th>\n    </tr>\n  </thead>\n  <tbody>\n    <tr>\n      <th>Acura</th>\n      <td>252</td>\n      <td>252</td>\n      <td>252</td>\n      <td>252</td>\n      <td>252</td>\n      <td>252</td>\n      <td>252</td>\n      <td>252</td>\n      <td>252</td>\n      <td>252</td>\n      <td>252</td>\n      <td>252</td>\n      <td>252</td>\n      <td>252</td>\n      <td>252</td>\n    </tr>\n    <tr>\n      <th>Alfa Romeo</th>\n      <td>5</td>\n      <td>5</td>\n      <td>5</td>\n      <td>5</td>\n      <td>5</td>\n      <td>5</td>\n      <td>5</td>\n      <td>5</td>\n      <td>5</td>\n      <td>5</td>\n      <td>5</td>\n      <td>5</td>\n      <td>5</td>\n      <td>5</td>\n      <td>5</td>\n    </tr>\n    <tr>\n      <th>Aston Martin</th>\n      <td>93</td>\n      <td>93</td>\n      <td>93</td>\n      <td>93</td>\n      <td>93</td>\n      <td>93</td>\n      <td>93</td>\n      <td>93</td>\n      <td>93</td>\n      <td>93</td>\n      <td>93</td>\n      <td>93</td>\n      <td>93</td>\n      <td>93</td>\n      <td>93</td>\n    </tr>\n    <tr>\n      <th>Audi</th>\n      <td>328</td>\n      <td>328</td>\n      <td>328</td>\n      <td>328</td>\n      <td>328</td>\n      <td>328</td>\n      <td>328</td>\n      <td>328</td>\n      <td>328</td>\n      <td>328</td>\n      <td>328</td>\n      <td>328</td>\n      <td>328</td>\n      <td>328</td>\n      <td>328</td>\n    </tr>\n    <tr>\n      <th>BMW</th>\n      <td>334</td>\n      <td>334</td>\n      <td>334</td>\n      <td>334</td>\n      <td>334</td>\n      <td>334</td>\n      <td>334</td>\n      <td>334</td>\n      <td>334</td>\n      <td>334</td>\n      <td>334</td>\n      <td>334</td>\n      <td>334</td>\n      <td>334</td>\n      <td>334</td>\n    </tr>\n    <tr>\n      <th>Bentley</th>\n      <td>74</td>\n      <td>74</td>\n      <td>74</td>\n      <td>74</td>\n      <td>74</td>\n      <td>74</td>\n      <td>74</td>\n      <td>74</td>\n      <td>74</td>\n      <td>74</td>\n      <td>74</td>\n      <td>74</td>\n      <td>74</td>\n      <td>74</td>\n      <td>74</td>\n    </tr>\n    <tr>\n      <th>Bugatti</th>\n      <td>3</td>\n      <td>3</td>\n      <td>3</td>\n      <td>3</td>\n      <td>3</td>\n      <td>3</td>\n      <td>3</td>\n      <td>3</td>\n      <td>3</td>\n      <td>3</td>\n      <td>3</td>\n      <td>3</td>\n      <td>3</td>\n      <td>3</td>\n      <td>3</td>\n    </tr>\n    <tr>\n      <th>Buick</th>\n      <td>196</td>\n      <td>196</td>\n      <td>196</td>\n      <td>196</td>\n      <td>196</td>\n      <td>196</td>\n      <td>196</td>\n      <td>196</td>\n      <td>125</td>\n      <td>196</td>\n      <td>196</td>\n      <td>196</td>\n      <td>196</td>\n      <td>196</td>\n      <td>196</td>\n    </tr>\n    <tr>\n      <th>Cadillac</th>\n      <td>397</td>\n      <td>397</td>\n      <td>397</td>\n      <td>397</td>\n      <td>397</td>\n      <td>397</td>\n      <td>397</td>\n      <td>397</td>\n      <td>397</td>\n      <td>397</td>\n      <td>397</td>\n      <td>397</td>\n      <td>397</td>\n      <td>397</td>\n      <td>397</td>\n    </tr>\n    <tr>\n      <th>Chevrolet</th>\n      <td>1123</td>\n      <td>1123</td>\n      <td>1123</td>\n      <td>1117</td>\n      <td>1121</td>\n      <td>1123</td>\n      <td>1123</td>\n      <td>1123</td>\n      <td>622</td>\n      <td>1123</td>\n      <td>1123</td>\n      <td>1123</td>\n      <td>1123</td>\n      <td>1123</td>\n      <td>1123</td>\n    </tr>\n    <tr>\n      <th>Chrysler</th>\n      <td>187</td>\n      <td>187</td>\n      <td>187</td>\n      <td>187</td>\n      <td>187</td>\n      <td>187</td>\n      <td>187</td>\n      <td>187</td>\n      <td>108</td>\n      <td>187</td>\n      <td>187</td>\n      <td>187</td>\n      <td>187</td>\n      <td>187</td>\n      <td>187</td>\n    </tr>\n    <tr>\n      <th>Dodge</th>\n      <td>626</td>\n      <td>626</td>\n      <td>626</td>\n      <td>626</td>\n      <td>626</td>\n      <td>626</td>\n      <td>626</td>\n      <td>626</td>\n      <td>320</td>\n      <td>626</td>\n      <td>626</td>\n      <td>626</td>\n      <td>626</td>\n      <td>626</td>\n      <td>626</td>\n    </tr>\n    <tr>\n      <th>FIAT</th>\n      <td>62</td>\n      <td>62</td>\n      <td>62</td>\n      <td>59</td>\n      <td>62</td>\n      <td>62</td>\n      <td>62</td>\n      <td>62</td>\n      <td>41</td>\n      <td>62</td>\n      <td>62</td>\n      <td>62</td>\n      <td>62</td>\n      <td>62</td>\n      <td>62</td>\n    </tr>\n    <tr>\n      <th>Ferrari</th>\n      <td>69</td>\n      <td>69</td>\n      <td>69</td>\n      <td>69</td>\n      <td>69</td>\n      <td>69</td>\n      <td>69</td>\n      <td>68</td>\n      <td>69</td>\n      <td>69</td>\n      <td>69</td>\n      <td>69</td>\n      <td>69</td>\n      <td>69</td>\n      <td>69</td>\n    </tr>\n    <tr>\n      <th>Ford</th>\n      <td>881</td>\n      <td>881</td>\n      <td>881</td>\n      <td>868</td>\n      <td>881</td>\n      <td>881</td>\n      <td>881</td>\n      <td>881</td>\n      <td>499</td>\n      <td>881</td>\n      <td>881</td>\n      <td>881</td>\n      <td>881</td>\n      <td>881</td>\n      <td>881</td>\n    </tr>\n    <tr>\n      <th>GMC</th>\n      <td>515</td>\n      <td>515</td>\n      <td>515</td>\n      <td>515</td>\n      <td>515</td>\n      <td>515</td>\n      <td>515</td>\n      <td>515</td>\n      <td>270</td>\n      <td>515</td>\n      <td>515</td>\n      <td>515</td>\n      <td>515</td>\n      <td>515</td>\n      <td>515</td>\n    </tr>\n    <tr>\n      <th>Genesis</th>\n      <td>3</td>\n      <td>3</td>\n      <td>3</td>\n      <td>3</td>\n      <td>3</td>\n      <td>3</td>\n      <td>3</td>\n      <td>3</td>\n      <td>3</td>\n      <td>3</td>\n      <td>3</td>\n      <td>3</td>\n      <td>3</td>\n      <td>3</td>\n      <td>3</td>\n    </tr>\n    <tr>\n      <th>HUMMER</th>\n      <td>17</td>\n      <td>17</td>\n      <td>17</td>\n      <td>17</td>\n      <td>17</td>\n      <td>17</td>\n      <td>17</td>\n      <td>17</td>\n      <td>17</td>\n      <td>17</td>\n      <td>17</td>\n      <td>17</td>\n      <td>17</td>\n      <td>17</td>\n      <td>17</td>\n    </tr>\n    <tr>\n      <th>Honda</th>\n      <td>449</td>\n      <td>449</td>\n      <td>449</td>\n      <td>447</td>\n      <td>449</td>\n      <td>449</td>\n      <td>449</td>\n      <td>449</td>\n      <td>284</td>\n      <td>449</td>\n      <td>449</td>\n      <td>449</td>\n      <td>449</td>\n      <td>449</td>\n      <td>449</td>\n    </tr>\n    <tr>\n      <th>Hyundai</th>\n      <td>303</td>\n      <td>303</td>\n      <td>303</td>\n      <td>303</td>\n      <td>303</td>\n      <td>303</td>\n      <td>303</td>\n      <td>303</td>\n      <td>214</td>\n      <td>303</td>\n      <td>303</td>\n      <td>303</td>\n      <td>303</td>\n      <td>303</td>\n      <td>303</td>\n    </tr>\n    <tr>\n      <th>Infiniti</th>\n      <td>330</td>\n      <td>330</td>\n      <td>330</td>\n      <td>330</td>\n      <td>330</td>\n      <td>330</td>\n      <td>330</td>\n      <td>330</td>\n      <td>330</td>\n      <td>330</td>\n      <td>330</td>\n      <td>330</td>\n      <td>330</td>\n      <td>330</td>\n      <td>330</td>\n    </tr>\n    <tr>\n      <th>Kia</th>\n      <td>231</td>\n      <td>231</td>\n      <td>231</td>\n      <td>226</td>\n      <td>231</td>\n      <td>231</td>\n      <td>231</td>\n      <td>231</td>\n      <td>109</td>\n      <td>231</td>\n      <td>231</td>\n      <td>231</td>\n      <td>231</td>\n      <td>231</td>\n      <td>231</td>\n    </tr>\n    <tr>\n      <th>Lamborghini</th>\n      <td>52</td>\n      <td>52</td>\n      <td>52</td>\n      <td>52</td>\n      <td>52</td>\n      <td>52</td>\n      <td>52</td>\n      <td>52</td>\n      <td>52</td>\n      <td>52</td>\n      <td>52</td>\n      <td>52</td>\n      <td>52</td>\n      <td>52</td>\n      <td>52</td>\n    </tr>\n    <tr>\n      <th>Land Rover</th>\n      <td>143</td>\n      <td>143</td>\n      <td>143</td>\n      <td>143</td>\n      <td>143</td>\n      <td>143</td>\n      <td>143</td>\n      <td>143</td>\n      <td>143</td>\n      <td>143</td>\n      <td>143</td>\n      <td>143</td>\n      <td>143</td>\n      <td>143</td>\n      <td>143</td>\n    </tr>\n    <tr>\n      <th>Lexus</th>\n      <td>202</td>\n      <td>202</td>\n      <td>202</td>\n      <td>202</td>\n      <td>202</td>\n      <td>202</td>\n      <td>202</td>\n      <td>202</td>\n      <td>202</td>\n      <td>202</td>\n      <td>202</td>\n      <td>202</td>\n      <td>202</td>\n      <td>202</td>\n      <td>202</td>\n    </tr>\n    <tr>\n      <th>Lincoln</th>\n      <td>164</td>\n      <td>164</td>\n      <td>164</td>\n      <td>156</td>\n      <td>164</td>\n      <td>164</td>\n      <td>164</td>\n      <td>164</td>\n      <td>164</td>\n      <td>164</td>\n      <td>164</td>\n      <td>164</td>\n      <td>164</td>\n      <td>164</td>\n      <td>164</td>\n    </tr>\n    <tr>\n      <th>Lotus</th>\n      <td>29</td>\n      <td>29</td>\n      <td>29</td>\n      <td>29</td>\n      <td>29</td>\n      <td>29</td>\n      <td>29</td>\n      <td>29</td>\n      <td>29</td>\n      <td>29</td>\n      <td>29</td>\n      <td>29</td>\n      <td>29</td>\n      <td>29</td>\n      <td>29</td>\n    </tr>\n    <tr>\n      <th>Maserati</th>\n      <td>58</td>\n      <td>58</td>\n      <td>58</td>\n      <td>58</td>\n      <td>58</td>\n      <td>58</td>\n      <td>58</td>\n      <td>58</td>\n      <td>58</td>\n      <td>58</td>\n      <td>58</td>\n      <td>58</td>\n      <td>58</td>\n      <td>58</td>\n      <td>58</td>\n    </tr>\n    <tr>\n      <th>Maybach</th>\n      <td>16</td>\n      <td>16</td>\n      <td>16</td>\n      <td>16</td>\n      <td>16</td>\n      <td>16</td>\n      <td>16</td>\n      <td>16</td>\n      <td>16</td>\n      <td>16</td>\n      <td>16</td>\n      <td>16</td>\n      <td>16</td>\n      <td>16</td>\n      <td>16</td>\n    </tr>\n    <tr>\n      <th>Mazda</th>\n      <td>423</td>\n      <td>423</td>\n      <td>423</td>\n      <td>423</td>\n      <td>403</td>\n      <td>423</td>\n      <td>423</td>\n      <td>423</td>\n      <td>259</td>\n      <td>423</td>\n      <td>423</td>\n      <td>423</td>\n      <td>423</td>\n      <td>423</td>\n      <td>423</td>\n    </tr>\n    <tr>\n      <th>McLaren</th>\n      <td>5</td>\n      <td>5</td>\n      <td>5</td>\n      <td>5</td>\n      <td>5</td>\n      <td>5</td>\n      <td>5</td>\n      <td>5</td>\n      <td>5</td>\n      <td>5</td>\n      <td>5</td>\n      <td>5</td>\n      <td>5</td>\n      <td>5</td>\n      <td>5</td>\n    </tr>\n    <tr>\n      <th>Mercedes-Benz</th>\n      <td>353</td>\n      <td>353</td>\n      <td>353</td>\n      <td>352</td>\n      <td>353</td>\n      <td>353</td>\n      <td>353</td>\n      <td>353</td>\n      <td>353</td>\n      <td>353</td>\n      <td>353</td>\n      <td>353</td>\n      <td>353</td>\n      <td>353</td>\n      <td>353</td>\n    </tr>\n    <tr>\n      <th>Mitsubishi</th>\n      <td>213</td>\n      <td>213</td>\n      <td>213</td>\n      <td>212</td>\n      <td>210</td>\n      <td>213</td>\n      <td>213</td>\n      <td>213</td>\n      <td>128</td>\n      <td>213</td>\n      <td>213</td>\n      <td>213</td>\n      <td>213</td>\n      <td>213</td>\n      <td>213</td>\n    </tr>\n    <tr>\n      <th>Nissan</th>\n      <td>558</td>\n      <td>558</td>\n      <td>558</td>\n      <td>548</td>\n      <td>558</td>\n      <td>558</td>\n      <td>558</td>\n      <td>558</td>\n      <td>318</td>\n      <td>558</td>\n      <td>558</td>\n      <td>558</td>\n      <td>558</td>\n      <td>558</td>\n      <td>558</td>\n    </tr>\n    <tr>\n      <th>Oldsmobile</th>\n      <td>150</td>\n      <td>150</td>\n      <td>150</td>\n      <td>150</td>\n      <td>150</td>\n      <td>150</td>\n      <td>150</td>\n      <td>150</td>\n      <td>3</td>\n      <td>150</td>\n      <td>150</td>\n      <td>150</td>\n      <td>150</td>\n      <td>150</td>\n      <td>150</td>\n    </tr>\n    <tr>\n      <th>Plymouth</th>\n      <td>82</td>\n      <td>82</td>\n      <td>82</td>\n      <td>82</td>\n      <td>82</td>\n      <td>82</td>\n      <td>82</td>\n      <td>82</td>\n      <td>39</td>\n      <td>82</td>\n      <td>82</td>\n      <td>82</td>\n      <td>82</td>\n      <td>82</td>\n      <td>82</td>\n    </tr>\n    <tr>\n      <th>Pontiac</th>\n      <td>186</td>\n      <td>186</td>\n      <td>186</td>\n      <td>186</td>\n      <td>186</td>\n      <td>186</td>\n      <td>186</td>\n      <td>186</td>\n      <td>77</td>\n      <td>186</td>\n      <td>186</td>\n      <td>186</td>\n      <td>186</td>\n      <td>186</td>\n      <td>186</td>\n    </tr>\n    <tr>\n      <th>Porsche</th>\n      <td>136</td>\n      <td>136</td>\n      <td>136</td>\n      <td>136</td>\n      <td>136</td>\n      <td>136</td>\n      <td>136</td>\n      <td>136</td>\n      <td>136</td>\n      <td>136</td>\n      <td>136</td>\n      <td>136</td>\n      <td>136</td>\n      <td>136</td>\n      <td>136</td>\n    </tr>\n    <tr>\n      <th>Rolls-Royce</th>\n      <td>31</td>\n      <td>31</td>\n      <td>31</td>\n      <td>31</td>\n      <td>31</td>\n      <td>31</td>\n      <td>31</td>\n      <td>31</td>\n      <td>31</td>\n      <td>31</td>\n      <td>31</td>\n      <td>31</td>\n      <td>31</td>\n      <td>31</td>\n      <td>31</td>\n    </tr>\n    <tr>\n      <th>Saab</th>\n      <td>111</td>\n      <td>111</td>\n      <td>111</td>\n      <td>111</td>\n      <td>111</td>\n      <td>111</td>\n      <td>111</td>\n      <td>111</td>\n      <td>111</td>\n      <td>111</td>\n      <td>111</td>\n      <td>111</td>\n      <td>111</td>\n      <td>111</td>\n      <td>111</td>\n    </tr>\n    <tr>\n      <th>Scion</th>\n      <td>60</td>\n      <td>60</td>\n      <td>60</td>\n      <td>60</td>\n      <td>60</td>\n      <td>60</td>\n      <td>60</td>\n      <td>60</td>\n      <td>48</td>\n      <td>60</td>\n      <td>60</td>\n      <td>60</td>\n      <td>60</td>\n      <td>60</td>\n      <td>60</td>\n    </tr>\n    <tr>\n      <th>Spyker</th>\n      <td>3</td>\n      <td>3</td>\n      <td>3</td>\n      <td>3</td>\n      <td>3</td>\n      <td>3</td>\n      <td>3</td>\n      <td>3</td>\n      <td>3</td>\n      <td>3</td>\n      <td>3</td>\n      <td>3</td>\n      <td>3</td>\n      <td>3</td>\n      <td>3</td>\n    </tr>\n    <tr>\n      <th>Subaru</th>\n      <td>256</td>\n      <td>256</td>\n      <td>256</td>\n      <td>256</td>\n      <td>256</td>\n      <td>256</td>\n      <td>256</td>\n      <td>256</td>\n      <td>214</td>\n      <td>256</td>\n      <td>256</td>\n      <td>256</td>\n      <td>256</td>\n      <td>256</td>\n      <td>256</td>\n    </tr>\n    <tr>\n      <th>Suzuki</th>\n      <td>351</td>\n      <td>351</td>\n      <td>348</td>\n      <td>351</td>\n      <td>351</td>\n      <td>351</td>\n      <td>351</td>\n      <td>351</td>\n      <td>99</td>\n      <td>351</td>\n      <td>351</td>\n      <td>351</td>\n      <td>351</td>\n      <td>351</td>\n      <td>351</td>\n    </tr>\n    <tr>\n      <th>Tesla</th>\n      <td>18</td>\n      <td>18</td>\n      <td>18</td>\n      <td>0</td>\n      <td>18</td>\n      <td>18</td>\n      <td>18</td>\n      <td>13</td>\n      <td>18</td>\n      <td>18</td>\n      <td>18</td>\n      <td>18</td>\n      <td>18</td>\n      <td>18</td>\n      <td>18</td>\n    </tr>\n    <tr>\n      <th>Toyota</th>\n      <td>746</td>\n      <td>746</td>\n      <td>746</td>\n      <td>744</td>\n      <td>745</td>\n      <td>746</td>\n      <td>746</td>\n      <td>746</td>\n      <td>303</td>\n      <td>746</td>\n      <td>746</td>\n      <td>746</td>\n      <td>746</td>\n      <td>746</td>\n      <td>746</td>\n    </tr>\n    <tr>\n      <th>Volkswagen</th>\n      <td>809</td>\n      <td>809</td>\n      <td>809</td>\n      <td>809</td>\n      <td>805</td>\n      <td>809</td>\n      <td>809</td>\n      <td>809</td>\n      <td>585</td>\n      <td>809</td>\n      <td>809</td>\n      <td>809</td>\n      <td>809</td>\n      <td>809</td>\n      <td>809</td>\n    </tr>\n    <tr>\n      <th>Volvo</th>\n      <td>281</td>\n      <td>281</td>\n      <td>281</td>\n      <td>281</td>\n      <td>281</td>\n      <td>281</td>\n      <td>281</td>\n      <td>281</td>\n      <td>281</td>\n      <td>281</td>\n      <td>281</td>\n      <td>281</td>\n      <td>281</td>\n      <td>281</td>\n      <td>281</td>\n    </tr>\n  </tbody>\n</table>\n</div>"
     },
     "execution_count": 10,
     "metadata": {},
     "output_type": "execute_result"
    }
   ],
   "source": [
    "df.groupby('Make').count()"
   ],
   "metadata": {
    "collapsed": false,
    "pycharm": {
     "name": "#%%\n"
    }
   }
  },
  {
   "cell_type": "code",
   "execution_count": 13,
   "outputs": [
    {
     "data": {
      "text/plain": "Chevrolet     1123\nFord           881\nVolkswagen     809\nName: Make, dtype: int64"
     },
     "execution_count": 13,
     "metadata": {},
     "output_type": "execute_result"
    }
   ],
   "source": [
    "# Who are the most popular car manufacturers (top-3) according to the dataset?\n",
    "df.Make.value_counts(ascending=False)[:3]"
   ],
   "metadata": {
    "collapsed": false,
    "pycharm": {
     "name": "#%%\n"
    }
   }
  },
  {
   "cell_type": "code",
   "execution_count": 14,
   "outputs": [
    {
     "data": {
      "text/plain": "Make                   1\nModel                 34\nYear                  20\nEngine Fuel Type       5\nEngine HP             40\nEngine Cylinders       6\nTransmission Type      3\nDriven_Wheels          2\nNumber of Doors        2\nMarket Category       15\nVehicle Size           3\nVehicle Style          6\nhighway MPG           23\ncity mpg              18\nPopularity             1\nMSRP                 234\ndtype: int64"
     },
     "execution_count": 14,
     "metadata": {},
     "output_type": "execute_result"
    }
   ],
   "source": [
    "# Number of unique Audi car models = 34\n",
    "df[(df.Make == 'Audi')].nunique()"
   ],
   "metadata": {
    "collapsed": false,
    "pycharm": {
     "name": "#%%\n"
    }
   }
  },
  {
   "cell_type": "code",
   "execution_count": 15,
   "outputs": [
    {
     "data": {
      "text/plain": "Make                    0\nModel                   0\nYear                    0\nEngine Fuel Type        3\nEngine HP              69\nEngine Cylinders       30\nTransmission Type       0\nDriven_Wheels           0\nNumber of Doors         6\nMarket Category      3742\nVehicle Size            0\nVehicle Style           0\nhighway MPG             0\ncity mpg                0\nPopularity              0\nMSRP                    0\ndtype: int64"
     },
     "execution_count": 15,
     "metadata": {},
     "output_type": "execute_result"
    }
   ],
   "source": [
    "# Number of columns with missing values\n",
    "df.isnull().sum()"
   ],
   "metadata": {
    "collapsed": false,
    "pycharm": {
     "name": "#%%\n"
    }
   }
  },
  {
   "cell_type": "code",
   "execution_count": 16,
   "outputs": [
    {
     "data": {
      "text/plain": "6.0"
     },
     "execution_count": 16,
     "metadata": {},
     "output_type": "execute_result"
    }
   ],
   "source": [
    "#Does the median value change after filling missing values\n",
    "df['Engine Cylinders'].median()"
   ],
   "metadata": {
    "collapsed": false,
    "pycharm": {
     "name": "#%%\n"
    }
   }
  },
  {
   "cell_type": "code",
   "execution_count": 17,
   "outputs": [
    {
     "data": {
      "text/plain": "count    11884.000000\nmean         5.628829\nstd          1.780559\nmin          0.000000\n25%          4.000000\n50%          6.000000\n75%          6.000000\nmax         16.000000\nName: Engine Cylinders, dtype: float64"
     },
     "execution_count": 17,
     "metadata": {},
     "output_type": "execute_result"
    }
   ],
   "source": [
    "df['Engine Cylinders'].describe()"
   ],
   "metadata": {
    "collapsed": false,
    "pycharm": {
     "name": "#%%\n"
    }
   }
  },
  {
   "cell_type": "code",
   "execution_count": 18,
   "outputs": [
    {
     "data": {
      "text/plain": "30"
     },
     "execution_count": 18,
     "metadata": {},
     "output_type": "execute_result"
    }
   ],
   "source": [
    "df['Engine Cylinders'].isna().sum()"
   ],
   "metadata": {
    "collapsed": false,
    "pycharm": {
     "name": "#%%\n"
    }
   }
  },
  {
   "cell_type": "code",
   "execution_count": 19,
   "outputs": [
    {
     "data": {
      "text/plain": "0        6.0\n1        6.0\n2        6.0\n3        6.0\n4        6.0\n        ... \n11909    6.0\n11910    6.0\n11911    6.0\n11912    6.0\n11913    6.0\nName: Engine Cylinders, Length: 11914, dtype: float64"
     },
     "execution_count": 19,
     "metadata": {},
     "output_type": "execute_result"
    }
   ],
   "source": [
    "df['Engine Cylinders'].fillna(value=6)"
   ],
   "metadata": {
    "collapsed": false,
    "pycharm": {
     "name": "#%%\n"
    }
   }
  },
  {
   "cell_type": "code",
   "execution_count": 20,
   "outputs": [
    {
     "data": {
      "text/plain": "6.0"
     },
     "execution_count": 20,
     "metadata": {},
     "output_type": "execute_result"
    }
   ],
   "source": [
    "df['Engine Cylinders'].median() # Median doesn't change"
   ],
   "metadata": {
    "collapsed": false,
    "pycharm": {
     "name": "#%%\n"
    }
   }
  },
  {
   "cell_type": "code",
   "execution_count": 21,
   "outputs": [
    {
     "data": {
      "text/plain": "array([[189.,   4.],\n       [218.,   4.],\n       [217.,   4.],\n       [350.,   8.],\n       [400.,   6.],\n       [276.,   6.],\n       [345.,   6.],\n       [257.,   4.],\n       [240.,   4.]])"
     },
     "execution_count": 21,
     "metadata": {},
     "output_type": "execute_result"
    }
   ],
   "source": [
    "# Value of the first element of w\n",
    "X = df[df.Make == 'Lotus'][['Engine HP','Engine Cylinders']].drop_duplicates().values\n",
    "X"
   ],
   "metadata": {
    "collapsed": false,
    "pycharm": {
     "name": "#%%\n"
    }
   }
  },
  {
   "cell_type": "code",
   "execution_count": 22,
   "outputs": [
    {
     "data": {
      "text/plain": "array([[189., 218., 217., 350., 400., 276., 345., 257., 240.],\n       [  4.,   4.,   4.,   8.,   6.,   6.,   6.,   4.,   4.]])"
     },
     "execution_count": 22,
     "metadata": {},
     "output_type": "execute_result"
    }
   ],
   "source": [
    "X_transpose = X.transpose()\n",
    "X_transpose"
   ],
   "metadata": {
    "collapsed": false,
    "pycharm": {
     "name": "#%%\n"
    }
   }
  },
  {
   "cell_type": "code",
   "execution_count": 23,
   "outputs": [
    {
     "data": {
      "text/plain": "array([[7.31684e+05, 1.34100e+04],\n       [1.34100e+04, 2.52000e+02]])"
     },
     "execution_count": 23,
     "metadata": {},
     "output_type": "execute_result"
    }
   ],
   "source": [
    "XTX = X_transpose.dot(X)\n",
    "XTX"
   ],
   "metadata": {
    "collapsed": false,
    "pycharm": {
     "name": "#%%\n"
    }
   }
  },
  {
   "cell_type": "code",
   "execution_count": 24,
   "outputs": [
    {
     "data": {
      "text/plain": "array([[ 5.53084235e-05, -2.94319825e-03],\n       [-2.94319825e-03,  1.60588447e-01]])"
     },
     "execution_count": 24,
     "metadata": {},
     "output_type": "execute_result"
    }
   ],
   "source": [
    "X_inv = np.linalg.inv(XTX)\n",
    "X_inv"
   ],
   "metadata": {
    "collapsed": false,
    "pycharm": {
     "name": "#%%\n"
    }
   }
  },
  {
   "cell_type": "code",
   "execution_count": 26,
   "outputs": [],
   "source": [
    "y = [1100, 800, 750, 850, 1300, 1000, 1000, 1300, 800]"
   ],
   "metadata": {
    "collapsed": false,
    "pycharm": {
     "name": "#%%\n"
    }
   }
  },
  {
   "cell_type": "code",
   "execution_count": 27,
   "outputs": [
    {
     "data": {
      "text/plain": "array([  4.59494481, -63.56432501])"
     },
     "execution_count": 27,
     "metadata": {},
     "output_type": "execute_result"
    }
   ],
   "source": [
    "w = X_inv.dot(X_transpose).dot(y)\n",
    "w"
   ],
   "metadata": {
    "collapsed": false,
    "pycharm": {
     "name": "#%%\n"
    }
   }
  },
  {
   "cell_type": "code",
   "execution_count": 28,
   "outputs": [
    {
     "data": {
      "text/plain": "4.594944810094551"
     },
     "execution_count": 28,
     "metadata": {},
     "output_type": "execute_result"
    }
   ],
   "source": [
    "w[0]"
   ],
   "metadata": {
    "collapsed": false,
    "pycharm": {
     "name": "#%%\n"
    }
   }
  },
  {
   "cell_type": "code",
   "execution_count": null,
   "outputs": [],
   "source": [],
   "metadata": {
    "collapsed": false,
    "pycharm": {
     "name": "#%%\n"
    }
   }
  }
 ],
 "metadata": {
  "kernelspec": {
   "display_name": "Python 3",
   "language": "python",
   "name": "python3"
  },
  "language_info": {
   "codemirror_mode": {
    "name": "ipython",
    "version": 2
   },
   "file_extension": ".py",
   "mimetype": "text/x-python",
   "name": "python",
   "nbconvert_exporter": "python",
   "pygments_lexer": "ipython2",
   "version": "2.7.6"
  }
 },
 "nbformat": 4,
 "nbformat_minor": 0
}