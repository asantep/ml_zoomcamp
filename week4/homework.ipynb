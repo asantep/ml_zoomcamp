{
 "cells": [
  {
   "cell_type": "code",
   "execution_count": 1,
   "metadata": {
    "collapsed": true
   },
   "outputs": [],
   "source": [
    "import pandas as pd\n",
    "import numpy as np\n",
    "from matplotlib import pyplot as plt\n",
    "from sklearn.model_selection import train_test_split\n",
    "from sklearn.feature_extraction import DictVectorizer\n",
    "from sklearn.linear_model import LogisticRegression\n",
    "from sklearn.metrics import roc_auc_score\n",
    "from sklearn.model_selection import KFold\n",
    "import warnings\n",
    "\n",
    "plt.style.use('ggplot')\n",
    "warnings.filterwarnings(action='ignore', category=DeprecationWarning)"
   ]
  },
  {
   "cell_type": "code",
   "execution_count": 2,
   "outputs": [
    {
     "data": {
      "text/plain": "  card  reports       age  income     share  expenditure owner selfemp  \\\n0  yes        0  37.66667  4.5200  0.033270   124.983300   yes      no   \n1  yes        0  33.25000  2.4200  0.005217     9.854167    no      no   \n2  yes        0  33.66667  4.5000  0.004156    15.000000   yes      no   \n3  yes        0  30.50000  2.5400  0.065214   137.869200    no      no   \n4  yes        0  32.16667  9.7867  0.067051   546.503300   yes      no   \n\n   dependents  months  majorcards  active  \n0           3      54           1      12  \n1           3      34           1      13  \n2           4      58           1       5  \n3           0      25           1       7  \n4           2      64           1       5  ",
      "text/html": "<div>\n<style scoped>\n    .dataframe tbody tr th:only-of-type {\n        vertical-align: middle;\n    }\n\n    .dataframe tbody tr th {\n        vertical-align: top;\n    }\n\n    .dataframe thead th {\n        text-align: right;\n    }\n</style>\n<table border=\"1\" class=\"dataframe\">\n  <thead>\n    <tr style=\"text-align: right;\">\n      <th></th>\n      <th>card</th>\n      <th>reports</th>\n      <th>age</th>\n      <th>income</th>\n      <th>share</th>\n      <th>expenditure</th>\n      <th>owner</th>\n      <th>selfemp</th>\n      <th>dependents</th>\n      <th>months</th>\n      <th>majorcards</th>\n      <th>active</th>\n    </tr>\n  </thead>\n  <tbody>\n    <tr>\n      <th>0</th>\n      <td>yes</td>\n      <td>0</td>\n      <td>37.66667</td>\n      <td>4.5200</td>\n      <td>0.033270</td>\n      <td>124.983300</td>\n      <td>yes</td>\n      <td>no</td>\n      <td>3</td>\n      <td>54</td>\n      <td>1</td>\n      <td>12</td>\n    </tr>\n    <tr>\n      <th>1</th>\n      <td>yes</td>\n      <td>0</td>\n      <td>33.25000</td>\n      <td>2.4200</td>\n      <td>0.005217</td>\n      <td>9.854167</td>\n      <td>no</td>\n      <td>no</td>\n      <td>3</td>\n      <td>34</td>\n      <td>1</td>\n      <td>13</td>\n    </tr>\n    <tr>\n      <th>2</th>\n      <td>yes</td>\n      <td>0</td>\n      <td>33.66667</td>\n      <td>4.5000</td>\n      <td>0.004156</td>\n      <td>15.000000</td>\n      <td>yes</td>\n      <td>no</td>\n      <td>4</td>\n      <td>58</td>\n      <td>1</td>\n      <td>5</td>\n    </tr>\n    <tr>\n      <th>3</th>\n      <td>yes</td>\n      <td>0</td>\n      <td>30.50000</td>\n      <td>2.5400</td>\n      <td>0.065214</td>\n      <td>137.869200</td>\n      <td>no</td>\n      <td>no</td>\n      <td>0</td>\n      <td>25</td>\n      <td>1</td>\n      <td>7</td>\n    </tr>\n    <tr>\n      <th>4</th>\n      <td>yes</td>\n      <td>0</td>\n      <td>32.16667</td>\n      <td>9.7867</td>\n      <td>0.067051</td>\n      <td>546.503300</td>\n      <td>yes</td>\n      <td>no</td>\n      <td>2</td>\n      <td>64</td>\n      <td>1</td>\n      <td>5</td>\n    </tr>\n  </tbody>\n</table>\n</div>"
     },
     "execution_count": 2,
     "metadata": {},
     "output_type": "execute_result"
    }
   ],
   "source": [
    "df = pd.read_csv('https://raw.githubusercontent.com/alexeygrigorev/datasets/master/AER_credit_card_data.csv')\n",
    "df.head()"
   ],
   "metadata": {
    "collapsed": false,
    "pycharm": {
     "name": "#%%\n"
    }
   }
  },
  {
   "cell_type": "code",
   "execution_count": 3,
   "outputs": [
    {
     "name": "stdout",
     "output_type": "stream",
     "text": [
      "Index(['card', 'reports', 'age', 'income', 'share', 'expenditure', 'owner',\n",
      "       'selfemp', 'dependents', 'months', 'majorcards', 'active'],\n",
      "      dtype='object')\n",
      "(1319, 12)\n"
     ]
    }
   ],
   "source": [
    "print(df.columns)\n",
    "print(df.shape)"
   ],
   "metadata": {
    "collapsed": false,
    "pycharm": {
     "name": "#%%\n"
    }
   }
  },
  {
   "cell_type": "code",
   "execution_count": 4,
   "outputs": [
    {
     "data": {
      "text/plain": "card            object\nreports          int64\nage            float64\nincome         float64\nshare          float64\nexpenditure    float64\nowner           object\nselfemp         object\ndependents       int64\nmonths           int64\nmajorcards       int64\nactive           int64\ndtype: object"
     },
     "execution_count": 4,
     "metadata": {},
     "output_type": "execute_result"
    }
   ],
   "source": [
    "df.dtypes"
   ],
   "metadata": {
    "collapsed": false,
    "pycharm": {
     "name": "#%%\n"
    }
   }
  },
  {
   "cell_type": "code",
   "execution_count": 5,
   "outputs": [
    {
     "data": {
      "text/plain": "   card  reports       age  income     share  expenditure owner selfemp  \\\n0     1        0  37.66667  4.5200  0.033270   124.983300   yes      no   \n1     1        0  33.25000  2.4200  0.005217     9.854167    no      no   \n2     1        0  33.66667  4.5000  0.004156    15.000000   yes      no   \n3     1        0  30.50000  2.5400  0.065214   137.869200    no      no   \n4     1        0  32.16667  9.7867  0.067051   546.503300   yes      no   \n\n   dependents  months  majorcards  active  \n0           3      54           1      12  \n1           3      34           1      13  \n2           4      58           1       5  \n3           0      25           1       7  \n4           2      64           1       5  ",
      "text/html": "<div>\n<style scoped>\n    .dataframe tbody tr th:only-of-type {\n        vertical-align: middle;\n    }\n\n    .dataframe tbody tr th {\n        vertical-align: top;\n    }\n\n    .dataframe thead th {\n        text-align: right;\n    }\n</style>\n<table border=\"1\" class=\"dataframe\">\n  <thead>\n    <tr style=\"text-align: right;\">\n      <th></th>\n      <th>card</th>\n      <th>reports</th>\n      <th>age</th>\n      <th>income</th>\n      <th>share</th>\n      <th>expenditure</th>\n      <th>owner</th>\n      <th>selfemp</th>\n      <th>dependents</th>\n      <th>months</th>\n      <th>majorcards</th>\n      <th>active</th>\n    </tr>\n  </thead>\n  <tbody>\n    <tr>\n      <th>0</th>\n      <td>1</td>\n      <td>0</td>\n      <td>37.66667</td>\n      <td>4.5200</td>\n      <td>0.033270</td>\n      <td>124.983300</td>\n      <td>yes</td>\n      <td>no</td>\n      <td>3</td>\n      <td>54</td>\n      <td>1</td>\n      <td>12</td>\n    </tr>\n    <tr>\n      <th>1</th>\n      <td>1</td>\n      <td>0</td>\n      <td>33.25000</td>\n      <td>2.4200</td>\n      <td>0.005217</td>\n      <td>9.854167</td>\n      <td>no</td>\n      <td>no</td>\n      <td>3</td>\n      <td>34</td>\n      <td>1</td>\n      <td>13</td>\n    </tr>\n    <tr>\n      <th>2</th>\n      <td>1</td>\n      <td>0</td>\n      <td>33.66667</td>\n      <td>4.5000</td>\n      <td>0.004156</td>\n      <td>15.000000</td>\n      <td>yes</td>\n      <td>no</td>\n      <td>4</td>\n      <td>58</td>\n      <td>1</td>\n      <td>5</td>\n    </tr>\n    <tr>\n      <th>3</th>\n      <td>1</td>\n      <td>0</td>\n      <td>30.50000</td>\n      <td>2.5400</td>\n      <td>0.065214</td>\n      <td>137.869200</td>\n      <td>no</td>\n      <td>no</td>\n      <td>0</td>\n      <td>25</td>\n      <td>1</td>\n      <td>7</td>\n    </tr>\n    <tr>\n      <th>4</th>\n      <td>1</td>\n      <td>0</td>\n      <td>32.16667</td>\n      <td>9.7867</td>\n      <td>0.067051</td>\n      <td>546.503300</td>\n      <td>yes</td>\n      <td>no</td>\n      <td>2</td>\n      <td>64</td>\n      <td>1</td>\n      <td>5</td>\n    </tr>\n  </tbody>\n</table>\n</div>"
     },
     "execution_count": 5,
     "metadata": {},
     "output_type": "execute_result"
    }
   ],
   "source": [
    "df.card = (df.card == 'yes').astype(int)\n",
    "df.head()"
   ],
   "metadata": {
    "collapsed": false,
    "pycharm": {
     "name": "#%%\n"
    }
   }
  },
  {
   "cell_type": "code",
   "execution_count": 6,
   "outputs": [],
   "source": [
    "df_full_train, df_test = train_test_split(df, test_size=0.2, random_state=1)\n",
    "df_train, df_val = train_test_split(df_full_train, test_size=0.25, random_state=1)\n",
    "\n",
    "df_train = df_train.reset_index(drop=True)\n",
    "df_val = df_val.reset_index(drop=True)\n",
    "df_test = df_test.reset_index(drop=True)\n",
    "\n",
    "y_train = df_train.card.values\n",
    "y_val = df_val.card.values\n",
    "y_test = df_test.card.values\n",
    "\n",
    "del df_train['card']\n",
    "del df_val['card']\n",
    "del df_test['card']"
   ],
   "metadata": {
    "collapsed": false,
    "pycharm": {
     "name": "#%%\n"
    }
   }
  },
  {
   "cell_type": "code",
   "execution_count": 7,
   "outputs": [
    {
     "data": {
      "text/plain": "   card  reports       age  income     share  expenditure owner selfemp  \\\n0     0        1  36.83333  3.0000  0.000400     0.000000   yes      no   \n1     1        0  35.58333  3.5606  0.109084   323.587500    no      no   \n2     1        0  25.66667  2.0000  0.004900     7.416667    no      no   \n3     0        0  25.58333  1.7500  0.000686     0.000000    no      no   \n4     1        1  48.66667  6.0000  0.177017   885.085800   yes      no   \n\n   dependents  months  majorcards  active  \n0           1      12           1      16  \n1           0      12           1       0  \n2           0      26           1      13  \n3           0     108           0       0  \n4           3     114           1      19  ",
      "text/html": "<div>\n<style scoped>\n    .dataframe tbody tr th:only-of-type {\n        vertical-align: middle;\n    }\n\n    .dataframe tbody tr th {\n        vertical-align: top;\n    }\n\n    .dataframe thead th {\n        text-align: right;\n    }\n</style>\n<table border=\"1\" class=\"dataframe\">\n  <thead>\n    <tr style=\"text-align: right;\">\n      <th></th>\n      <th>card</th>\n      <th>reports</th>\n      <th>age</th>\n      <th>income</th>\n      <th>share</th>\n      <th>expenditure</th>\n      <th>owner</th>\n      <th>selfemp</th>\n      <th>dependents</th>\n      <th>months</th>\n      <th>majorcards</th>\n      <th>active</th>\n    </tr>\n  </thead>\n  <tbody>\n    <tr>\n      <th>0</th>\n      <td>0</td>\n      <td>1</td>\n      <td>36.83333</td>\n      <td>3.0000</td>\n      <td>0.000400</td>\n      <td>0.000000</td>\n      <td>yes</td>\n      <td>no</td>\n      <td>1</td>\n      <td>12</td>\n      <td>1</td>\n      <td>16</td>\n    </tr>\n    <tr>\n      <th>1</th>\n      <td>1</td>\n      <td>0</td>\n      <td>35.58333</td>\n      <td>3.5606</td>\n      <td>0.109084</td>\n      <td>323.587500</td>\n      <td>no</td>\n      <td>no</td>\n      <td>0</td>\n      <td>12</td>\n      <td>1</td>\n      <td>0</td>\n    </tr>\n    <tr>\n      <th>2</th>\n      <td>1</td>\n      <td>0</td>\n      <td>25.66667</td>\n      <td>2.0000</td>\n      <td>0.004900</td>\n      <td>7.416667</td>\n      <td>no</td>\n      <td>no</td>\n      <td>0</td>\n      <td>26</td>\n      <td>1</td>\n      <td>13</td>\n    </tr>\n    <tr>\n      <th>3</th>\n      <td>0</td>\n      <td>0</td>\n      <td>25.58333</td>\n      <td>1.7500</td>\n      <td>0.000686</td>\n      <td>0.000000</td>\n      <td>no</td>\n      <td>no</td>\n      <td>0</td>\n      <td>108</td>\n      <td>0</td>\n      <td>0</td>\n    </tr>\n    <tr>\n      <th>4</th>\n      <td>1</td>\n      <td>1</td>\n      <td>48.66667</td>\n      <td>6.0000</td>\n      <td>0.177017</td>\n      <td>885.085800</td>\n      <td>yes</td>\n      <td>no</td>\n      <td>3</td>\n      <td>114</td>\n      <td>1</td>\n      <td>19</td>\n    </tr>\n  </tbody>\n</table>\n</div>"
     },
     "execution_count": 7,
     "metadata": {},
     "output_type": "execute_result"
    }
   ],
   "source": [
    "df_full_train = df_full_train.reset_index(drop=True)\n",
    "df_full_train.head()"
   ],
   "metadata": {
    "collapsed": false,
    "pycharm": {
     "name": "#%%\n"
    }
   }
  },
  {
   "cell_type": "code",
   "execution_count": 8,
   "outputs": [
    {
     "data": {
      "text/plain": "card             int64\nreports          int64\nage            float64\nincome         float64\nshare          float64\nexpenditure    float64\nowner           object\nselfemp         object\ndependents       int64\nmonths           int64\nmajorcards       int64\nactive           int64\ndtype: object"
     },
     "execution_count": 8,
     "metadata": {},
     "output_type": "execute_result"
    }
   ],
   "source": [
    "df.dtypes"
   ],
   "metadata": {
    "collapsed": false,
    "pycharm": {
     "name": "#%%\n"
    }
   }
  },
  {
   "cell_type": "code",
   "execution_count": 9,
   "outputs": [],
   "source": [
    "categorical = ['owner', 'selfemp']\n",
    "numerical = ['reports', 'age', 'income', 'share', 'expenditure', 'dependents', 'months', 'majorcards', 'active']"
   ],
   "metadata": {
    "collapsed": false,
    "pycharm": {
     "name": "#%%\n"
    }
   }
  },
  {
   "cell_type": "code",
   "execution_count": 10,
   "outputs": [
    {
     "name": "stdout",
     "output_type": "stream",
     "text": [
      "column: reports, auc: 0.717\n",
      "column: age, auc: 0.524\n",
      "column: income, auc: 0.591\n",
      "column: share, auc: 0.989\n",
      "column: expenditure, auc: 0.991\n",
      "column: dependents, auc: 0.533\n",
      "column: months, auc: 0.529\n",
      "column: majorcards, auc: 0.534\n",
      "column: active, auc: 0.604\n"
     ]
    }
   ],
   "source": [
    "for c in numerical:\n",
    "    auc = roc_auc_score(y_train, df_train[c])\n",
    "    if auc < 0.5:\n",
    "        auc = roc_auc_score(y_train, -df_train[c])\n",
    "    print(f'column: {c}, auc: {round(auc,3)}')"
   ],
   "metadata": {
    "collapsed": false,
    "pycharm": {
     "name": "#%%\n"
    }
   }
  },
  {
   "cell_type": "markdown",
   "source": [
    "Question 1 - Reports"
   ],
   "metadata": {
    "collapsed": false
   }
  },
  {
   "cell_type": "code",
   "execution_count": 11,
   "outputs": [],
   "source": [
    "columns = [\"reports\", \"age\", \"income\", \"share\", \"expenditure\", \"dependents\", \"months\", \"majorcards\", \"active\", \"owner\", \"selfemp\"]"
   ],
   "metadata": {
    "collapsed": false,
    "pycharm": {
     "name": "#%%\n"
    }
   }
  },
  {
   "cell_type": "code",
   "execution_count": 12,
   "outputs": [],
   "source": [
    "train_dicts = df_train[columns].to_dict(orient='records')\n",
    "dv = DictVectorizer(sparse=False)\n",
    "X_train = dv.fit_transform(train_dicts)\n",
    "\n",
    "model = LogisticRegression(solver='liblinear', C=1.0, max_iter=1000)\n",
    "model.fit(X_train, y_train)\n",
    "\n",
    "val_dicts = df_val[columns].to_dict(orient='records')\n",
    "X_val = dv.transform(val_dicts)\n",
    "\n",
    "y_pred = model.predict_proba(X_val)[:, 1]"
   ],
   "metadata": {
    "collapsed": false,
    "pycharm": {
     "name": "#%%\n"
    }
   }
  },
  {
   "cell_type": "code",
   "execution_count": 13,
   "outputs": [
    {
     "name": "stdout",
     "output_type": "stream",
     "text": [
      "0.995\n"
     ]
    }
   ],
   "source": [
    "auc = roc_auc_score(y_val, y_pred)\n",
    "print(round(auc, 3))"
   ],
   "metadata": {
    "collapsed": false,
    "pycharm": {
     "name": "#%%\n"
    }
   }
  },
  {
   "cell_type": "markdown",
   "source": [
    "Question 2 - 0.995"
   ],
   "metadata": {
    "collapsed": false
   }
  },
  {
   "cell_type": "code",
   "execution_count": 14,
   "outputs": [],
   "source": [
    "def tpr_fpr_dataframe(y_val, y_pred):\n",
    "    scores = []\n",
    "\n",
    "    thresholds = np.linspace(0, 1, 101)\n",
    "\n",
    "    for t in thresholds:\n",
    "        actual_positive = (y_val == 1)\n",
    "        actual_negative = (y_val == 0)\n",
    "\n",
    "        predict_positive = (y_pred >= t)\n",
    "        predict_negative = (y_pred < t)\n",
    "\n",
    "        tp = (predict_positive & actual_positive).sum()\n",
    "        tn = (predict_negative & actual_negative).sum()\n",
    "        fp = (predict_positive & actual_negative).sum()\n",
    "        fn = (predict_negative & actual_positive).sum()\n",
    "\n",
    "        scores.append((t, tp, fp, fn, tn))\n",
    "\n",
    "    columns = ['threshold', 'tp' ,'fp', 'fn', 'tn']\n",
    "    df_scores = pd.DataFrame(scores, columns=columns)\n",
    "\n",
    "    df_scores['tpr'] = df_scores.tp / (df_scores.tp + df_scores.fn)\n",
    "    df_scores['fpr'] = df_scores.fp / (df_scores.fp + df_scores.tn)\n",
    "    return df_scores"
   ],
   "metadata": {
    "collapsed": false,
    "pycharm": {
     "name": "#%%\n"
    }
   }
  },
  {
   "cell_type": "code",
   "execution_count": 15,
   "outputs": [],
   "source": [
    "df_scores = tpr_fpr_dataframe(y_val, y_pred)"
   ],
   "metadata": {
    "collapsed": false,
    "pycharm": {
     "name": "#%%\n"
    }
   }
  },
  {
   "cell_type": "code",
   "execution_count": 16,
   "outputs": [],
   "source": [
    "df_scores['precision'] = df_scores.tp / (df_scores.tp + df_scores.fp)\n",
    "df_scores['recall'] = df_scores.tp / (df_scores.tp + df_scores.fn)"
   ],
   "metadata": {
    "collapsed": false,
    "pycharm": {
     "name": "#%%\n"
    }
   }
  },
  {
   "cell_type": "code",
   "execution_count": 17,
   "outputs": [
    {
     "data": {
      "text/plain": "     threshold   tp  fp  fn  tn       tpr       fpr  precision    recall\n0         0.00  211  53   0   0  1.000000  1.000000   0.799242  1.000000\n1         0.01  211  34   0  19  1.000000  0.641509   0.861224  1.000000\n2         0.02  211  31   0  22  1.000000  0.584906   0.871901  1.000000\n3         0.03  211  24   0  29  1.000000  0.452830   0.897872  1.000000\n4         0.04  211  22   0  31  1.000000  0.415094   0.905579  1.000000\n..         ...  ...  ..  ..  ..       ...       ...        ...       ...\n96        0.96  204   0   7  53  0.966825  0.000000   1.000000  0.966825\n97        0.97  203   0   8  53  0.962085  0.000000   1.000000  0.962085\n98        0.98  203   0   8  53  0.962085  0.000000   1.000000  0.962085\n99        0.99  202   0   9  53  0.957346  0.000000   1.000000  0.957346\n100       1.00  179   0  32  53  0.848341  0.000000   1.000000  0.848341\n\n[101 rows x 9 columns]",
      "text/html": "<div>\n<style scoped>\n    .dataframe tbody tr th:only-of-type {\n        vertical-align: middle;\n    }\n\n    .dataframe tbody tr th {\n        vertical-align: top;\n    }\n\n    .dataframe thead th {\n        text-align: right;\n    }\n</style>\n<table border=\"1\" class=\"dataframe\">\n  <thead>\n    <tr style=\"text-align: right;\">\n      <th></th>\n      <th>threshold</th>\n      <th>tp</th>\n      <th>fp</th>\n      <th>fn</th>\n      <th>tn</th>\n      <th>tpr</th>\n      <th>fpr</th>\n      <th>precision</th>\n      <th>recall</th>\n    </tr>\n  </thead>\n  <tbody>\n    <tr>\n      <th>0</th>\n      <td>0.00</td>\n      <td>211</td>\n      <td>53</td>\n      <td>0</td>\n      <td>0</td>\n      <td>1.000000</td>\n      <td>1.000000</td>\n      <td>0.799242</td>\n      <td>1.000000</td>\n    </tr>\n    <tr>\n      <th>1</th>\n      <td>0.01</td>\n      <td>211</td>\n      <td>34</td>\n      <td>0</td>\n      <td>19</td>\n      <td>1.000000</td>\n      <td>0.641509</td>\n      <td>0.861224</td>\n      <td>1.000000</td>\n    </tr>\n    <tr>\n      <th>2</th>\n      <td>0.02</td>\n      <td>211</td>\n      <td>31</td>\n      <td>0</td>\n      <td>22</td>\n      <td>1.000000</td>\n      <td>0.584906</td>\n      <td>0.871901</td>\n      <td>1.000000</td>\n    </tr>\n    <tr>\n      <th>3</th>\n      <td>0.03</td>\n      <td>211</td>\n      <td>24</td>\n      <td>0</td>\n      <td>29</td>\n      <td>1.000000</td>\n      <td>0.452830</td>\n      <td>0.897872</td>\n      <td>1.000000</td>\n    </tr>\n    <tr>\n      <th>4</th>\n      <td>0.04</td>\n      <td>211</td>\n      <td>22</td>\n      <td>0</td>\n      <td>31</td>\n      <td>1.000000</td>\n      <td>0.415094</td>\n      <td>0.905579</td>\n      <td>1.000000</td>\n    </tr>\n    <tr>\n      <th>...</th>\n      <td>...</td>\n      <td>...</td>\n      <td>...</td>\n      <td>...</td>\n      <td>...</td>\n      <td>...</td>\n      <td>...</td>\n      <td>...</td>\n      <td>...</td>\n    </tr>\n    <tr>\n      <th>96</th>\n      <td>0.96</td>\n      <td>204</td>\n      <td>0</td>\n      <td>7</td>\n      <td>53</td>\n      <td>0.966825</td>\n      <td>0.000000</td>\n      <td>1.000000</td>\n      <td>0.966825</td>\n    </tr>\n    <tr>\n      <th>97</th>\n      <td>0.97</td>\n      <td>203</td>\n      <td>0</td>\n      <td>8</td>\n      <td>53</td>\n      <td>0.962085</td>\n      <td>0.000000</td>\n      <td>1.000000</td>\n      <td>0.962085</td>\n    </tr>\n    <tr>\n      <th>98</th>\n      <td>0.98</td>\n      <td>203</td>\n      <td>0</td>\n      <td>8</td>\n      <td>53</td>\n      <td>0.962085</td>\n      <td>0.000000</td>\n      <td>1.000000</td>\n      <td>0.962085</td>\n    </tr>\n    <tr>\n      <th>99</th>\n      <td>0.99</td>\n      <td>202</td>\n      <td>0</td>\n      <td>9</td>\n      <td>53</td>\n      <td>0.957346</td>\n      <td>0.000000</td>\n      <td>1.000000</td>\n      <td>0.957346</td>\n    </tr>\n    <tr>\n      <th>100</th>\n      <td>1.00</td>\n      <td>179</td>\n      <td>0</td>\n      <td>32</td>\n      <td>53</td>\n      <td>0.848341</td>\n      <td>0.000000</td>\n      <td>1.000000</td>\n      <td>0.848341</td>\n    </tr>\n  </tbody>\n</table>\n<p>101 rows × 9 columns</p>\n</div>"
     },
     "execution_count": 17,
     "metadata": {},
     "output_type": "execute_result"
    }
   ],
   "source": [
    "df_scores"
   ],
   "metadata": {
    "collapsed": false,
    "pycharm": {
     "name": "#%%\n"
    }
   }
  },
  {
   "cell_type": "code",
   "execution_count": 18,
   "outputs": [
    {
     "data": {
      "text/plain": "<Figure size 1080x360 with 1 Axes>",
      "image/png": "[encoded data removed]"
     },
     "metadata": {},
     "output_type": "display_data"
    }
   ],
   "source": [
    "plt.figure(figsize=(15, 5))\n",
    "\n",
    "plt.plot(df_scores.threshold, df_scores.precision, label='precision')\n",
    "plt.plot(df_scores.threshold, df_scores.recall, label='recall')\n",
    "\n",
    "plt.vlines(0.27, 0, 1, color='grey', linestyle='--', alpha=0.5)\n",
    "\n",
    "plt.legend()\n",
    "plt.show()"
   ],
   "metadata": {
    "collapsed": false,
    "pycharm": {
     "name": "#%%\n"
    }
   }
  },
  {
   "cell_type": "markdown",
   "source": [
    "Question 3 - Approximately 0.3"
   ],
   "metadata": {
    "collapsed": false
   }
  },
  {
   "cell_type": "code",
   "execution_count": 19,
   "outputs": [],
   "source": [
    "df_scores['f1'] = 2 * ((df_scores.precision * df_scores.recall) / (df_scores.precision + df_scores.recall))"
   ],
   "metadata": {
    "collapsed": false,
    "pycharm": {
     "name": "#%%\n"
    }
   }
  },
  {
   "cell_type": "code",
   "execution_count": 20,
   "outputs": [
    {
     "data": {
      "text/plain": "     threshold   tp  fp  fn  tn       tpr       fpr  precision    recall  \\\n0         0.00  211  53   0   0  1.000000  1.000000   0.799242  1.000000   \n1         0.01  211  34   0  19  1.000000  0.641509   0.861224  1.000000   \n2         0.02  211  31   0  22  1.000000  0.584906   0.871901  1.000000   \n3         0.03  211  24   0  29  1.000000  0.452830   0.897872  1.000000   \n4         0.04  211  22   0  31  1.000000  0.415094   0.905579  1.000000   \n..         ...  ...  ..  ..  ..       ...       ...        ...       ...   \n96        0.96  204   0   7  53  0.966825  0.000000   1.000000  0.966825   \n97        0.97  203   0   8  53  0.962085  0.000000   1.000000  0.962085   \n98        0.98  203   0   8  53  0.962085  0.000000   1.000000  0.962085   \n99        0.99  202   0   9  53  0.957346  0.000000   1.000000  0.957346   \n100       1.00  179   0  32  53  0.848341  0.000000   1.000000  0.848341   \n\n           f1  \n0    0.888421  \n1    0.925439  \n2    0.931567  \n3    0.946188  \n4    0.950450  \n..        ...  \n96   0.983133  \n97   0.980676  \n98   0.980676  \n99   0.978208  \n100  0.917949  \n\n[101 rows x 10 columns]",
      "text/html": "<div>\n<style scoped>\n    .dataframe tbody tr th:only-of-type {\n        vertical-align: middle;\n    }\n\n    .dataframe tbody tr th {\n        vertical-align: top;\n    }\n\n    .dataframe thead th {\n        text-align: right;\n    }\n</style>\n<table border=\"1\" class=\"dataframe\">\n  <thead>\n    <tr style=\"text-align: right;\">\n      <th></th>\n      <th>threshold</th>\n      <th>tp</th>\n      <th>fp</th>\n      <th>fn</th>\n      <th>tn</th>\n      <th>tpr</th>\n      <th>fpr</th>\n      <th>precision</th>\n      <th>recall</th>\n      <th>f1</th>\n    </tr>\n  </thead>\n  <tbody>\n    <tr>\n      <th>0</th>\n      <td>0.00</td>\n      <td>211</td>\n      <td>53</td>\n      <td>0</td>\n      <td>0</td>\n      <td>1.000000</td>\n      <td>1.000000</td>\n      <td>0.799242</td>\n      <td>1.000000</td>\n      <td>0.888421</td>\n    </tr>\n    <tr>\n      <th>1</th>\n      <td>0.01</td>\n      <td>211</td>\n      <td>34</td>\n      <td>0</td>\n      <td>19</td>\n      <td>1.000000</td>\n      <td>0.641509</td>\n      <td>0.861224</td>\n      <td>1.000000</td>\n      <td>0.925439</td>\n    </tr>\n    <tr>\n      <th>2</th>\n      <td>0.02</td>\n      <td>211</td>\n      <td>31</td>\n      <td>0</td>\n      <td>22</td>\n      <td>1.000000</td>\n      <td>0.584906</td>\n      <td>0.871901</td>\n      <td>1.000000</td>\n      <td>0.931567</td>\n    </tr>\n    <tr>\n      <th>3</th>\n      <td>0.03</td>\n      <td>211</td>\n      <td>24</td>\n      <td>0</td>\n      <td>29</td>\n      <td>1.000000</td>\n      <td>0.452830</td>\n      <td>0.897872</td>\n      <td>1.000000</td>\n      <td>0.946188</td>\n    </tr>\n    <tr>\n      <th>4</th>\n      <td>0.04</td>\n      <td>211</td>\n      <td>22</td>\n      <td>0</td>\n      <td>31</td>\n      <td>1.000000</td>\n      <td>0.415094</td>\n      <td>0.905579</td>\n      <td>1.000000</td>\n      <td>0.950450</td>\n    </tr>\n    <tr>\n      <th>...</th>\n      <td>...</td>\n      <td>...</td>\n      <td>...</td>\n      <td>...</td>\n      <td>...</td>\n      <td>...</td>\n      <td>...</td>\n      <td>...</td>\n      <td>...</td>\n      <td>...</td>\n    </tr>\n    <tr>\n      <th>96</th>\n      <td>0.96</td>\n      <td>204</td>\n      <td>0</td>\n      <td>7</td>\n      <td>53</td>\n      <td>0.966825</td>\n      <td>0.000000</td>\n      <td>1.000000</td>\n      <td>0.966825</td>\n      <td>0.983133</td>\n    </tr>\n    <tr>\n      <th>97</th>\n      <td>0.97</td>\n      <td>203</td>\n      <td>0</td>\n      <td>8</td>\n      <td>53</td>\n      <td>0.962085</td>\n      <td>0.000000</td>\n      <td>1.000000</td>\n      <td>0.962085</td>\n      <td>0.980676</td>\n    </tr>\n    <tr>\n      <th>98</th>\n      <td>0.98</td>\n      <td>203</td>\n      <td>0</td>\n      <td>8</td>\n      <td>53</td>\n      <td>0.962085</td>\n      <td>0.000000</td>\n      <td>1.000000</td>\n      <td>0.962085</td>\n      <td>0.980676</td>\n    </tr>\n    <tr>\n      <th>99</th>\n      <td>0.99</td>\n      <td>202</td>\n      <td>0</td>\n      <td>9</td>\n      <td>53</td>\n      <td>0.957346</td>\n      <td>0.000000</td>\n      <td>1.000000</td>\n      <td>0.957346</td>\n      <td>0.978208</td>\n    </tr>\n    <tr>\n      <th>100</th>\n      <td>1.00</td>\n      <td>179</td>\n      <td>0</td>\n      <td>32</td>\n      <td>53</td>\n      <td>0.848341</td>\n      <td>0.000000</td>\n      <td>1.000000</td>\n      <td>0.848341</td>\n      <td>0.917949</td>\n    </tr>\n  </tbody>\n</table>\n<p>101 rows × 10 columns</p>\n</div>"
     },
     "execution_count": 20,
     "metadata": {},
     "output_type": "execute_result"
    }
   ],
   "source": [
    "df_scores"
   ],
   "metadata": {
    "collapsed": false,
    "pycharm": {
     "name": "#%%\n"
    }
   }
  },
  {
   "cell_type": "code",
   "execution_count": 21,
   "outputs": [
    {
     "data": {
      "text/plain": "<Figure size 1080x360 with 1 Axes>",
      "image/png": "[encoded data removed]"
     },
     "metadata": {},
     "output_type": "display_data"
    }
   ],
   "source": [
    "plt.figure(figsize=(15, 5))\n",
    "\n",
    "plt.plot(df_scores.threshold, df_scores.f1)\n",
    "plt.vlines(0.4, 0, 1.1, color='grey', linestyle='--', alpha=0.5)\n",
    "plt.xlabel('Threshold')\n",
    "plt.ylabel('F1-score')\n",
    "plt.show()"
   ],
   "metadata": {
    "collapsed": false,
    "pycharm": {
     "name": "#%%\n"
    }
   }
  },
  {
   "cell_type": "markdown",
   "source": [
    "Question 4 - Approximately 0.4"
   ],
   "metadata": {
    "collapsed": false
   }
  },
  {
   "cell_type": "code",
   "execution_count": 22,
   "outputs": [],
   "source": [
    "def train(df_train, y_train, C=1.0):\n",
    "    dicts = df_train[columns].to_dict(orient='records')\n",
    "\n",
    "    dv = DictVectorizer(sparse=False)\n",
    "    X_train = dv.fit_transform(dicts)\n",
    "\n",
    "    model = LogisticRegression(solver='liblinear', C=C, max_iter=1000)\n",
    "    model.fit(X_train, y_train)\n",
    "\n",
    "    return dv, model\n",
    "\n",
    "def predict(df, dv, model):\n",
    "    dicts = df[columns].to_dict(orient='records')\n",
    "\n",
    "    X = dv.transform(dicts)\n",
    "    y_pred = model.predict_proba(X)[:, 1]\n",
    "\n",
    "    return y_pred"
   ],
   "metadata": {
    "collapsed": false,
    "pycharm": {
     "name": "#%%\n"
    }
   }
  },
  {
   "cell_type": "code",
   "execution_count": 23,
   "outputs": [
    {
     "name": "stdout",
     "output_type": "stream",
     "text": [
      "0.996 +- 0.003\n"
     ]
    }
   ],
   "source": [
    "scores = []\n",
    "\n",
    "kfold = KFold(n_splits=5, shuffle=True, random_state=1)\n",
    "\n",
    "for train_idx, val_idx in kfold.split(df_full_train):\n",
    "    df_train = df_full_train.iloc[train_idx]\n",
    "    df_val = df_full_train.iloc[val_idx]\n",
    "\n",
    "    y_train = df_train.card.values\n",
    "    y_val = df_val.card.values\n",
    "\n",
    "    dv, model = train(df_train, y_train, C=1.0)\n",
    "    y_pred = predict(df_val, dv, model)\n",
    "\n",
    "    auc = roc_auc_score(y_val, y_pred)\n",
    "    scores.append(auc)\n",
    "\n",
    "print('%.3f +- %.3f' % (np.mean(scores), np.std(scores)))"
   ],
   "metadata": {
    "collapsed": false,
    "pycharm": {
     "name": "#%%\n"
    }
   }
  },
  {
   "cell_type": "markdown",
   "source": [
    "Question 5 - STD is 0.003"
   ],
   "metadata": {
    "collapsed": false
   }
  },
  {
   "cell_type": "code",
   "execution_count": 24,
   "outputs": [],
   "source": [
    "%%capture\n",
    "!pip install tqdm"
   ],
   "metadata": {
    "collapsed": false,
    "pycharm": {
     "name": "#%%\n"
    }
   }
  },
  {
   "cell_type": "code",
   "execution_count": 25,
   "outputs": [],
   "source": [
    "from tqdm.auto import  tqdm"
   ],
   "metadata": {
    "collapsed": false,
    "pycharm": {
     "name": "#%%\n"
    }
   }
  },
  {
   "cell_type": "code",
   "execution_count": 26,
   "outputs": [
    {
     "data": {
      "text/plain": "  0%|          | 0/5 [00:00<?, ?it/s]",
      "application/vnd.jupyter.widget-view+json": {
       "version_major": 2,
       "version_minor": 0,
       "model_id": "316c62e2dc874bceb4636a8f8c7ff249"
      }
     },
     "metadata": {},
     "output_type": "display_data"
    },
    {
     "name": "stdout",
     "output_type": "stream",
     "text": [
      "C=0.001 0.989 +- 0.007\n",
      "C=0.01 0.992 +- 0.006\n",
      "C=0.1 0.995 +- 0.004\n",
      "C=0.5 0.996 +- 0.003\n",
      "C=1 0.996 +- 0.003\n",
      "C=5 0.996 +- 0.003\n",
      "C=10 0.996 +- 0.003\n"
     ]
    }
   ],
   "source": [
    "n_splits = 5\n",
    "\n",
    "for C in tqdm([0.001, 0.01, 0.1, 0.5, 1, 5, 10], total=n_splits):\n",
    "    scores = []\n",
    "\n",
    "    kFold = KFold(n_splits=n_splits, shuffle=True, random_state=1)\n",
    "\n",
    "    for train_idx, val_idx in kFold.split(df_full_train):\n",
    "        df_train = df_full_train.iloc[train_idx]\n",
    "        df_val = df_full_train.iloc[val_idx]\n",
    "\n",
    "        y_train = df_train.card.values\n",
    "        y_val = df_val.card.values\n",
    "\n",
    "        dv, model = train(df_train, y_train, C=C)\n",
    "        y_pred = predict(df_val, dv, model)\n",
    "\n",
    "        auc = roc_auc_score(y_val, y_pred)\n",
    "        scores.append(auc)\n",
    "    print('C=%s %.3f +- %.3f' % (C, np.mean(scores), np.std(scores)))"
   ],
   "metadata": {
    "collapsed": false,
    "pycharm": {
     "name": "#%%\n"
    }
   }
  },
  {
   "cell_type": "markdown",
   "source": [
    "Question 6 - Best C is 1"
   ],
   "metadata": {
    "collapsed": false
   }
  },
  {
   "cell_type": "code",
   "execution_count": null,
   "outputs": [],
   "source": [],
   "metadata": {
    "collapsed": false,
    "pycharm": {
     "name": "#%%\n"
    }
   }
  }
 ],
 "metadata": {
  "kernelspec": {
   "display_name": "Python 3",
   "language": "python",
   "name": "python3"
  },
  "language_info": {
   "codemirror_mode": {
    "name": "ipython",
    "version": 2
   },
   "file_extension": ".py",
   "mimetype": "text/x-python",
   "name": "python",
   "nbconvert_exporter": "python",
   "pygments_lexer": "ipython2",
   "version": "2.7.6"
  }
 },
 "nbformat": 4,
 "nbformat_minor": 0
}