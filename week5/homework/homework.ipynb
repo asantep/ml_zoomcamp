{
 "cells": [
  {
   "cell_type": "code",
   "execution_count": 1,
   "metadata": {
    "collapsed": true
   },
   "outputs": [],
   "source": [
    "import pandas as pd\n",
    "import numpy as np\n",
    "\n",
    "from sklearn.model_selection import train_test_split\n",
    "\n",
    "from sklearn.metrics import roc_auc_score\n",
    "\n",
    "from sklearn.feature_extraction import DictVectorizer\n",
    "from sklearn.linear_model import LogisticRegression\n",
    "from sklearn.model_selection import KFold"
   ]
  },
  {
   "cell_type": "code",
   "execution_count": 2,
   "metadata": {
    "pycharm": {
     "name": "#%%\n"
    }
   },
   "outputs": [
    {
     "data": {
      "text/plain": "  card  reports       age  income     share  expenditure owner selfemp  \\\n0  yes        0  37.66667  4.5200  0.033270   124.983300   yes      no   \n1  yes        0  33.25000  2.4200  0.005217     9.854167    no      no   \n2  yes        0  33.66667  4.5000  0.004156    15.000000   yes      no   \n3  yes        0  30.50000  2.5400  0.065214   137.869200    no      no   \n4  yes        0  32.16667  9.7867  0.067051   546.503300   yes      no   \n\n   dependents  months  majorcards  active  \n0           3      54           1      12  \n1           3      34           1      13  \n2           4      58           1       5  \n3           0      25           1       7  \n4           2      64           1       5  ",
      "text/html": "<div>\n<style scoped>\n    .dataframe tbody tr th:only-of-type {\n        vertical-align: middle;\n    }\n\n    .dataframe tbody tr th {\n        vertical-align: top;\n    }\n\n    .dataframe thead th {\n        text-align: right;\n    }\n</style>\n<table border=\"1\" class=\"dataframe\">\n  <thead>\n    <tr style=\"text-align: right;\">\n      <th></th>\n      <th>card</th>\n      <th>reports</th>\n      <th>age</th>\n      <th>income</th>\n      <th>share</th>\n      <th>expenditure</th>\n      <th>owner</th>\n      <th>selfemp</th>\n      <th>dependents</th>\n      <th>months</th>\n      <th>majorcards</th>\n      <th>active</th>\n    </tr>\n  </thead>\n  <tbody>\n    <tr>\n      <th>0</th>\n      <td>yes</td>\n      <td>0</td>\n      <td>37.66667</td>\n      <td>4.5200</td>\n      <td>0.033270</td>\n      <td>124.983300</td>\n      <td>yes</td>\n      <td>no</td>\n      <td>3</td>\n      <td>54</td>\n      <td>1</td>\n      <td>12</td>\n    </tr>\n    <tr>\n      <th>1</th>\n      <td>yes</td>\n      <td>0</td>\n      <td>33.25000</td>\n      <td>2.4200</td>\n      <td>0.005217</td>\n      <td>9.854167</td>\n      <td>no</td>\n      <td>no</td>\n      <td>3</td>\n      <td>34</td>\n      <td>1</td>\n      <td>13</td>\n    </tr>\n    <tr>\n      <th>2</th>\n      <td>yes</td>\n      <td>0</td>\n      <td>33.66667</td>\n      <td>4.5000</td>\n      <td>0.004156</td>\n      <td>15.000000</td>\n      <td>yes</td>\n      <td>no</td>\n      <td>4</td>\n      <td>58</td>\n      <td>1</td>\n      <td>5</td>\n    </tr>\n    <tr>\n      <th>3</th>\n      <td>yes</td>\n      <td>0</td>\n      <td>30.50000</td>\n      <td>2.5400</td>\n      <td>0.065214</td>\n      <td>137.869200</td>\n      <td>no</td>\n      <td>no</td>\n      <td>0</td>\n      <td>25</td>\n      <td>1</td>\n      <td>7</td>\n    </tr>\n    <tr>\n      <th>4</th>\n      <td>yes</td>\n      <td>0</td>\n      <td>32.16667</td>\n      <td>9.7867</td>\n      <td>0.067051</td>\n      <td>546.503300</td>\n      <td>yes</td>\n      <td>no</td>\n      <td>2</td>\n      <td>64</td>\n      <td>1</td>\n      <td>5</td>\n    </tr>\n  </tbody>\n</table>\n</div>"
     },
     "execution_count": 2,
     "metadata": {},
     "output_type": "execute_result"
    }
   ],
   "source": [
    "df = pd.read_csv('https://raw.githubusercontent.com/alexeygrigorev/datasets/master/AER_credit_card_data.csv')\n",
    "df.columns = df.columns.str.lower()\n",
    "df.head()"
   ]
  },
  {
   "cell_type": "code",
   "execution_count": 3,
   "metadata": {
    "pycharm": {
     "name": "#%%\n"
    }
   },
   "outputs": [
    {
     "data": {
      "text/plain": "   card  reports       age  income     share  expenditure owner selfemp  \\\n0     1        0  37.66667  4.5200  0.033270   124.983300   yes      no   \n1     1        0  33.25000  2.4200  0.005217     9.854167    no      no   \n2     1        0  33.66667  4.5000  0.004156    15.000000   yes      no   \n3     1        0  30.50000  2.5400  0.065214   137.869200    no      no   \n4     1        0  32.16667  9.7867  0.067051   546.503300   yes      no   \n5     1        0  23.25000  2.5000  0.044438    91.996670    no      no   \n6     1        0  27.91667  3.9600  0.012576    40.833330    no      no   \n7     1        0  29.16667  2.3700  0.076434   150.790000   yes      no   \n8     1        0  37.00000  3.8000  0.245628   777.821700   yes      no   \n9     1        0  28.41667  3.2000  0.019780    52.580000    no      no   \n\n   dependents  months  majorcards  active  \n0           3      54           1      12  \n1           3      34           1      13  \n2           4      58           1       5  \n3           0      25           1       7  \n4           2      64           1       5  \n5           0      54           1       1  \n6           2       7           1       5  \n7           0      77           1       3  \n8           0      97           1       6  \n9           0      65           1      18  ",
      "text/html": "<div>\n<style scoped>\n    .dataframe tbody tr th:only-of-type {\n        vertical-align: middle;\n    }\n\n    .dataframe tbody tr th {\n        vertical-align: top;\n    }\n\n    .dataframe thead th {\n        text-align: right;\n    }\n</style>\n<table border=\"1\" class=\"dataframe\">\n  <thead>\n    <tr style=\"text-align: right;\">\n      <th></th>\n      <th>card</th>\n      <th>reports</th>\n      <th>age</th>\n      <th>income</th>\n      <th>share</th>\n      <th>expenditure</th>\n      <th>owner</th>\n      <th>selfemp</th>\n      <th>dependents</th>\n      <th>months</th>\n      <th>majorcards</th>\n      <th>active</th>\n    </tr>\n  </thead>\n  <tbody>\n    <tr>\n      <th>0</th>\n      <td>1</td>\n      <td>0</td>\n      <td>37.66667</td>\n      <td>4.5200</td>\n      <td>0.033270</td>\n      <td>124.983300</td>\n      <td>yes</td>\n      <td>no</td>\n      <td>3</td>\n      <td>54</td>\n      <td>1</td>\n      <td>12</td>\n    </tr>\n    <tr>\n      <th>1</th>\n      <td>1</td>\n      <td>0</td>\n      <td>33.25000</td>\n      <td>2.4200</td>\n      <td>0.005217</td>\n      <td>9.854167</td>\n      <td>no</td>\n      <td>no</td>\n      <td>3</td>\n      <td>34</td>\n      <td>1</td>\n      <td>13</td>\n    </tr>\n    <tr>\n      <th>2</th>\n      <td>1</td>\n      <td>0</td>\n      <td>33.66667</td>\n      <td>4.5000</td>\n      <td>0.004156</td>\n      <td>15.000000</td>\n      <td>yes</td>\n      <td>no</td>\n      <td>4</td>\n      <td>58</td>\n      <td>1</td>\n      <td>5</td>\n    </tr>\n    <tr>\n      <th>3</th>\n      <td>1</td>\n      <td>0</td>\n      <td>30.50000</td>\n      <td>2.5400</td>\n      <td>0.065214</td>\n      <td>137.869200</td>\n      <td>no</td>\n      <td>no</td>\n      <td>0</td>\n      <td>25</td>\n      <td>1</td>\n      <td>7</td>\n    </tr>\n    <tr>\n      <th>4</th>\n      <td>1</td>\n      <td>0</td>\n      <td>32.16667</td>\n      <td>9.7867</td>\n      <td>0.067051</td>\n      <td>546.503300</td>\n      <td>yes</td>\n      <td>no</td>\n      <td>2</td>\n      <td>64</td>\n      <td>1</td>\n      <td>5</td>\n    </tr>\n    <tr>\n      <th>5</th>\n      <td>1</td>\n      <td>0</td>\n      <td>23.25000</td>\n      <td>2.5000</td>\n      <td>0.044438</td>\n      <td>91.996670</td>\n      <td>no</td>\n      <td>no</td>\n      <td>0</td>\n      <td>54</td>\n      <td>1</td>\n      <td>1</td>\n    </tr>\n    <tr>\n      <th>6</th>\n      <td>1</td>\n      <td>0</td>\n      <td>27.91667</td>\n      <td>3.9600</td>\n      <td>0.012576</td>\n      <td>40.833330</td>\n      <td>no</td>\n      <td>no</td>\n      <td>2</td>\n      <td>7</td>\n      <td>1</td>\n      <td>5</td>\n    </tr>\n    <tr>\n      <th>7</th>\n      <td>1</td>\n      <td>0</td>\n      <td>29.16667</td>\n      <td>2.3700</td>\n      <td>0.076434</td>\n      <td>150.790000</td>\n      <td>yes</td>\n      <td>no</td>\n      <td>0</td>\n      <td>77</td>\n      <td>1</td>\n      <td>3</td>\n    </tr>\n    <tr>\n      <th>8</th>\n      <td>1</td>\n      <td>0</td>\n      <td>37.00000</td>\n      <td>3.8000</td>\n      <td>0.245628</td>\n      <td>777.821700</td>\n      <td>yes</td>\n      <td>no</td>\n      <td>0</td>\n      <td>97</td>\n      <td>1</td>\n      <td>6</td>\n    </tr>\n    <tr>\n      <th>9</th>\n      <td>1</td>\n      <td>0</td>\n      <td>28.41667</td>\n      <td>3.2000</td>\n      <td>0.019780</td>\n      <td>52.580000</td>\n      <td>no</td>\n      <td>no</td>\n      <td>0</td>\n      <td>65</td>\n      <td>1</td>\n      <td>18</td>\n    </tr>\n  </tbody>\n</table>\n</div>"
     },
     "execution_count": 3,
     "metadata": {},
     "output_type": "execute_result"
    }
   ],
   "source": [
    "# CREATING THE TARGET VARIABLE:\n",
    "card_values = {\n",
    "    \"yes\": 1,\n",
    "    \"no\": 0\n",
    "}\n",
    "df[\"card\"] = df.card.map(card_values)\n",
    "df.head(10)"
   ]
  },
  {
   "cell_type": "code",
   "execution_count": 4,
   "metadata": {
    "pycharm": {
     "name": "#%%\n"
    }
   },
   "outputs": [],
   "source": [
    "# INITIALIZING NUMERICAL AND CATEGORICAL VARIABLES:\n",
    "numerical = [\"reports\", \"age\", \"income\", \"share\", \"expenditure\", \"dependents\", \"months\", \"majorcards\", \"active\"]\n",
    "categorical = [\"owner\", \"selfemp\"]"
   ]
  },
  {
   "cell_type": "code",
   "execution_count": 5,
   "metadata": {
    "pycharm": {
     "name": "#%%\n"
    }
   },
   "outputs": [],
   "source": [
    "# SPLITTING THE DATASET\n",
    "\n",
    "df_full_train, df_test = train_test_split(df, test_size=0.2, random_state=1)"
   ]
  },
  {
   "cell_type": "markdown",
   "metadata": {
    "pycharm": {
     "name": "#%% md\n"
    }
   },
   "source": [
    "# TRAINING LOGISTIC REGRESSION MODEL"
   ]
  },
  {
   "cell_type": "code",
   "execution_count": 6,
   "metadata": {
    "pycharm": {
     "name": "#%%\n"
    }
   },
   "outputs": [],
   "source": [
    "columns = categorical + numerical\n",
    "def train(df_train, y_train, C=1.0):\n",
    "    dicts = df_train[columns].to_dict(orient='records')\n",
    "\n",
    "\n",
    "    dv = DictVectorizer(sparse=False)\n",
    "    X_train = dv.fit_transform(dicts)\n",
    "\n",
    "    model = LogisticRegression(solver='liblinear', C=C, max_iter=1000)\n",
    "    model.fit(X_train, y_train)\n",
    "\n",
    "    return dv, model\n",
    "\n",
    "\n",
    "def predict(df, dv, model):\n",
    "    dicts = df[columns].to_dict(orient='records')\n",
    "\n",
    "    X = dv.transform(dicts)\n",
    "    y_pred = model.predict_proba(X)[:, 1]\n",
    "\n",
    "    return y_pred"
   ]
  },
  {
   "cell_type": "code",
   "execution_count": 7,
   "metadata": {
    "pycharm": {
     "name": "#%%\n"
    }
   },
   "outputs": [],
   "source": [
    "C = 1.0\n",
    "n_splits = 5"
   ]
  },
  {
   "cell_type": "code",
   "execution_count": 8,
   "metadata": {
    "pycharm": {
     "name": "#%%\n"
    }
   },
   "outputs": [
    {
     "name": "stdout",
     "output_type": "stream",
     "text": [
      "0.996 +- 0.003\n"
     ]
    }
   ],
   "source": [
    "#@ INITIALIZING KFOLD CROSS VALIDATION:\n",
    "scores = []\n",
    "\n",
    "kfold = KFold(n_splits=n_splits, shuffle=True, random_state=1)\n",
    "\n",
    "for train_idx, val_idx in kfold.split(df_full_train):\n",
    "    df_train = df_full_train.iloc[train_idx]\n",
    "    df_val = df_full_train.iloc[val_idx]\n",
    "\n",
    "    y_train = df_train.card\n",
    "    y_val = df_val.card\n",
    "\n",
    "    dv, model = train(df_train, y_train, C=C)\n",
    "    y_pred = predict(df_val, dv, model)\n",
    "\n",
    "    auc = roc_auc_score(y_val, y_pred)\n",
    "    scores.append(auc)\n",
    "\n",
    "print('%.3f +- %.3f' % (np.mean(scores), np.std(scores)))"
   ]
  },
  {
   "cell_type": "code",
   "execution_count": 9,
   "metadata": {
    "pycharm": {
     "name": "#%%\n"
    }
   },
   "outputs": [
    {
     "data": {
      "text/plain": "0.996097337006428"
     },
     "execution_count": 9,
     "metadata": {},
     "output_type": "execute_result"
    }
   ],
   "source": [
    "dv, model = train(df_full_train, df_full_train.card.values, C=1.0)\n",
    "y_pred = predict(df_test, dv, model)\n",
    "\n",
    "y_test = df_test.card.values\n",
    "auc = roc_auc_score(y_test, y_pred)\n",
    "auc"
   ]
  },
  {
   "cell_type": "code",
   "execution_count": 10,
   "metadata": {
    "pycharm": {
     "name": "#%%\n"
    }
   },
   "outputs": [],
   "source": [
    "import pickle"
   ]
  },
  {
   "cell_type": "code",
   "execution_count": 11,
   "outputs": [
    {
     "data": {
      "text/plain": "'model_C=1.0.bin'"
     },
     "execution_count": 11,
     "metadata": {},
     "output_type": "execute_result"
    }
   ],
   "source": [
    "output_file = f'model_C={C}.bin'\n",
    "output_file"
   ],
   "metadata": {
    "collapsed": false,
    "pycharm": {
     "name": "#%%\n"
    }
   }
  },
  {
   "cell_type": "code",
   "execution_count": 12,
   "outputs": [],
   "source": [
    "with open(output_file, 'wb') as f_out:\n",
    "    pickle.dump((dv, model), f_out)"
   ],
   "metadata": {
    "collapsed": false,
    "pycharm": {
     "name": "#%%\n"
    }
   }
  },
  {
   "cell_type": "code",
   "execution_count": null,
   "outputs": [],
   "source": [],
   "metadata": {
    "collapsed": false,
    "pycharm": {
     "name": "#%%\n"
    }
   }
  }
 ],
 "metadata": {
  "kernelspec": {
   "display_name": "Python 3 (ipykernel)",
   "language": "python",
   "name": "python3"
  },
  "language_info": {
   "codemirror_mode": {
    "name": "ipython",
    "version": 3
   },
   "file_extension": ".py",
   "mimetype": "text/x-python",
   "name": "python",
   "nbconvert_exporter": "python",
   "pygments_lexer": "ipython3",
   "version": "3.9.13"
  }
 },
 "nbformat": 4,
 "nbformat_minor": 1
}