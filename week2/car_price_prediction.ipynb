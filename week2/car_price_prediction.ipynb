{
 "cells": [
  {
   "cell_type": "markdown",
   "source": [
    "# ML for Regression"
   ],
   "metadata": {
    "collapsed": false,
    "pycharm": {
     "name": "#%% md\n"
    }
   }
  },
  {
   "cell_type": "code",
   "execution_count": 2,
   "metadata": {
    "collapsed": true
   },
   "outputs": [],
   "source": [
    "import numpy as np\n",
    "import pandas as pd"
   ]
  },
  {
   "cell_type": "markdown",
   "source": [
    "# Data Preparation"
   ],
   "metadata": {
    "collapsed": false,
    "pycharm": {
     "name": "#%% md\n"
    }
   }
  },
  {
   "cell_type": "code",
   "execution_count": 3,
   "outputs": [],
   "source": [
    "df = pd.read_csv('data.csv')"
   ],
   "metadata": {
    "collapsed": false,
    "pycharm": {
     "name": "#%%\n"
    }
   }
  },
  {
   "cell_type": "code",
   "execution_count": 4,
   "outputs": [
    {
     "data": {
      "text/plain": "  Make       Model  Year             Engine Fuel Type  Engine HP  \\\n0  BMW  1 Series M  2011  premium unleaded (required)      335.0   \n1  BMW    1 Series  2011  premium unleaded (required)      300.0   \n2  BMW    1 Series  2011  premium unleaded (required)      300.0   \n3  BMW    1 Series  2011  premium unleaded (required)      230.0   \n4  BMW    1 Series  2011  premium unleaded (required)      230.0   \n\n   Engine Cylinders Transmission Type     Driven_Wheels  Number of Doors  \\\n0               6.0            MANUAL  rear wheel drive              2.0   \n1               6.0            MANUAL  rear wheel drive              2.0   \n2               6.0            MANUAL  rear wheel drive              2.0   \n3               6.0            MANUAL  rear wheel drive              2.0   \n4               6.0            MANUAL  rear wheel drive              2.0   \n\n                         Market Category Vehicle Size Vehicle Style  \\\n0  Factory Tuner,Luxury,High-Performance      Compact         Coupe   \n1                     Luxury,Performance      Compact   Convertible   \n2                Luxury,High-Performance      Compact         Coupe   \n3                     Luxury,Performance      Compact         Coupe   \n4                                 Luxury      Compact   Convertible   \n\n   highway MPG  city mpg  Popularity   MSRP  \n0           26        19        3916  46135  \n1           28        19        3916  40650  \n2           28        20        3916  36350  \n3           28        18        3916  29450  \n4           28        18        3916  34500  ",
      "text/html": "<div>\n<style scoped>\n    .dataframe tbody tr th:only-of-type {\n        vertical-align: middle;\n    }\n\n    .dataframe tbody tr th {\n        vertical-align: top;\n    }\n\n    .dataframe thead th {\n        text-align: right;\n    }\n</style>\n<table border=\"1\" class=\"dataframe\">\n  <thead>\n    <tr style=\"text-align: right;\">\n      <th></th>\n      <th>Make</th>\n      <th>Model</th>\n      <th>Year</th>\n      <th>Engine Fuel Type</th>\n      <th>Engine HP</th>\n      <th>Engine Cylinders</th>\n      <th>Transmission Type</th>\n      <th>Driven_Wheels</th>\n      <th>Number of Doors</th>\n      <th>Market Category</th>\n      <th>Vehicle Size</th>\n      <th>Vehicle Style</th>\n      <th>highway MPG</th>\n      <th>city mpg</th>\n      <th>Popularity</th>\n      <th>MSRP</th>\n    </tr>\n  </thead>\n  <tbody>\n    <tr>\n      <th>0</th>\n      <td>BMW</td>\n      <td>1 Series M</td>\n      <td>2011</td>\n      <td>premium unleaded (required)</td>\n      <td>335.0</td>\n      <td>6.0</td>\n      <td>MANUAL</td>\n      <td>rear wheel drive</td>\n      <td>2.0</td>\n      <td>Factory Tuner,Luxury,High-Performance</td>\n      <td>Compact</td>\n      <td>Coupe</td>\n      <td>26</td>\n      <td>19</td>\n      <td>3916</td>\n      <td>46135</td>\n    </tr>\n    <tr>\n      <th>1</th>\n      <td>BMW</td>\n      <td>1 Series</td>\n      <td>2011</td>\n      <td>premium unleaded (required)</td>\n      <td>300.0</td>\n      <td>6.0</td>\n      <td>MANUAL</td>\n      <td>rear wheel drive</td>\n      <td>2.0</td>\n      <td>Luxury,Performance</td>\n      <td>Compact</td>\n      <td>Convertible</td>\n      <td>28</td>\n      <td>19</td>\n      <td>3916</td>\n      <td>40650</td>\n    </tr>\n    <tr>\n      <th>2</th>\n      <td>BMW</td>\n      <td>1 Series</td>\n      <td>2011</td>\n      <td>premium unleaded (required)</td>\n      <td>300.0</td>\n      <td>6.0</td>\n      <td>MANUAL</td>\n      <td>rear wheel drive</td>\n      <td>2.0</td>\n      <td>Luxury,High-Performance</td>\n      <td>Compact</td>\n      <td>Coupe</td>\n      <td>28</td>\n      <td>20</td>\n      <td>3916</td>\n      <td>36350</td>\n    </tr>\n    <tr>\n      <th>3</th>\n      <td>BMW</td>\n      <td>1 Series</td>\n      <td>2011</td>\n      <td>premium unleaded (required)</td>\n      <td>230.0</td>\n      <td>6.0</td>\n      <td>MANUAL</td>\n      <td>rear wheel drive</td>\n      <td>2.0</td>\n      <td>Luxury,Performance</td>\n      <td>Compact</td>\n      <td>Coupe</td>\n      <td>28</td>\n      <td>18</td>\n      <td>3916</td>\n      <td>29450</td>\n    </tr>\n    <tr>\n      <th>4</th>\n      <td>BMW</td>\n      <td>1 Series</td>\n      <td>2011</td>\n      <td>premium unleaded (required)</td>\n      <td>230.0</td>\n      <td>6.0</td>\n      <td>MANUAL</td>\n      <td>rear wheel drive</td>\n      <td>2.0</td>\n      <td>Luxury</td>\n      <td>Compact</td>\n      <td>Convertible</td>\n      <td>28</td>\n      <td>18</td>\n      <td>3916</td>\n      <td>34500</td>\n    </tr>\n  </tbody>\n</table>\n</div>"
     },
     "execution_count": 4,
     "metadata": {},
     "output_type": "execute_result"
    }
   ],
   "source": [
    "df.head()"
   ],
   "metadata": {
    "collapsed": false,
    "pycharm": {
     "name": "#%%\n"
    }
   }
  },
  {
   "cell_type": "code",
   "execution_count": 5,
   "outputs": [
    {
     "data": {
      "text/plain": "Index(['Make', 'Model', 'Year', 'Engine Fuel Type', 'Engine HP',\n       'Engine Cylinders', 'Transmission Type', 'Driven_Wheels',\n       'Number of Doors', 'Market Category', 'Vehicle Size', 'Vehicle Style',\n       'highway MPG', 'city mpg', 'Popularity', 'MSRP'],\n      dtype='object')"
     },
     "execution_count": 5,
     "metadata": {},
     "output_type": "execute_result"
    }
   ],
   "source": [
    "df.columns"
   ],
   "metadata": {
    "collapsed": false,
    "pycharm": {
     "name": "#%%\n"
    }
   }
  },
  {
   "cell_type": "code",
   "execution_count": 6,
   "outputs": [],
   "source": [
    "df.columns = df.columns.str.lower().str.replace(' ', '_')"
   ],
   "metadata": {
    "collapsed": false,
    "pycharm": {
     "name": "#%%\n"
    }
   }
  },
  {
   "cell_type": "code",
   "execution_count": 7,
   "outputs": [
    {
     "data": {
      "text/plain": "  make       model  year             engine_fuel_type  engine_hp  \\\n0  BMW  1 Series M  2011  premium unleaded (required)      335.0   \n1  BMW    1 Series  2011  premium unleaded (required)      300.0   \n2  BMW    1 Series  2011  premium unleaded (required)      300.0   \n3  BMW    1 Series  2011  premium unleaded (required)      230.0   \n4  BMW    1 Series  2011  premium unleaded (required)      230.0   \n\n   engine_cylinders transmission_type     driven_wheels  number_of_doors  \\\n0               6.0            MANUAL  rear wheel drive              2.0   \n1               6.0            MANUAL  rear wheel drive              2.0   \n2               6.0            MANUAL  rear wheel drive              2.0   \n3               6.0            MANUAL  rear wheel drive              2.0   \n4               6.0            MANUAL  rear wheel drive              2.0   \n\n                         market_category vehicle_size vehicle_style  \\\n0  Factory Tuner,Luxury,High-Performance      Compact         Coupe   \n1                     Luxury,Performance      Compact   Convertible   \n2                Luxury,High-Performance      Compact         Coupe   \n3                     Luxury,Performance      Compact         Coupe   \n4                                 Luxury      Compact   Convertible   \n\n   highway_mpg  city_mpg  popularity   msrp  \n0           26        19        3916  46135  \n1           28        19        3916  40650  \n2           28        20        3916  36350  \n3           28        18        3916  29450  \n4           28        18        3916  34500  ",
      "text/html": "<div>\n<style scoped>\n    .dataframe tbody tr th:only-of-type {\n        vertical-align: middle;\n    }\n\n    .dataframe tbody tr th {\n        vertical-align: top;\n    }\n\n    .dataframe thead th {\n        text-align: right;\n    }\n</style>\n<table border=\"1\" class=\"dataframe\">\n  <thead>\n    <tr style=\"text-align: right;\">\n      <th></th>\n      <th>make</th>\n      <th>model</th>\n      <th>year</th>\n      <th>engine_fuel_type</th>\n      <th>engine_hp</th>\n      <th>engine_cylinders</th>\n      <th>transmission_type</th>\n      <th>driven_wheels</th>\n      <th>number_of_doors</th>\n      <th>market_category</th>\n      <th>vehicle_size</th>\n      <th>vehicle_style</th>\n      <th>highway_mpg</th>\n      <th>city_mpg</th>\n      <th>popularity</th>\n      <th>msrp</th>\n    </tr>\n  </thead>\n  <tbody>\n    <tr>\n      <th>0</th>\n      <td>BMW</td>\n      <td>1 Series M</td>\n      <td>2011</td>\n      <td>premium unleaded (required)</td>\n      <td>335.0</td>\n      <td>6.0</td>\n      <td>MANUAL</td>\n      <td>rear wheel drive</td>\n      <td>2.0</td>\n      <td>Factory Tuner,Luxury,High-Performance</td>\n      <td>Compact</td>\n      <td>Coupe</td>\n      <td>26</td>\n      <td>19</td>\n      <td>3916</td>\n      <td>46135</td>\n    </tr>\n    <tr>\n      <th>1</th>\n      <td>BMW</td>\n      <td>1 Series</td>\n      <td>2011</td>\n      <td>premium unleaded (required)</td>\n      <td>300.0</td>\n      <td>6.0</td>\n      <td>MANUAL</td>\n      <td>rear wheel drive</td>\n      <td>2.0</td>\n      <td>Luxury,Performance</td>\n      <td>Compact</td>\n      <td>Convertible</td>\n      <td>28</td>\n      <td>19</td>\n      <td>3916</td>\n      <td>40650</td>\n    </tr>\n    <tr>\n      <th>2</th>\n      <td>BMW</td>\n      <td>1 Series</td>\n      <td>2011</td>\n      <td>premium unleaded (required)</td>\n      <td>300.0</td>\n      <td>6.0</td>\n      <td>MANUAL</td>\n      <td>rear wheel drive</td>\n      <td>2.0</td>\n      <td>Luxury,High-Performance</td>\n      <td>Compact</td>\n      <td>Coupe</td>\n      <td>28</td>\n      <td>20</td>\n      <td>3916</td>\n      <td>36350</td>\n    </tr>\n    <tr>\n      <th>3</th>\n      <td>BMW</td>\n      <td>1 Series</td>\n      <td>2011</td>\n      <td>premium unleaded (required)</td>\n      <td>230.0</td>\n      <td>6.0</td>\n      <td>MANUAL</td>\n      <td>rear wheel drive</td>\n      <td>2.0</td>\n      <td>Luxury,Performance</td>\n      <td>Compact</td>\n      <td>Coupe</td>\n      <td>28</td>\n      <td>18</td>\n      <td>3916</td>\n      <td>29450</td>\n    </tr>\n    <tr>\n      <th>4</th>\n      <td>BMW</td>\n      <td>1 Series</td>\n      <td>2011</td>\n      <td>premium unleaded (required)</td>\n      <td>230.0</td>\n      <td>6.0</td>\n      <td>MANUAL</td>\n      <td>rear wheel drive</td>\n      <td>2.0</td>\n      <td>Luxury</td>\n      <td>Compact</td>\n      <td>Convertible</td>\n      <td>28</td>\n      <td>18</td>\n      <td>3916</td>\n      <td>34500</td>\n    </tr>\n  </tbody>\n</table>\n</div>"
     },
     "execution_count": 7,
     "metadata": {},
     "output_type": "execute_result"
    }
   ],
   "source": [
    "df.head()"
   ],
   "metadata": {
    "collapsed": false,
    "pycharm": {
     "name": "#%%\n"
    }
   }
  },
  {
   "cell_type": "code",
   "execution_count": 8,
   "outputs": [
    {
     "data": {
      "text/plain": "make                  object\nmodel                 object\nyear                   int64\nengine_fuel_type      object\nengine_hp            float64\nengine_cylinders     float64\ntransmission_type     object\ndriven_wheels         object\nnumber_of_doors      float64\nmarket_category       object\nvehicle_size          object\nvehicle_style         object\nhighway_mpg            int64\ncity_mpg               int64\npopularity             int64\nmsrp                   int64\ndtype: object"
     },
     "execution_count": 8,
     "metadata": {},
     "output_type": "execute_result"
    }
   ],
   "source": [
    "df.dtypes"
   ],
   "metadata": {
    "collapsed": false,
    "pycharm": {
     "name": "#%%\n"
    }
   }
  },
  {
   "cell_type": "code",
   "execution_count": 9,
   "outputs": [
    {
     "data": {
      "text/plain": "['make',\n 'model',\n 'engine_fuel_type',\n 'transmission_type',\n 'driven_wheels',\n 'market_category',\n 'vehicle_size',\n 'vehicle_style']"
     },
     "execution_count": 9,
     "metadata": {},
     "output_type": "execute_result"
    }
   ],
   "source": [
    "strings = list(df.dtypes[df.dtypes == 'object'].index)\n",
    "strings"
   ],
   "metadata": {
    "collapsed": false,
    "pycharm": {
     "name": "#%%\n"
    }
   }
  },
  {
   "cell_type": "code",
   "execution_count": 10,
   "outputs": [],
   "source": [
    "for col in strings:\n",
    "    df[col] = df[col].str.lower().str.replace(' ', '_')"
   ],
   "metadata": {
    "collapsed": false,
    "pycharm": {
     "name": "#%%\n"
    }
   }
  },
  {
   "cell_type": "code",
   "execution_count": 11,
   "outputs": [
    {
     "data": {
      "text/plain": "make                  object\nmodel                 object\nyear                   int64\nengine_fuel_type      object\nengine_hp            float64\nengine_cylinders     float64\ntransmission_type     object\ndriven_wheels         object\nnumber_of_doors      float64\nmarket_category       object\nvehicle_size          object\nvehicle_style         object\nhighway_mpg            int64\ncity_mpg               int64\npopularity             int64\nmsrp                   int64\ndtype: object"
     },
     "execution_count": 11,
     "metadata": {},
     "output_type": "execute_result"
    }
   ],
   "source": [
    "df.dtypes"
   ],
   "metadata": {
    "collapsed": false,
    "pycharm": {
     "name": "#%%\n"
    }
   }
  },
  {
   "cell_type": "markdown",
   "source": [
    "# Exploratory Data Analysis"
   ],
   "metadata": {
    "collapsed": false,
    "pycharm": {
     "name": "#%% md\n"
    }
   }
  },
  {
   "cell_type": "code",
   "execution_count": 12,
   "outputs": [
    {
     "name": "stdout",
     "output_type": "stream",
     "text": [
      "make\n",
      "['bmw' 'audi' 'fiat' 'mercedes-benz' 'chrysler']\n",
      "48\n",
      "\n",
      "model\n",
      "['1_series_m' '1_series' '100' '124_spider' '190-class']\n",
      "914\n",
      "\n",
      "year\n",
      "[2011 2012 2013 1992 1993]\n",
      "28\n",
      "\n",
      "engine_fuel_type\n",
      "['premium_unleaded_(required)' 'regular_unleaded'\n",
      " 'premium_unleaded_(recommended)' 'flex-fuel_(unleaded/e85)' 'diesel']\n",
      "10\n",
      "\n",
      "engine_hp\n",
      "[335. 300. 230. 320. 172.]\n",
      "356\n",
      "\n",
      "engine_cylinders\n",
      "[ 6.  4.  5.  8. 12.]\n",
      "9\n",
      "\n",
      "transmission_type\n",
      "['manual' 'automatic' 'automated_manual' 'direct_drive' 'unknown']\n",
      "5\n",
      "\n",
      "driven_wheels\n",
      "['rear_wheel_drive' 'front_wheel_drive' 'all_wheel_drive'\n",
      " 'four_wheel_drive']\n",
      "4\n",
      "\n",
      "number_of_doors\n",
      "[ 2.  4.  3. nan]\n",
      "3\n",
      "\n",
      "market_category\n",
      "['factory_tuner,luxury,high-performance' 'luxury,performance'\n",
      " 'luxury,high-performance' 'luxury' 'performance']\n",
      "71\n",
      "\n",
      "vehicle_size\n",
      "['compact' 'midsize' 'large']\n",
      "3\n",
      "\n",
      "vehicle_style\n",
      "['coupe' 'convertible' 'sedan' 'wagon' '4dr_hatchback']\n",
      "16\n",
      "\n",
      "highway_mpg\n",
      "[26 28 27 25 24]\n",
      "59\n",
      "\n",
      "city_mpg\n",
      "[19 20 18 17 16]\n",
      "69\n",
      "\n",
      "popularity\n",
      "[3916 3105  819  617 1013]\n",
      "48\n",
      "\n",
      "msrp\n",
      "[46135 40650 36350 29450 34500]\n",
      "6049\n",
      "\n"
     ]
    }
   ],
   "source": [
    "for col in df.columns:\n",
    "    print(col)\n",
    "    print(df[col].unique()[:5])\n",
    "    print(df[col].nunique())\n",
    "    print()"
   ],
   "metadata": {
    "collapsed": false,
    "pycharm": {
     "name": "#%%\n"
    }
   }
  },
  {
   "cell_type": "raw",
   "source": [
    "# Distribution of Price"
   ],
   "metadata": {
    "collapsed": false,
    "pycharm": {
     "name": "#%% raw\n"
    }
   }
  },
  {
   "cell_type": "code",
   "execution_count": 13,
   "outputs": [],
   "source": [
    "import matplotlib.pyplot as plt\n",
    "import seaborn as sns\n",
    "\n",
    "%matplotlib inline"
   ],
   "metadata": {
    "collapsed": false,
    "pycharm": {
     "name": "#%%\n"
    }
   }
  },
  {
   "cell_type": "code",
   "execution_count": 14,
   "outputs": [
    {
     "name": "stdout",
     "output_type": "stream",
     "text": [
      "\n"
     ]
    },
    {
     "data": {
      "text/plain": "<Figure size 432x288 with 1 Axes>",
      "image/png": "[encoded data removed]"
     },
     "metadata": {
      "needs_background": "light"
     },
     "output_type": "display_data"
    }
   ],
   "source": [
    "sns.histplot(df.msrp, bins=100)\n",
    "print()"
   ],
   "metadata": {
    "collapsed": false,
    "pycharm": {
     "name": "#%%\n"
    }
   }
  },
  {
   "cell_type": "code",
   "execution_count": 15,
   "outputs": [
    {
     "name": "stdout",
     "output_type": "stream",
     "text": [
      "\n"
     ]
    },
    {
     "data": {
      "text/plain": "<Figure size 432x288 with 1 Axes>",
      "image/png": "[encoded data removed]"
     },
     "metadata": {
      "needs_background": "light"
     },
     "output_type": "display_data"
    }
   ],
   "source": [
    "sns.histplot(df.msrp[df.msrp < 100000], bins=100)\n",
    "print() # Long tail distribution"
   ],
   "metadata": {
    "collapsed": false,
    "pycharm": {
     "name": "#%%\n"
    }
   }
  },
  {
   "cell_type": "code",
   "execution_count": 16,
   "outputs": [
    {
     "data": {
      "text/plain": "0        10.739349\n1        10.612779\n2        10.500977\n3        10.290483\n4        10.448744\n           ...    \n11909    10.739024\n11910    10.945018\n11911    10.832122\n11912    10.838031\n11913    10.274913\nName: msrp, Length: 11914, dtype: float64"
     },
     "execution_count": 16,
     "metadata": {},
     "output_type": "execute_result"
    }
   ],
   "source": [
    "# Getting rid of long-tail in data\n",
    "# using LOG distribution\n",
    "\n",
    "price_logs = np.log1p(df.msrp)\n",
    "price_logs"
   ],
   "metadata": {
    "collapsed": false,
    "pycharm": {
     "name": "#%%\n"
    }
   }
  },
  {
   "cell_type": "code",
   "execution_count": 19,
   "outputs": [
    {
     "name": "stdout",
     "output_type": "stream",
     "text": [
      "\n"
     ]
    },
    {
     "data": {
      "text/plain": "<Figure size 432x288 with 1 Axes>",
      "image/png": "[encoded data removed]"
     },
     "metadata": {
      "needs_background": "light"
     },
     "output_type": "display_data"
    }
   ],
   "source": [
    "sns.histplot(price_logs, bins=100, kde=True) # Normal Distribution\n",
    "print()"
   ],
   "metadata": {
    "collapsed": false,
    "pycharm": {
     "name": "#%%\n"
    }
   }
  },
  {
   "cell_type": "raw",
   "source": [
    "Dealing with Missing Values"
   ],
   "metadata": {
    "collapsed": false,
    "pycharm": {
     "name": "#%% raw\n"
    }
   }
  },
  {
   "cell_type": "code",
   "execution_count": 20,
   "outputs": [
    {
     "data": {
      "text/plain": "make                    0\nmodel                   0\nyear                    0\nengine_fuel_type        3\nengine_hp              69\nengine_cylinders       30\ntransmission_type       0\ndriven_wheels           0\nnumber_of_doors         6\nmarket_category      3742\nvehicle_size            0\nvehicle_style           0\nhighway_mpg             0\ncity_mpg                0\npopularity              0\nmsrp                    0\ndtype: int64"
     },
     "execution_count": 20,
     "metadata": {},
     "output_type": "execute_result"
    }
   ],
   "source": [
    "df.isnull().sum()"
   ],
   "metadata": {
    "collapsed": false,
    "pycharm": {
     "name": "#%%\n"
    }
   }
  },
  {
   "cell_type": "markdown",
   "source": [
    "# Setting up the Validation Framework"
   ],
   "metadata": {
    "collapsed": false,
    "pycharm": {
     "name": "#%% md\n"
    }
   }
  },
  {
   "cell_type": "code",
   "execution_count": 21,
   "outputs": [],
   "source": [
    "# Splitting the data\n",
    "n = len(df)\n",
    "n_val = int(n * 0.2)\n",
    "n_test = int(n * 0.2)\n",
    "n_train = n - n_val - n_test"
   ],
   "metadata": {
    "collapsed": false,
    "pycharm": {
     "name": "#%%\n"
    }
   }
  },
  {
   "cell_type": "code",
   "execution_count": 24,
   "outputs": [
    {
     "data": {
      "text/plain": "(2382, 2382, 7150)"
     },
     "execution_count": 24,
     "metadata": {},
     "output_type": "execute_result"
    }
   ],
   "source": [
    "n_val, n_test, n_train"
   ],
   "metadata": {
    "collapsed": false,
    "pycharm": {
     "name": "#%%\n"
    }
   }
  },
  {
   "cell_type": "code",
   "execution_count": 25,
   "outputs": [],
   "source": [
    "df_train = df.iloc[:n_train]\n",
    "df_val = df.iloc[n_train:n_train+n_val]\n",
    "df_test = df.iloc[n_train+n_val:]"
   ],
   "metadata": {
    "collapsed": false,
    "pycharm": {
     "name": "#%%\n"
    }
   }
  },
  {
   "cell_type": "code",
   "execution_count": 26,
   "outputs": [],
   "source": [
    "idx = np.arange(n)\n",
    "np.random.seed(2)\n",
    "np.random.shuffle(idx)"
   ],
   "metadata": {
    "collapsed": false,
    "pycharm": {
     "name": "#%%\n"
    }
   }
  },
  {
   "cell_type": "code",
   "execution_count": 27,
   "outputs": [],
   "source": [
    "df_train = df.iloc[idx[:n_train]]\n",
    "df_val = df.iloc[idx[n_train:n_train+n_val]]\n",
    "df_test = df.iloc[idx[n_train+n_val:]]"
   ],
   "metadata": {
    "collapsed": false,
    "pycharm": {
     "name": "#%%\n"
    }
   }
  },
  {
   "cell_type": "code",
   "execution_count": 28,
   "outputs": [
    {
     "data": {
      "text/plain": "             make    model  year          engine_fuel_type  engine_hp  \\\n2735    chevrolet   cobalt  2008          regular_unleaded      148.0   \n6720       toyota   matrix  2012          regular_unleaded      132.0   \n5878       subaru  impreza  2016          regular_unleaded      148.0   \n11190  volkswagen  vanagon  1991          regular_unleaded       90.0   \n4554         ford    f-150  2017  flex-fuel_(unleaded/e85)      385.0   \n\n       engine_cylinders transmission_type      driven_wheels  number_of_doors  \\\n2735                4.0            manual  front_wheel_drive              2.0   \n6720                4.0         automatic  front_wheel_drive              4.0   \n5878                4.0         automatic    all_wheel_drive              4.0   \n11190               4.0            manual   rear_wheel_drive              3.0   \n4554                8.0         automatic   four_wheel_drive              4.0   \n\n      market_category vehicle_size      vehicle_style  highway_mpg  city_mpg  \\\n2735              NaN      compact              coupe           33        24   \n6720        hatchback      compact      4dr_hatchback           32        25   \n5878        hatchback      compact      4dr_hatchback           37        28   \n11190             NaN        large  passenger_minivan           18        16   \n4554        flex_fuel        large    crew_cab_pickup           21        15   \n\n       popularity   msrp  \n2735         1385  14410  \n6720         2031  19685  \n5878          640  19795  \n11190         873   2000  \n4554         5657  56260  ",
      "text/html": "<div>\n<style scoped>\n    .dataframe tbody tr th:only-of-type {\n        vertical-align: middle;\n    }\n\n    .dataframe tbody tr th {\n        vertical-align: top;\n    }\n\n    .dataframe thead th {\n        text-align: right;\n    }\n</style>\n<table border=\"1\" class=\"dataframe\">\n  <thead>\n    <tr style=\"text-align: right;\">\n      <th></th>\n      <th>make</th>\n      <th>model</th>\n      <th>year</th>\n      <th>engine_fuel_type</th>\n      <th>engine_hp</th>\n      <th>engine_cylinders</th>\n      <th>transmission_type</th>\n      <th>driven_wheels</th>\n      <th>number_of_doors</th>\n      <th>market_category</th>\n      <th>vehicle_size</th>\n      <th>vehicle_style</th>\n      <th>highway_mpg</th>\n      <th>city_mpg</th>\n      <th>popularity</th>\n      <th>msrp</th>\n    </tr>\n  </thead>\n  <tbody>\n    <tr>\n      <th>2735</th>\n      <td>chevrolet</td>\n      <td>cobalt</td>\n      <td>2008</td>\n      <td>regular_unleaded</td>\n      <td>148.0</td>\n      <td>4.0</td>\n      <td>manual</td>\n      <td>front_wheel_drive</td>\n      <td>2.0</td>\n      <td>NaN</td>\n      <td>compact</td>\n      <td>coupe</td>\n      <td>33</td>\n      <td>24</td>\n      <td>1385</td>\n      <td>14410</td>\n    </tr>\n    <tr>\n      <th>6720</th>\n      <td>toyota</td>\n      <td>matrix</td>\n      <td>2012</td>\n      <td>regular_unleaded</td>\n      <td>132.0</td>\n      <td>4.0</td>\n      <td>automatic</td>\n      <td>front_wheel_drive</td>\n      <td>4.0</td>\n      <td>hatchback</td>\n      <td>compact</td>\n      <td>4dr_hatchback</td>\n      <td>32</td>\n      <td>25</td>\n      <td>2031</td>\n      <td>19685</td>\n    </tr>\n    <tr>\n      <th>5878</th>\n      <td>subaru</td>\n      <td>impreza</td>\n      <td>2016</td>\n      <td>regular_unleaded</td>\n      <td>148.0</td>\n      <td>4.0</td>\n      <td>automatic</td>\n      <td>all_wheel_drive</td>\n      <td>4.0</td>\n      <td>hatchback</td>\n      <td>compact</td>\n      <td>4dr_hatchback</td>\n      <td>37</td>\n      <td>28</td>\n      <td>640</td>\n      <td>19795</td>\n    </tr>\n    <tr>\n      <th>11190</th>\n      <td>volkswagen</td>\n      <td>vanagon</td>\n      <td>1991</td>\n      <td>regular_unleaded</td>\n      <td>90.0</td>\n      <td>4.0</td>\n      <td>manual</td>\n      <td>rear_wheel_drive</td>\n      <td>3.0</td>\n      <td>NaN</td>\n      <td>large</td>\n      <td>passenger_minivan</td>\n      <td>18</td>\n      <td>16</td>\n      <td>873</td>\n      <td>2000</td>\n    </tr>\n    <tr>\n      <th>4554</th>\n      <td>ford</td>\n      <td>f-150</td>\n      <td>2017</td>\n      <td>flex-fuel_(unleaded/e85)</td>\n      <td>385.0</td>\n      <td>8.0</td>\n      <td>automatic</td>\n      <td>four_wheel_drive</td>\n      <td>4.0</td>\n      <td>flex_fuel</td>\n      <td>large</td>\n      <td>crew_cab_pickup</td>\n      <td>21</td>\n      <td>15</td>\n      <td>5657</td>\n      <td>56260</td>\n    </tr>\n  </tbody>\n</table>\n</div>"
     },
     "execution_count": 28,
     "metadata": {},
     "output_type": "execute_result"
    }
   ],
   "source": [
    "df_train.head()"
   ],
   "metadata": {
    "collapsed": false,
    "pycharm": {
     "name": "#%%\n"
    }
   }
  },
  {
   "cell_type": "code",
   "execution_count": 29,
   "outputs": [
    {
     "data": {
      "text/plain": "(7150, 2382, 2382)"
     },
     "execution_count": 29,
     "metadata": {},
     "output_type": "execute_result"
    }
   ],
   "source": [
    "len(df_train), len(df_val), len(df_test)"
   ],
   "metadata": {
    "collapsed": false,
    "pycharm": {
     "name": "#%%\n"
    }
   }
  },
  {
   "cell_type": "code",
   "execution_count": 31,
   "outputs": [],
   "source": [
    "df_train = df_train.reset_index(drop=True)\n",
    "df_test = df_test.reset_index(drop=True)\n",
    "df_val = df_val.reset_index(drop=True)"
   ],
   "metadata": {
    "collapsed": false,
    "pycharm": {
     "name": "#%%\n"
    }
   }
  },
  {
   "cell_type": "code",
   "execution_count": 32,
   "outputs": [
    {
     "data": {
      "text/plain": "         make    model  year          engine_fuel_type  engine_hp  \\\n0   chevrolet   cobalt  2008          regular_unleaded      148.0   \n1      toyota   matrix  2012          regular_unleaded      132.0   \n2      subaru  impreza  2016          regular_unleaded      148.0   \n3  volkswagen  vanagon  1991          regular_unleaded       90.0   \n4        ford    f-150  2017  flex-fuel_(unleaded/e85)      385.0   \n\n   engine_cylinders transmission_type      driven_wheels  number_of_doors  \\\n0               4.0            manual  front_wheel_drive              2.0   \n1               4.0         automatic  front_wheel_drive              4.0   \n2               4.0         automatic    all_wheel_drive              4.0   \n3               4.0            manual   rear_wheel_drive              3.0   \n4               8.0         automatic   four_wheel_drive              4.0   \n\n  market_category vehicle_size      vehicle_style  highway_mpg  city_mpg  \\\n0             NaN      compact              coupe           33        24   \n1       hatchback      compact      4dr_hatchback           32        25   \n2       hatchback      compact      4dr_hatchback           37        28   \n3             NaN        large  passenger_minivan           18        16   \n4       flex_fuel        large    crew_cab_pickup           21        15   \n\n   popularity   msrp  \n0        1385  14410  \n1        2031  19685  \n2         640  19795  \n3         873   2000  \n4        5657  56260  ",
      "text/html": "<div>\n<style scoped>\n    .dataframe tbody tr th:only-of-type {\n        vertical-align: middle;\n    }\n\n    .dataframe tbody tr th {\n        vertical-align: top;\n    }\n\n    .dataframe thead th {\n        text-align: right;\n    }\n</style>\n<table border=\"1\" class=\"dataframe\">\n  <thead>\n    <tr style=\"text-align: right;\">\n      <th></th>\n      <th>make</th>\n      <th>model</th>\n      <th>year</th>\n      <th>engine_fuel_type</th>\n      <th>engine_hp</th>\n      <th>engine_cylinders</th>\n      <th>transmission_type</th>\n      <th>driven_wheels</th>\n      <th>number_of_doors</th>\n      <th>market_category</th>\n      <th>vehicle_size</th>\n      <th>vehicle_style</th>\n      <th>highway_mpg</th>\n      <th>city_mpg</th>\n      <th>popularity</th>\n      <th>msrp</th>\n    </tr>\n  </thead>\n  <tbody>\n    <tr>\n      <th>0</th>\n      <td>chevrolet</td>\n      <td>cobalt</td>\n      <td>2008</td>\n      <td>regular_unleaded</td>\n      <td>148.0</td>\n      <td>4.0</td>\n      <td>manual</td>\n      <td>front_wheel_drive</td>\n      <td>2.0</td>\n      <td>NaN</td>\n      <td>compact</td>\n      <td>coupe</td>\n      <td>33</td>\n      <td>24</td>\n      <td>1385</td>\n      <td>14410</td>\n    </tr>\n    <tr>\n      <th>1</th>\n      <td>toyota</td>\n      <td>matrix</td>\n      <td>2012</td>\n      <td>regular_unleaded</td>\n      <td>132.0</td>\n      <td>4.0</td>\n      <td>automatic</td>\n      <td>front_wheel_drive</td>\n      <td>4.0</td>\n      <td>hatchback</td>\n      <td>compact</td>\n      <td>4dr_hatchback</td>\n      <td>32</td>\n      <td>25</td>\n      <td>2031</td>\n      <td>19685</td>\n    </tr>\n    <tr>\n      <th>2</th>\n      <td>subaru</td>\n      <td>impreza</td>\n      <td>2016</td>\n      <td>regular_unleaded</td>\n      <td>148.0</td>\n      <td>4.0</td>\n      <td>automatic</td>\n      <td>all_wheel_drive</td>\n      <td>4.0</td>\n      <td>hatchback</td>\n      <td>compact</td>\n      <td>4dr_hatchback</td>\n      <td>37</td>\n      <td>28</td>\n      <td>640</td>\n      <td>19795</td>\n    </tr>\n    <tr>\n      <th>3</th>\n      <td>volkswagen</td>\n      <td>vanagon</td>\n      <td>1991</td>\n      <td>regular_unleaded</td>\n      <td>90.0</td>\n      <td>4.0</td>\n      <td>manual</td>\n      <td>rear_wheel_drive</td>\n      <td>3.0</td>\n      <td>NaN</td>\n      <td>large</td>\n      <td>passenger_minivan</td>\n      <td>18</td>\n      <td>16</td>\n      <td>873</td>\n      <td>2000</td>\n    </tr>\n    <tr>\n      <th>4</th>\n      <td>ford</td>\n      <td>f-150</td>\n      <td>2017</td>\n      <td>flex-fuel_(unleaded/e85)</td>\n      <td>385.0</td>\n      <td>8.0</td>\n      <td>automatic</td>\n      <td>four_wheel_drive</td>\n      <td>4.0</td>\n      <td>flex_fuel</td>\n      <td>large</td>\n      <td>crew_cab_pickup</td>\n      <td>21</td>\n      <td>15</td>\n      <td>5657</td>\n      <td>56260</td>\n    </tr>\n  </tbody>\n</table>\n</div>"
     },
     "execution_count": 32,
     "metadata": {},
     "output_type": "execute_result"
    }
   ],
   "source": [
    "df_train.head()"
   ],
   "metadata": {
    "collapsed": false,
    "pycharm": {
     "name": "#%%\n"
    }
   }
  },
  {
   "cell_type": "code",
   "execution_count": 33,
   "outputs": [],
   "source": [
    "# Transformation\n",
    "\n",
    "y_train = np.log1p(df_train.msrp.values)\n",
    "y_val = np.log1p(df_val.msrp.values)\n",
    "y_test = np.log1p(df_test.msrp.values)"
   ],
   "metadata": {
    "collapsed": false,
    "pycharm": {
     "name": "#%%\n"
    }
   }
  },
  {
   "cell_type": "code",
   "execution_count": 34,
   "outputs": [],
   "source": [
    "# Delete Column that we want to predict\n",
    "del df_train['msrp']\n",
    "del df_val['msrp']\n",
    "del df_test['msrp']"
   ],
   "metadata": {
    "collapsed": false,
    "pycharm": {
     "name": "#%%\n"
    }
   }
  },
  {
   "cell_type": "code",
   "execution_count": 35,
   "outputs": [
    {
     "data": {
      "text/plain": "(7150, 15)"
     },
     "execution_count": 35,
     "metadata": {},
     "output_type": "execute_result"
    }
   ],
   "source": [
    "df_train.shape"
   ],
   "metadata": {
    "collapsed": false,
    "pycharm": {
     "name": "#%%\n"
    }
   }
  },
  {
   "cell_type": "code",
   "execution_count": 36,
   "outputs": [
    {
     "data": {
      "text/plain": "7150"
     },
     "execution_count": 36,
     "metadata": {},
     "output_type": "execute_result"
    }
   ],
   "source": [
    "len(y_train)"
   ],
   "metadata": {
    "collapsed": false,
    "pycharm": {
     "name": "#%%\n"
    }
   }
  },
  {
   "cell_type": "markdown",
   "source": [
    "# Linear Regression"
   ],
   "metadata": {
    "collapsed": false,
    "pycharm": {
     "name": "#%% md\n"
    }
   }
  },
  {
   "cell_type": "code",
   "execution_count": 37,
   "outputs": [
    {
     "data": {
      "text/plain": "make                                 rolls-royce\nmodel                     phantom_drophead_coupe\nyear                                        2015\nengine_fuel_type     premium_unleaded_(required)\nengine_hp                                  453.0\nengine_cylinders                            12.0\ntransmission_type                      automatic\ndriven_wheels                   rear_wheel_drive\nnumber_of_doors                              2.0\nmarket_category        exotic,luxury,performance\nvehicle_size                               large\nvehicle_style                        convertible\nhighway_mpg                                   19\ncity_mpg                                      11\npopularity                                    86\nName: 10, dtype: object"
     },
     "execution_count": 37,
     "metadata": {},
     "output_type": "execute_result"
    }
   ],
   "source": [
    "df_train.iloc[10]"
   ],
   "metadata": {
    "collapsed": false,
    "pycharm": {
     "name": "#%%\n"
    }
   }
  },
  {
   "cell_type": "code",
   "execution_count": 38,
   "outputs": [],
   "source": [
    "xi = [453, 11, 86]"
   ],
   "metadata": {
    "collapsed": false,
    "pycharm": {
     "name": "#%%\n"
    }
   }
  },
  {
   "cell_type": "code",
   "execution_count": 39,
   "outputs": [],
   "source": [
    "w0 = 7.17 #bias\n",
    "w = [0.01,0.04,0.002]"
   ],
   "metadata": {
    "collapsed": false,
    "pycharm": {
     "name": "#%%\n"
    }
   }
  },
  {
   "cell_type": "code",
   "execution_count": 40,
   "outputs": [],
   "source": [
    "def linear_regression(xi):\n",
    "    n = len(xi)\n",
    "\n",
    "    pred = w0\n",
    "\n",
    "    for j in range(n):\n",
    "        pred = pred + w[j] * xi[j]\n",
    "\n",
    "    return pred"
   ],
   "metadata": {
    "collapsed": false,
    "pycharm": {
     "name": "#%%\n"
    }
   }
  },
  {
   "cell_type": "code",
   "execution_count": 41,
   "outputs": [
    {
     "data": {
      "text/plain": "12.312"
     },
     "execution_count": 41,
     "metadata": {},
     "output_type": "execute_result"
    }
   ],
   "source": [
    "linear_regression(xi)"
   ],
   "metadata": {
    "collapsed": false,
    "pycharm": {
     "name": "#%%\n"
    }
   }
  },
  {
   "cell_type": "code",
   "execution_count": 42,
   "outputs": [
    {
     "data": {
      "text/plain": "222347.2221101062"
     },
     "execution_count": 42,
     "metadata": {},
     "output_type": "execute_result"
    }
   ],
   "source": [
    "np.expm1(12.312)"
   ],
   "metadata": {
    "collapsed": false,
    "pycharm": {
     "name": "#%%\n"
    }
   }
  },
  {
   "cell_type": "markdown",
   "source": [
    "# Linear Regression Vector Form"
   ],
   "metadata": {
    "collapsed": false,
    "pycharm": {
     "name": "#%% md\n"
    }
   }
  },
  {
   "cell_type": "code",
   "execution_count": 43,
   "outputs": [],
   "source": [
    "def dot(xi, w):\n",
    "    n = len(xi)\n",
    "\n",
    "    res = 0.0\n",
    "\n",
    "    for j in range(n):\n",
    "        res = res + xi[j] * w[j]\n",
    "\n",
    "    return res"
   ],
   "metadata": {
    "collapsed": false,
    "pycharm": {
     "name": "#%%\n"
    }
   }
  },
  {
   "cell_type": "code",
   "execution_count": 44,
   "outputs": [],
   "source": [
    "def linear_regression(xi):\n",
    "    return w0 + dot(xi, w)"
   ],
   "metadata": {
    "collapsed": false,
    "pycharm": {
     "name": "#%%\n"
    }
   }
  },
  {
   "cell_type": "code",
   "execution_count": 45,
   "outputs": [],
   "source": [
    "w_new = [w0] + w"
   ],
   "metadata": {
    "collapsed": false,
    "pycharm": {
     "name": "#%%\n"
    }
   }
  },
  {
   "cell_type": "code",
   "execution_count": 46,
   "outputs": [
    {
     "data": {
      "text/plain": "[7.17, 0.01, 0.04, 0.002]"
     },
     "execution_count": 46,
     "metadata": {},
     "output_type": "execute_result"
    }
   ],
   "source": [
    "w_new"
   ],
   "metadata": {
    "collapsed": false,
    "pycharm": {
     "name": "#%%\n"
    }
   }
  },
  {
   "cell_type": "code",
   "execution_count": 56,
   "outputs": [],
   "source": [
    "def linear_regression(xi):\n",
    "    xi = [1] + xi\n",
    "    return dot(xi, w_new)"
   ],
   "metadata": {
    "collapsed": false,
    "pycharm": {
     "name": "#%%\n"
    }
   }
  },
  {
   "cell_type": "code",
   "execution_count": 57,
   "outputs": [
    {
     "data": {
      "text/plain": "12.312"
     },
     "execution_count": 57,
     "metadata": {},
     "output_type": "execute_result"
    }
   ],
   "source": [
    "linear_regression(xi)"
   ],
   "metadata": {
    "collapsed": false,
    "pycharm": {
     "name": "#%%\n"
    }
   }
  },
  {
   "cell_type": "code",
   "execution_count": 60,
   "outputs": [],
   "source": [
    "w0 = 7.17 #bias\n",
    "w = [0.01,0.04,0.002]\n",
    "w_new = [w0] + w"
   ],
   "metadata": {
    "collapsed": false,
    "pycharm": {
     "name": "#%%\n"
    }
   }
  },
  {
   "cell_type": "code",
   "execution_count": 61,
   "outputs": [
    {
     "data": {
      "text/plain": "array([[   1,  148,   24, 1385],\n       [   1,  132,   25, 2031],\n       [   1,  453,   11,   86]])"
     },
     "execution_count": 61,
     "metadata": {},
     "output_type": "execute_result"
    }
   ],
   "source": [
    "x1 = [1, 148, 24, 1385]\n",
    "x2 = [1, 132, 25, 2031]\n",
    "x10 = [1, 453, 11, 86]\n",
    "\n",
    "X = [x1, x2, x10]\n",
    "X = np.array(X)\n",
    "X"
   ],
   "metadata": {
    "collapsed": false,
    "pycharm": {
     "name": "#%%\n"
    }
   }
  },
  {
   "cell_type": "code",
   "execution_count": 65,
   "outputs": [],
   "source": [
    "def linear_regression(X):\n",
    "    # as a Matrix Vector multiplication\n",
    "    return X.dot(w_new)"
   ],
   "metadata": {
    "collapsed": false,
    "pycharm": {
     "name": "#%%\n"
    }
   }
  },
  {
   "cell_type": "code",
   "execution_count": 66,
   "outputs": [
    {
     "data": {
      "text/plain": "array([12.38 , 13.552, 12.312])"
     },
     "execution_count": 66,
     "metadata": {},
     "output_type": "execute_result"
    }
   ],
   "source": [
    "linear_regression(X)"
   ],
   "metadata": {
    "collapsed": false,
    "pycharm": {
     "name": "#%%\n"
    }
   }
  },
  {
   "cell_type": "markdown",
   "source": [
    "# Training a linear regression model"
   ],
   "metadata": {
    "collapsed": false,
    "pycharm": {
     "name": "#%% md\n"
    }
   }
  },
  {
   "cell_type": "code",
   "execution_count": 86,
   "outputs": [],
   "source": [
    "def train_linear_regression(X, y):\n",
    "    ones = np.ones(X.shape[0])\n",
    "    X = np.column_stack([ones, X])\n",
    "\n",
    "    # Implementing GRAM Matrix\n",
    "\n",
    "    XTX = X.transpose().dot(X)\n",
    "    XTX_inv = np.linalg.inv(XTX)\n",
    "\n",
    "    w_full = XTX_inv.dot(X.T).dot(y)\n",
    "\n",
    "    return w_full[0], w_full[1:]"
   ],
   "metadata": {
    "collapsed": false,
    "pycharm": {
     "name": "#%%\n"
    }
   }
  },
  {
   "cell_type": "code",
   "execution_count": 87,
   "outputs": [
    {
     "data": {
      "text/plain": "array([[ 148,   24, 1385],\n       [ 132,   25, 2031],\n       [ 453,   11,   86],\n       [ 158,   24,  185],\n       [ 172,   25,  201],\n       [ 413,   11,   86],\n       [  38,   54,  185],\n       [ 142,   25,  431],\n       [ 453,   31,   86]])"
     },
     "execution_count": 87,
     "metadata": {},
     "output_type": "execute_result"
    }
   ],
   "source": [
    "X = [\n",
    "    [148, 24, 1385],\n",
    "    [132, 25, 2031],\n",
    "    [453, 11, 86],\n",
    "    [158, 24, 185],\n",
    "    [172, 25, 201],\n",
    "    [413, 11, 86],\n",
    "    [38, 54, 185],\n",
    "    [142, 25, 431],\n",
    "    [453, 31, 86],\n",
    "]\n",
    "X = np.array(X)\n",
    "X"
   ],
   "metadata": {
    "collapsed": false,
    "pycharm": {
     "name": "#%%\n"
    }
   }
  },
  {
   "cell_type": "code",
   "execution_count": 80,
   "outputs": [],
   "source": [
    "y = [100, 200, 150, 250, 100, 200, 150, 250, 120]"
   ],
   "metadata": {
    "collapsed": false,
    "pycharm": {
     "name": "#%%\n"
    }
   }
  },
  {
   "cell_type": "code",
   "execution_count": 88,
   "outputs": [
    {
     "data": {
      "text/plain": "(300.06776692555707, array([-0.22774253, -2.5769413 , -0.02301206]))"
     },
     "execution_count": 88,
     "metadata": {},
     "output_type": "execute_result"
    }
   ],
   "source": [
    "train_linear_regression(X=X , y=y)"
   ],
   "metadata": {
    "collapsed": false,
    "pycharm": {
     "name": "#%%\n"
    }
   }
  },
  {
   "cell_type": "markdown",
   "source": [
    "# Car price baseline model"
   ],
   "metadata": {
    "collapsed": false
   }
  },
  {
   "cell_type": "code",
   "execution_count": 94,
   "outputs": [
    {
     "data": {
      "text/plain": "Index(['year', 'engine_hp', 'engine_cylinders', 'number_of_doors',\n       'highway_mpg', 'city_mpg', 'popularity'],\n      dtype='object')"
     },
     "execution_count": 94,
     "metadata": {},
     "output_type": "execute_result"
    }
   ],
   "source": [
    "df_train.dtypes[df_train.dtypes != 'object'].index"
   ],
   "metadata": {
    "collapsed": false,
    "pycharm": {
     "name": "#%%\n"
    }
   }
  },
  {
   "cell_type": "code",
   "execution_count": 95,
   "outputs": [],
   "source": [
    "base = ['engine_hp', 'engine_cylinders', 'highway_mpg', 'city_mpg', 'popularity']"
   ],
   "metadata": {
    "collapsed": false,
    "pycharm": {
     "name": "#%%\n"
    }
   }
  },
  {
   "cell_type": "code",
   "execution_count": 96,
   "outputs": [
    {
     "data": {
      "text/plain": "      engine_hp  engine_cylinders  highway_mpg  city_mpg  popularity\n0         148.0               4.0           33        24        1385\n1         132.0               4.0           32        25        2031\n2         148.0               4.0           37        28         640\n3          90.0               4.0           18        16         873\n4         385.0               8.0           21        15        5657\n...         ...               ...          ...       ...         ...\n7145      300.0               6.0           31        20        3916\n7146      210.0               4.0           30        24         873\n7147      285.0               6.0           22        17         549\n7148      563.0              12.0           21        13          86\n7149      200.0               4.0           31        22         873\n\n[7150 rows x 5 columns]",
      "text/html": "<div>\n<style scoped>\n    .dataframe tbody tr th:only-of-type {\n        vertical-align: middle;\n    }\n\n    .dataframe tbody tr th {\n        vertical-align: top;\n    }\n\n    .dataframe thead th {\n        text-align: right;\n    }\n</style>\n<table border=\"1\" class=\"dataframe\">\n  <thead>\n    <tr style=\"text-align: right;\">\n      <th></th>\n      <th>engine_hp</th>\n      <th>engine_cylinders</th>\n      <th>highway_mpg</th>\n      <th>city_mpg</th>\n      <th>popularity</th>\n    </tr>\n  </thead>\n  <tbody>\n    <tr>\n      <th>0</th>\n      <td>148.0</td>\n      <td>4.0</td>\n      <td>33</td>\n      <td>24</td>\n      <td>1385</td>\n    </tr>\n    <tr>\n      <th>1</th>\n      <td>132.0</td>\n      <td>4.0</td>\n      <td>32</td>\n      <td>25</td>\n      <td>2031</td>\n    </tr>\n    <tr>\n      <th>2</th>\n      <td>148.0</td>\n      <td>4.0</td>\n      <td>37</td>\n      <td>28</td>\n      <td>640</td>\n    </tr>\n    <tr>\n      <th>3</th>\n      <td>90.0</td>\n      <td>4.0</td>\n      <td>18</td>\n      <td>16</td>\n      <td>873</td>\n    </tr>\n    <tr>\n      <th>4</th>\n      <td>385.0</td>\n      <td>8.0</td>\n      <td>21</td>\n      <td>15</td>\n      <td>5657</td>\n    </tr>\n    <tr>\n      <th>...</th>\n      <td>...</td>\n      <td>...</td>\n      <td>...</td>\n      <td>...</td>\n      <td>...</td>\n    </tr>\n    <tr>\n      <th>7145</th>\n      <td>300.0</td>\n      <td>6.0</td>\n      <td>31</td>\n      <td>20</td>\n      <td>3916</td>\n    </tr>\n    <tr>\n      <th>7146</th>\n      <td>210.0</td>\n      <td>4.0</td>\n      <td>30</td>\n      <td>24</td>\n      <td>873</td>\n    </tr>\n    <tr>\n      <th>7147</th>\n      <td>285.0</td>\n      <td>6.0</td>\n      <td>22</td>\n      <td>17</td>\n      <td>549</td>\n    </tr>\n    <tr>\n      <th>7148</th>\n      <td>563.0</td>\n      <td>12.0</td>\n      <td>21</td>\n      <td>13</td>\n      <td>86</td>\n    </tr>\n    <tr>\n      <th>7149</th>\n      <td>200.0</td>\n      <td>4.0</td>\n      <td>31</td>\n      <td>22</td>\n      <td>873</td>\n    </tr>\n  </tbody>\n</table>\n<p>7150 rows × 5 columns</p>\n</div>"
     },
     "execution_count": 96,
     "metadata": {},
     "output_type": "execute_result"
    }
   ],
   "source": [
    "df_train[base]"
   ],
   "metadata": {
    "collapsed": false,
    "pycharm": {
     "name": "#%%\n"
    }
   }
  },
  {
   "cell_type": "code",
   "execution_count": 97,
   "outputs": [],
   "source": [
    "X_train = df_train[base].values"
   ],
   "metadata": {
    "collapsed": false,
    "pycharm": {
     "name": "#%%\n"
    }
   }
  },
  {
   "cell_type": "code",
   "execution_count": 99,
   "outputs": [
    {
     "data": {
      "text/plain": "engine_hp           40\nengine_cylinders    14\nhighway_mpg          0\ncity_mpg             0\npopularity           0\ndtype: int64"
     },
     "execution_count": 99,
     "metadata": {},
     "output_type": "execute_result"
    }
   ],
   "source": [
    "df_train[base].isnull().sum()"
   ],
   "metadata": {
    "collapsed": false,
    "pycharm": {
     "name": "#%%\n"
    }
   }
  },
  {
   "cell_type": "markdown",
   "source": [
    "Handling missing values"
   ],
   "metadata": {
    "collapsed": false
   }
  },
  {
   "cell_type": "code",
   "execution_count": 100,
   "outputs": [],
   "source": [
    "X_train = df_train[base].fillna(0).values"
   ],
   "metadata": {
    "collapsed": false,
    "pycharm": {
     "name": "#%%\n"
    }
   }
  },
  {
   "cell_type": "code",
   "execution_count": 102,
   "outputs": [],
   "source": [
    "w0, w = train_linear_regression(X_train, y_train)"
   ],
   "metadata": {
    "collapsed": false,
    "pycharm": {
     "name": "#%%\n"
    }
   }
  },
  {
   "cell_type": "code",
   "execution_count": 103,
   "outputs": [],
   "source": [
    "y_pred = w0 + X_train.dot(w)"
   ],
   "metadata": {
    "collapsed": false,
    "pycharm": {
     "name": "#%%\n"
    }
   }
  },
  {
   "cell_type": "code",
   "execution_count": 106,
   "outputs": [
    {
     "data": {
      "text/plain": "<AxesSubplot:ylabel='Count'>"
     },
     "execution_count": 106,
     "metadata": {},
     "output_type": "execute_result"
    },
    {
     "data": {
      "text/plain": "<Figure size 432x288 with 1 Axes>",
      "image/png": "[encoded data removed]"
     },
     "metadata": {
      "needs_background": "light"
     },
     "output_type": "display_data"
    }
   ],
   "source": [
    "sns.histplot(y_pred, color='red', alpha=0.5, bins=50)\n",
    "sns.histplot(y_train, color='blue', alpha=0.5, bins=50)"
   ],
   "metadata": {
    "collapsed": false,
    "pycharm": {
     "name": "#%%\n"
    }
   }
  },
  {
   "cell_type": "markdown",
   "source": [
    "# Root Mean Square Error (RMSE)"
   ],
   "metadata": {
    "collapsed": false
   }
  },
  {
   "cell_type": "code",
   "execution_count": 109,
   "outputs": [],
   "source": [
    "def rmse(y_pred, y_actual):\n",
    "    sqe = (y_actual - y_pred) ** 2\n",
    "    mse = sqe.mean()\n",
    "    return np.sqrt(mse)"
   ],
   "metadata": {
    "collapsed": false,
    "pycharm": {
     "name": "#%%\n"
    }
   }
  },
  {
   "cell_type": "code",
   "execution_count": 110,
   "outputs": [
    {
     "data": {
      "text/plain": "0.7554192603920132"
     },
     "execution_count": 110,
     "metadata": {},
     "output_type": "execute_result"
    }
   ],
   "source": [
    "rmse(y_pred=y_pred, y_actual=y_train)"
   ],
   "metadata": {
    "collapsed": false,
    "pycharm": {
     "name": "#%%\n"
    }
   }
  },
  {
   "cell_type": "markdown",
   "source": [
    "# Validating the model"
   ],
   "metadata": {
    "collapsed": false
   }
  },
  {
   "cell_type": "code",
   "execution_count": 114,
   "outputs": [],
   "source": [
    "def prepare_X(df):\n",
    "    df_num = df[base]\n",
    "    df_num = df_num.fillna(0)\n",
    "    X = df_num.values\n",
    "    return X"
   ],
   "metadata": {
    "collapsed": false,
    "pycharm": {
     "name": "#%%\n"
    }
   }
  },
  {
   "cell_type": "code",
   "execution_count": 116,
   "outputs": [
    {
     "data": {
      "text/plain": "0.7616530991301591"
     },
     "execution_count": 116,
     "metadata": {},
     "output_type": "execute_result"
    }
   ],
   "source": [
    "# Training\n",
    "X_train = prepare_X(df_train)\n",
    "w0, w = train_linear_regression(X_train, y_train)\n",
    "\n",
    "# Validation\n",
    "X_val = prepare_X(df_val)\n",
    "y_pred = w0 + X_val.dot(w)\n",
    "\n",
    "rmse(y_pred, y_val)"
   ],
   "metadata": {
    "collapsed": false,
    "pycharm": {
     "name": "#%%\n"
    }
   }
  },
  {
   "cell_type": "markdown",
   "source": [
    "# Simple feature engineering"
   ],
   "metadata": {
    "collapsed": false
   }
  },
  {
   "cell_type": "code",
   "execution_count": 117,
   "outputs": [
    {
     "data": {
      "text/plain": "             make        model  year                engine_fuel_type  \\\n0       chevrolet       cobalt  2008                regular_unleaded   \n1          toyota       matrix  2012                regular_unleaded   \n2          subaru      impreza  2016                regular_unleaded   \n3      volkswagen      vanagon  1991                regular_unleaded   \n4            ford        f-150  2017        flex-fuel_(unleaded/e85)   \n...           ...          ...   ...                             ...   \n7145          bmw     4_series  2015     premium_unleaded_(required)   \n7146   volkswagen       beetle  2015  premium_unleaded_(recommended)   \n7147          gmc  sierra_1500  2015        flex-fuel_(unleaded/e85)   \n7148  rolls-royce        ghost  2014     premium_unleaded_(required)   \n7149   volkswagen           cc  2017  premium_unleaded_(recommended)   \n\n      engine_hp  engine_cylinders transmission_type      driven_wheels  \\\n0         148.0               4.0            manual  front_wheel_drive   \n1         132.0               4.0         automatic  front_wheel_drive   \n2         148.0               4.0         automatic    all_wheel_drive   \n3          90.0               4.0            manual   rear_wheel_drive   \n4         385.0               8.0         automatic   four_wheel_drive   \n...         ...               ...               ...                ...   \n7145      300.0               6.0         automatic   rear_wheel_drive   \n7146      210.0               4.0  automated_manual  front_wheel_drive   \n7147      285.0               6.0         automatic   four_wheel_drive   \n7148      563.0              12.0         automatic   rear_wheel_drive   \n7149      200.0               4.0  automated_manual  front_wheel_drive   \n\n      number_of_doors            market_category vehicle_size  \\\n0                 2.0                        NaN      compact   \n1                 4.0                  hatchback      compact   \n2                 4.0                  hatchback      compact   \n3                 3.0                        NaN        large   \n4                 4.0                  flex_fuel        large   \n...               ...                        ...          ...   \n7145              2.0         luxury,performance      midsize   \n7146              2.0      hatchback,performance      compact   \n7147              4.0                  flex_fuel        large   \n7148              4.0  exotic,luxury,performance        large   \n7149              4.0                performance      midsize   \n\n            vehicle_style  highway_mpg  city_mpg  popularity  \n0                   coupe           33        24        1385  \n1           4dr_hatchback           32        25        2031  \n2           4dr_hatchback           37        28         640  \n3       passenger_minivan           18        16         873  \n4         crew_cab_pickup           21        15        5657  \n...                   ...          ...       ...         ...  \n7145          convertible           31        20        3916  \n7146        2dr_hatchback           30        24         873  \n7147  extended_cab_pickup           22        17         549  \n7148                sedan           21        13          86  \n7149                sedan           31        22         873  \n\n[7150 rows x 15 columns]",
      "text/html": "<div>\n<style scoped>\n    .dataframe tbody tr th:only-of-type {\n        vertical-align: middle;\n    }\n\n    .dataframe tbody tr th {\n        vertical-align: top;\n    }\n\n    .dataframe thead th {\n        text-align: right;\n    }\n</style>\n<table border=\"1\" class=\"dataframe\">\n  <thead>\n    <tr style=\"text-align: right;\">\n      <th></th>\n      <th>make</th>\n      <th>model</th>\n      <th>year</th>\n      <th>engine_fuel_type</th>\n      <th>engine_hp</th>\n      <th>engine_cylinders</th>\n      <th>transmission_type</th>\n      <th>driven_wheels</th>\n      <th>number_of_doors</th>\n      <th>market_category</th>\n      <th>vehicle_size</th>\n      <th>vehicle_style</th>\n      <th>highway_mpg</th>\n      <th>city_mpg</th>\n      <th>popularity</th>\n    </tr>\n  </thead>\n  <tbody>\n    <tr>\n      <th>0</th>\n      <td>chevrolet</td>\n      <td>cobalt</td>\n      <td>2008</td>\n      <td>regular_unleaded</td>\n      <td>148.0</td>\n      <td>4.0</td>\n      <td>manual</td>\n      <td>front_wheel_drive</td>\n      <td>2.0</td>\n      <td>NaN</td>\n      <td>compact</td>\n      <td>coupe</td>\n      <td>33</td>\n      <td>24</td>\n      <td>1385</td>\n    </tr>\n    <tr>\n      <th>1</th>\n      <td>toyota</td>\n      <td>matrix</td>\n      <td>2012</td>\n      <td>regular_unleaded</td>\n      <td>132.0</td>\n      <td>4.0</td>\n      <td>automatic</td>\n      <td>front_wheel_drive</td>\n      <td>4.0</td>\n      <td>hatchback</td>\n      <td>compact</td>\n      <td>4dr_hatchback</td>\n      <td>32</td>\n      <td>25</td>\n      <td>2031</td>\n    </tr>\n    <tr>\n      <th>2</th>\n      <td>subaru</td>\n      <td>impreza</td>\n      <td>2016</td>\n      <td>regular_unleaded</td>\n      <td>148.0</td>\n      <td>4.0</td>\n      <td>automatic</td>\n      <td>all_wheel_drive</td>\n      <td>4.0</td>\n      <td>hatchback</td>\n      <td>compact</td>\n      <td>4dr_hatchback</td>\n      <td>37</td>\n      <td>28</td>\n      <td>640</td>\n    </tr>\n    <tr>\n      <th>3</th>\n      <td>volkswagen</td>\n      <td>vanagon</td>\n      <td>1991</td>\n      <td>regular_unleaded</td>\n      <td>90.0</td>\n      <td>4.0</td>\n      <td>manual</td>\n      <td>rear_wheel_drive</td>\n      <td>3.0</td>\n      <td>NaN</td>\n      <td>large</td>\n      <td>passenger_minivan</td>\n      <td>18</td>\n      <td>16</td>\n      <td>873</td>\n    </tr>\n    <tr>\n      <th>4</th>\n      <td>ford</td>\n      <td>f-150</td>\n      <td>2017</td>\n      <td>flex-fuel_(unleaded/e85)</td>\n      <td>385.0</td>\n      <td>8.0</td>\n      <td>automatic</td>\n      <td>four_wheel_drive</td>\n      <td>4.0</td>\n      <td>flex_fuel</td>\n      <td>large</td>\n      <td>crew_cab_pickup</td>\n      <td>21</td>\n      <td>15</td>\n      <td>5657</td>\n    </tr>\n    <tr>\n      <th>...</th>\n      <td>...</td>\n      <td>...</td>\n      <td>...</td>\n      <td>...</td>\n      <td>...</td>\n      <td>...</td>\n      <td>...</td>\n      <td>...</td>\n      <td>...</td>\n      <td>...</td>\n      <td>...</td>\n      <td>...</td>\n      <td>...</td>\n      <td>...</td>\n      <td>...</td>\n    </tr>\n    <tr>\n      <th>7145</th>\n      <td>bmw</td>\n      <td>4_series</td>\n      <td>2015</td>\n      <td>premium_unleaded_(required)</td>\n      <td>300.0</td>\n      <td>6.0</td>\n      <td>automatic</td>\n      <td>rear_wheel_drive</td>\n      <td>2.0</td>\n      <td>luxury,performance</td>\n      <td>midsize</td>\n      <td>convertible</td>\n      <td>31</td>\n      <td>20</td>\n      <td>3916</td>\n    </tr>\n    <tr>\n      <th>7146</th>\n      <td>volkswagen</td>\n      <td>beetle</td>\n      <td>2015</td>\n      <td>premium_unleaded_(recommended)</td>\n      <td>210.0</td>\n      <td>4.0</td>\n      <td>automated_manual</td>\n      <td>front_wheel_drive</td>\n      <td>2.0</td>\n      <td>hatchback,performance</td>\n      <td>compact</td>\n      <td>2dr_hatchback</td>\n      <td>30</td>\n      <td>24</td>\n      <td>873</td>\n    </tr>\n    <tr>\n      <th>7147</th>\n      <td>gmc</td>\n      <td>sierra_1500</td>\n      <td>2015</td>\n      <td>flex-fuel_(unleaded/e85)</td>\n      <td>285.0</td>\n      <td>6.0</td>\n      <td>automatic</td>\n      <td>four_wheel_drive</td>\n      <td>4.0</td>\n      <td>flex_fuel</td>\n      <td>large</td>\n      <td>extended_cab_pickup</td>\n      <td>22</td>\n      <td>17</td>\n      <td>549</td>\n    </tr>\n    <tr>\n      <th>7148</th>\n      <td>rolls-royce</td>\n      <td>ghost</td>\n      <td>2014</td>\n      <td>premium_unleaded_(required)</td>\n      <td>563.0</td>\n      <td>12.0</td>\n      <td>automatic</td>\n      <td>rear_wheel_drive</td>\n      <td>4.0</td>\n      <td>exotic,luxury,performance</td>\n      <td>large</td>\n      <td>sedan</td>\n      <td>21</td>\n      <td>13</td>\n      <td>86</td>\n    </tr>\n    <tr>\n      <th>7149</th>\n      <td>volkswagen</td>\n      <td>cc</td>\n      <td>2017</td>\n      <td>premium_unleaded_(recommended)</td>\n      <td>200.0</td>\n      <td>4.0</td>\n      <td>automated_manual</td>\n      <td>front_wheel_drive</td>\n      <td>4.0</td>\n      <td>performance</td>\n      <td>midsize</td>\n      <td>sedan</td>\n      <td>31</td>\n      <td>22</td>\n      <td>873</td>\n    </tr>\n  </tbody>\n</table>\n<p>7150 rows × 15 columns</p>\n</div>"
     },
     "execution_count": 117,
     "metadata": {},
     "output_type": "execute_result"
    }
   ],
   "source": [
    "df_train"
   ],
   "metadata": {
    "collapsed": false,
    "pycharm": {
     "name": "#%%\n"
    }
   }
  },
  {
   "cell_type": "code",
   "execution_count": 130,
   "outputs": [],
   "source": [
    "def prepare_X(df):\n",
    "    df = df.copy()\n",
    "    df['age'] = df.year.max() - df.year\n",
    "    # create new feature\n",
    "    features = base + ['age']\n",
    "    df_num = df[features]\n",
    "    df_num = df_num.fillna(0)\n",
    "    X = df_num.values\n",
    "    return X"
   ],
   "metadata": {
    "collapsed": false,
    "pycharm": {
     "name": "#%%\n"
    }
   }
  },
  {
   "cell_type": "code",
   "execution_count": 134,
   "outputs": [
    {
     "data": {
      "text/plain": "0.5172055461058329"
     },
     "execution_count": 134,
     "metadata": {},
     "output_type": "execute_result"
    }
   ],
   "source": [
    "X_train = prepare_X(df_train)\n",
    "w0, w = train_linear_regression(X_train, y_train)\n",
    "\n",
    "# Validation\n",
    "X_val = prepare_X(df_val)\n",
    "y_pred = w0 + X_val.dot(w)\n",
    "\n",
    "rmse(y_pred, y_val)"
   ],
   "metadata": {
    "collapsed": false,
    "pycharm": {
     "name": "#%%\n"
    }
   }
  },
  {
   "cell_type": "markdown",
   "source": [
    "# Categorical Variables"
   ],
   "metadata": {
    "collapsed": false
   }
  },
  {
   "cell_type": "code",
   "execution_count": 135,
   "outputs": [],
   "source": [
    "#df_train['num_doors_2'] = (df_train.number_of_doors == 2).astype('int')\n",
    "#df_train['num_doors_3'] = (df_train.number_of_doors == 3).astype('int')\n",
    "#df_train['num_doors_4'] = (df_train.number_of_doors == 4).astype('int')"
   ],
   "metadata": {
    "collapsed": false,
    "pycharm": {
     "name": "#%%\n"
    }
   }
  },
  {
   "cell_type": "code",
   "execution_count": 143,
   "outputs": [
    {
     "data": {
      "text/plain": "Index(['make', 'model', 'year', 'engine_fuel_type', 'engine_hp',\n       'engine_cylinders', 'transmission_type', 'driven_wheels',\n       'number_of_doors', 'market_category', 'vehicle_size', 'vehicle_style',\n       'highway_mpg', 'city_mpg', 'popularity'],\n      dtype='object')"
     },
     "execution_count": 143,
     "metadata": {},
     "output_type": "execute_result"
    }
   ],
   "source": [
    "df_train.columns"
   ],
   "metadata": {
    "collapsed": false,
    "pycharm": {
     "name": "#%%\n"
    }
   }
  },
  {
   "cell_type": "code",
   "execution_count": 144,
   "outputs": [],
   "source": [
    "def prepare_X(df):\n",
    "    df = df.copy()\n",
    "\n",
    "    # create new feature\n",
    "    df['age'] = df.year.max() - df.year\n",
    "    features = base.copy()\n",
    "    features.append('age')\n",
    "\n",
    "    for v in [2, 3, 4] :\n",
    "        df['num_doors_%s' % v] = (df.number_of_doors == v).astype('int')\n",
    "        features.append('num_doors_%s' % v)\n",
    "\n",
    "    df_num = df[features]\n",
    "    df_num = df_num.fillna(0)\n",
    "    X = df_num.values\n",
    "    return X"
   ],
   "metadata": {
    "collapsed": false,
    "pycharm": {
     "name": "#%%\n"
    }
   }
  },
  {
   "cell_type": "code",
   "execution_count": 146,
   "outputs": [
    {
     "data": {
      "text/plain": "0.5157995641502929"
     },
     "execution_count": 146,
     "metadata": {},
     "output_type": "execute_result"
    }
   ],
   "source": [
    "X_train = prepare_X(df_train)\n",
    "w0, w = train_linear_regression(X_train, y_train)\n",
    "\n",
    "# Validation\n",
    "X_val = prepare_X(df_val)\n",
    "y_pred = w0 + X_val.dot(w)\n",
    "\n",
    "rmse(y_pred, y_val)"
   ],
   "metadata": {
    "collapsed": false,
    "pycharm": {
     "name": "#%%\n"
    }
   }
  },
  {
   "cell_type": "code",
   "execution_count": 147,
   "outputs": [],
   "source": [
    "makes = list(df.make.value_counts().head().index)"
   ],
   "metadata": {
    "collapsed": false,
    "pycharm": {
     "name": "#%%\n"
    }
   }
  },
  {
   "cell_type": "code",
   "execution_count": 150,
   "outputs": [],
   "source": [
    "def prepare_X(df):\n",
    "    df = df.copy()\n",
    "\n",
    "    # create new feature\n",
    "    df['age'] = df.year.max() - df.year\n",
    "    features = base.copy()\n",
    "    features.append('age')\n",
    "\n",
    "    for v in [2, 3, 4] :\n",
    "        df['num_doors_%s' % v] = (df.number_of_doors == v).astype('int')\n",
    "        features.append('num_doors_%s' % v)\n",
    "\n",
    "    for v in makes:\n",
    "        df['make_%s' % v] = (df.make == v).astype('int')\n",
    "        features.append('make_%s' % v)\n",
    "\n",
    "    df_num = df[features]\n",
    "    df_num = df_num.fillna(0)\n",
    "    X = df_num.values\n",
    "    return X"
   ],
   "metadata": {
    "collapsed": false,
    "pycharm": {
     "name": "#%%\n"
    }
   }
  },
  {
   "cell_type": "code",
   "execution_count": 151,
   "outputs": [
    {
     "data": {
      "text/plain": "0.5076038849555178"
     },
     "execution_count": 151,
     "metadata": {},
     "output_type": "execute_result"
    }
   ],
   "source": [
    "X_train = prepare_X(df_train)\n",
    "w0, w = train_linear_regression(X_train, y_train)\n",
    "\n",
    "# Validation\n",
    "X_val = prepare_X(df_val)\n",
    "y_pred = w0 + X_val.dot(w)\n",
    "\n",
    "rmse(y_pred, y_val)"
   ],
   "metadata": {
    "collapsed": false,
    "pycharm": {
     "name": "#%%\n"
    }
   }
  },
  {
   "cell_type": "code",
   "execution_count": 152,
   "outputs": [
    {
     "data": {
      "text/plain": "Index(['make', 'model', 'year', 'engine_fuel_type', 'engine_hp',\n       'engine_cylinders', 'transmission_type', 'driven_wheels',\n       'number_of_doors', 'market_category', 'vehicle_size', 'vehicle_style',\n       'highway_mpg', 'city_mpg', 'popularity'],\n      dtype='object')"
     },
     "execution_count": 152,
     "metadata": {},
     "output_type": "execute_result"
    }
   ],
   "source": [
    "df_train.columns"
   ],
   "metadata": {
    "collapsed": false,
    "pycharm": {
     "name": "#%%\n"
    }
   }
  },
  {
   "cell_type": "code",
   "execution_count": 154,
   "outputs": [],
   "source": [
    "categorical_variables = ['make', 'engine_fuel_type', 'transmission_type', 'driven_wheels', 'market_category', 'vehicle_size', 'vehicle_style']\n",
    "categories = {}\n",
    "\n",
    "for c in categorical_variables:\n",
    "    categories[c] = list(df[c].value_counts().head().index)"
   ],
   "metadata": {
    "collapsed": false,
    "pycharm": {
     "name": "#%%\n"
    }
   }
  },
  {
   "cell_type": "code",
   "execution_count": 163,
   "outputs": [],
   "source": [
    "def prepare_X(df):\n",
    "    df = df.copy()\n",
    "\n",
    "    # create new feature\n",
    "    df['age'] = df.year.max() - df.year\n",
    "    features = base.copy()\n",
    "    features.append('age')\n",
    "\n",
    "    for v in [2, 3, 4] :\n",
    "        df['num_doors_%d' % v] = (df.number_of_doors == v).astype('int')\n",
    "        features.append('num_doors_%d' % v)\n",
    "\n",
    "    for name, values in categories.items():\n",
    "        for v in values:\n",
    "            df['%s_%s' % (name, v)] = (df[name] == v). astype('int')\n",
    "            features.append('%s_%s' % (name, v))\n",
    "\n",
    "    df_num = df[features]\n",
    "    df_num = df_num.fillna(0)\n",
    "    X = df_num.values\n",
    "    return X"
   ],
   "metadata": {
    "collapsed": false,
    "pycharm": {
     "name": "#%%\n"
    }
   }
  },
  {
   "cell_type": "code",
   "execution_count": 164,
   "outputs": [
    {
     "data": {
      "text/plain": "25.412629215793995"
     },
     "execution_count": 164,
     "metadata": {},
     "output_type": "execute_result"
    }
   ],
   "source": [
    "X_train = prepare_X(df_train)\n",
    "w0, w = train_linear_regression(X_train, y_train)\n",
    "\n",
    "# Validation\n",
    "X_val = prepare_X(df_val)\n",
    "y_pred = w0 + X_val.dot(w)\n",
    "\n",
    "rmse(y_pred, y_val)"
   ],
   "metadata": {
    "collapsed": false,
    "pycharm": {
     "name": "#%%\n"
    }
   }
  },
  {
   "cell_type": "markdown",
   "source": [
    "# Regularisation - solving duplication of data"
   ],
   "metadata": {
    "collapsed": false
   }
  },
  {
   "cell_type": "code",
   "execution_count": 165,
   "outputs": [],
   "source": [
    "def train_linear_regression_regularized(X, y, r=0.001):\n",
    "    ones = np.ones(X.shape[0])\n",
    "    X = np.column_stack([ones, X])\n",
    "\n",
    "    # Implementing GRAM Matrix\n",
    "\n",
    "    XTX = X.transpose().dot(X)\n",
    "    XTX = XTX + r * np.eye(XTX.shape[0 ])\n",
    "    XTX_inv = np.linalg.inv(XTX)\n",
    "\n",
    "    w_full = XTX_inv.dot(X.T).dot(y)\n",
    "\n",
    "    return w_full[0], w_full[1:]"
   ],
   "metadata": {
    "collapsed": false,
    "pycharm": {
     "name": "#%%\n"
    }
   }
  },
  {
   "cell_type": "code",
   "execution_count": 166,
   "outputs": [
    {
     "data": {
      "text/plain": "0.4565219901261994"
     },
     "execution_count": 166,
     "metadata": {},
     "output_type": "execute_result"
    }
   ],
   "source": [
    "X_train = prepare_X(df_train)\n",
    "w0, w = train_linear_regression_regularized(X_train, y_train, r=0.01)\n",
    "\n",
    "# Validation\n",
    "X_val = prepare_X(df_val)\n",
    "y_pred = w0 + X_val.dot(w)\n",
    "\n",
    "rmse(y_pred, y_val)"
   ],
   "metadata": {
    "collapsed": false,
    "pycharm": {
     "name": "#%%\n"
    }
   }
  },
  {
   "cell_type": "markdown",
   "source": [
    "# Tuning the model"
   ],
   "metadata": {
    "collapsed": false
   }
  },
  {
   "cell_type": "code",
   "execution_count": 167,
   "outputs": [
    {
     "name": "stdout",
     "output_type": "stream",
     "text": [
      "0.0 -1.1109161159539054e+16 25.412629215793995\n",
      "1e-05 6.74223901756042 0.45651702949179446\n",
      "0.0001 6.262715735879977 0.4565170627023682\n",
      "0.001 6.285463675225584 0.4565175089541788\n",
      "0.1 6.191208666746938 0.4565692762984807\n",
      "1 5.634896668152411 0.4572204317993698\n",
      "10 4.283980108943678 0.47014569320989125\n"
     ]
    }
   ],
   "source": [
    "for r in [0.0, 0.00001, 0.0001, 0.001, 0.1, 1, 10]:\n",
    "    X_train = prepare_X(df_train)\n",
    "    w0, w = train_linear_regression_regularized(X_train, y_train, r=r)\n",
    "\n",
    "    # Validation\n",
    "    X_val = prepare_X(df_val)\n",
    "    y_pred = w0 + X_val.dot(w)\n",
    "\n",
    "    score = rmse(y_pred, y_val)\n",
    "\n",
    "    print(r, w0, score)"
   ],
   "metadata": {
    "collapsed": false,
    "pycharm": {
     "name": "#%%\n"
    }
   }
  },
  {
   "cell_type": "code",
   "execution_count": 168,
   "outputs": [
    {
     "data": {
      "text/plain": "0.4565175089541788"
     },
     "execution_count": 168,
     "metadata": {},
     "output_type": "execute_result"
    }
   ],
   "source": [
    "r = 0.001\n",
    "X_train = prepare_X(df_train)\n",
    "w0, w = train_linear_regression_regularized(X_train, y_train, r=r)\n",
    "\n",
    "# Validation\n",
    "X_val = prepare_X(df_val)\n",
    "y_pred = w0 + X_val.dot(w)\n",
    "\n",
    "rmse(y_pred, y_val)"
   ],
   "metadata": {
    "collapsed": false,
    "pycharm": {
     "name": "#%%\n"
    }
   }
  },
  {
   "cell_type": "markdown",
   "source": [
    "# Using the model"
   ],
   "metadata": {
    "collapsed": false
   }
  },
  {
   "cell_type": "code",
   "execution_count": 169,
   "outputs": [],
   "source": [
    "df_full_train = pd.concat([df_train, df_val])"
   ],
   "metadata": {
    "collapsed": false,
    "pycharm": {
     "name": "#%%\n"
    }
   }
  },
  {
   "cell_type": "code",
   "execution_count": 170,
   "outputs": [],
   "source": [
    "df_full_train = df_full_train.reset_index(drop=True)"
   ],
   "metadata": {
    "collapsed": false,
    "pycharm": {
     "name": "#%%\n"
    }
   }
  },
  {
   "cell_type": "code",
   "execution_count": 171,
   "outputs": [],
   "source": [
    "X_full_train = prepare_X(df_full_train)"
   ],
   "metadata": {
    "collapsed": false,
    "pycharm": {
     "name": "#%%\n"
    }
   }
  },
  {
   "cell_type": "code",
   "execution_count": 172,
   "outputs": [],
   "source": [
    "y_full_train = np.concatenate([y_train, y_val])"
   ],
   "metadata": {
    "collapsed": false,
    "pycharm": {
     "name": "#%%\n"
    }
   }
  },
  {
   "cell_type": "code",
   "execution_count": 173,
   "outputs": [],
   "source": [
    "w0, w = train_linear_regression_regularized(X_full_train, y_full_train, r=0.001)"
   ],
   "metadata": {
    "collapsed": false,
    "pycharm": {
     "name": "#%%\n"
    }
   }
  },
  {
   "cell_type": "code",
   "execution_count": 174,
   "outputs": [
    {
     "data": {
      "text/plain": "0.4517749307799749"
     },
     "execution_count": 174,
     "metadata": {},
     "output_type": "execute_result"
    }
   ],
   "source": [
    "# Validation\n",
    "X_test = prepare_X(df_test)\n",
    "y_pred = w0 + X_test.dot(w)\n",
    "\n",
    "rmse(y_pred, y_test)"
   ],
   "metadata": {
    "collapsed": false,
    "pycharm": {
     "name": "#%%\n"
    }
   }
  },
  {
   "cell_type": "code",
   "execution_count": 175,
   "outputs": [
    {
     "data": {
      "text/plain": "{'make': 'toyota',\n 'model': 'sienna',\n 'year': 2015,\n 'engine_fuel_type': 'regular_unleaded',\n 'engine_hp': 266.0,\n 'engine_cylinders': 6.0,\n 'transmission_type': 'automatic',\n 'driven_wheels': 'front_wheel_drive',\n 'number_of_doors': 4.0,\n 'market_category': nan,\n 'vehicle_size': 'large',\n 'vehicle_style': 'passenger_minivan',\n 'highway_mpg': 25,\n 'city_mpg': 18,\n 'popularity': 2031}"
     },
     "execution_count": 175,
     "metadata": {},
     "output_type": "execute_result"
    }
   ],
   "source": [
    "car = df_test.iloc[20].to_dict()\n",
    "car"
   ],
   "metadata": {
    "collapsed": false,
    "pycharm": {
     "name": "#%%\n"
    }
   }
  },
  {
   "cell_type": "code",
   "execution_count": 176,
   "outputs": [
    {
     "data": {
      "text/plain": "     make   model  year  engine_fuel_type  engine_hp  engine_cylinders  \\\n0  toyota  sienna  2015  regular_unleaded      266.0               6.0   \n\n  transmission_type      driven_wheels  number_of_doors  market_category  \\\n0         automatic  front_wheel_drive              4.0              NaN   \n\n  vehicle_size      vehicle_style  highway_mpg  city_mpg  popularity  \n0        large  passenger_minivan           25        18        2031  ",
      "text/html": "<div>\n<style scoped>\n    .dataframe tbody tr th:only-of-type {\n        vertical-align: middle;\n    }\n\n    .dataframe tbody tr th {\n        vertical-align: top;\n    }\n\n    .dataframe thead th {\n        text-align: right;\n    }\n</style>\n<table border=\"1\" class=\"dataframe\">\n  <thead>\n    <tr style=\"text-align: right;\">\n      <th></th>\n      <th>make</th>\n      <th>model</th>\n      <th>year</th>\n      <th>engine_fuel_type</th>\n      <th>engine_hp</th>\n      <th>engine_cylinders</th>\n      <th>transmission_type</th>\n      <th>driven_wheels</th>\n      <th>number_of_doors</th>\n      <th>market_category</th>\n      <th>vehicle_size</th>\n      <th>vehicle_style</th>\n      <th>highway_mpg</th>\n      <th>city_mpg</th>\n      <th>popularity</th>\n    </tr>\n  </thead>\n  <tbody>\n    <tr>\n      <th>0</th>\n      <td>toyota</td>\n      <td>sienna</td>\n      <td>2015</td>\n      <td>regular_unleaded</td>\n      <td>266.0</td>\n      <td>6.0</td>\n      <td>automatic</td>\n      <td>front_wheel_drive</td>\n      <td>4.0</td>\n      <td>NaN</td>\n      <td>large</td>\n      <td>passenger_minivan</td>\n      <td>25</td>\n      <td>18</td>\n      <td>2031</td>\n    </tr>\n  </tbody>\n</table>\n</div>"
     },
     "execution_count": 176,
     "metadata": {},
     "output_type": "execute_result"
    }
   ],
   "source": [
    "df_small = pd.DataFrame([car])\n",
    "df_small"
   ],
   "metadata": {
    "collapsed": false,
    "pycharm": {
     "name": "#%%\n"
    }
   }
  },
  {
   "cell_type": "code",
   "execution_count": 178,
   "outputs": [],
   "source": [
    "X_small = prepare_X(df_small)"
   ],
   "metadata": {
    "collapsed": false,
    "pycharm": {
     "name": "#%%\n"
    }
   }
  },
  {
   "cell_type": "code",
   "execution_count": 180,
   "outputs": [
    {
     "data": {
      "text/plain": "10.656470075968745"
     },
     "execution_count": 180,
     "metadata": {},
     "output_type": "execute_result"
    }
   ],
   "source": [
    "y_pred = w0 + X_small.dot(w)\n",
    "y_pred[0]"
   ],
   "metadata": {
    "collapsed": false,
    "pycharm": {
     "name": "#%%\n"
    }
   }
  },
  {
   "cell_type": "code",
   "execution_count": 181,
   "outputs": [
    {
     "data": {
      "text/plain": "42465.46887933452"
     },
     "execution_count": 181,
     "metadata": {},
     "output_type": "execute_result"
    }
   ],
   "source": [
    "np.expm1(y_pred[0])"
   ],
   "metadata": {
    "collapsed": false,
    "pycharm": {
     "name": "#%%\n"
    }
   }
  },
  {
   "cell_type": "code",
   "execution_count": 182,
   "outputs": [
    {
     "data": {
      "text/plain": "35000.00000000001"
     },
     "execution_count": 182,
     "metadata": {},
     "output_type": "execute_result"
    }
   ],
   "source": [
    "np.expm1(y_test[20])"
   ],
   "metadata": {
    "collapsed": false,
    "pycharm": {
     "name": "#%%\n"
    }
   }
  },
  {
   "cell_type": "code",
   "execution_count": null,
   "outputs": [],
   "source": [],
   "metadata": {
    "collapsed": false,
    "pycharm": {
     "name": "#%%\n"
    }
   }
  }
 ],
 "metadata": {
  "kernelspec": {
   "display_name": "Python 3",
   "language": "python",
   "name": "python3"
  },
  "language_info": {
   "codemirror_mode": {
    "name": "ipython",
    "version": 2
   },
   "file_extension": ".py",
   "mimetype": "text/x-python",
   "name": "python",
   "nbconvert_exporter": "python",
   "pygments_lexer": "ipython2",
   "version": "2.7.6"
  }
 },
 "nbformat": 4,
 "nbformat_minor": 0
}