{
 "cells": [
  {
   "cell_type": "code",
   "execution_count": 78,
   "metadata": {
    "collapsed": true
   },
   "outputs": [],
   "source": [
    "import pandas as pd\n",
    "import numpy as np\n",
    "from matplotlib import pyplot as plt\n",
    "import warnings\n",
    "\n",
    "plt.style.use('ggplot')\n",
    "warnings.filterwarnings(action='ignore', category=DeprecationWarning)"
   ]
  },
  {
   "cell_type": "markdown",
   "source": [
    "# Data Preparation"
   ],
   "metadata": {
    "collapsed": false,
    "pycharm": {
     "name": "#%% md\n"
    }
   }
  },
  {
   "cell_type": "code",
   "execution_count": 2,
   "outputs": [
    {
     "data": {
      "text/plain": "   customerID  gender  SeniorCitizen Partner Dependents  tenure PhoneService  \\\n0  7590-VHVEG  Female              0     Yes         No       1           No   \n1  5575-GNVDE    Male              0      No         No      34          Yes   \n2  3668-QPYBK    Male              0      No         No       2          Yes   \n3  7795-CFOCW    Male              0      No         No      45           No   \n4  9237-HQITU  Female              0      No         No       2          Yes   \n\n      MultipleLines InternetService OnlineSecurity  ... DeviceProtection  \\\n0  No phone service             DSL             No  ...               No   \n1                No             DSL            Yes  ...              Yes   \n2                No             DSL            Yes  ...               No   \n3  No phone service             DSL            Yes  ...              Yes   \n4                No     Fiber optic             No  ...               No   \n\n  TechSupport StreamingTV StreamingMovies        Contract PaperlessBilling  \\\n0          No          No              No  Month-to-month              Yes   \n1          No          No              No        One year               No   \n2          No          No              No  Month-to-month              Yes   \n3         Yes          No              No        One year               No   \n4          No          No              No  Month-to-month              Yes   \n\n               PaymentMethod MonthlyCharges  TotalCharges Churn  \n0           Electronic check          29.85         29.85    No  \n1               Mailed check          56.95        1889.5    No  \n2               Mailed check          53.85        108.15   Yes  \n3  Bank transfer (automatic)          42.30       1840.75    No  \n4           Electronic check          70.70        151.65   Yes  \n\n[5 rows x 21 columns]",
      "text/html": "<div>\n<style scoped>\n    .dataframe tbody tr th:only-of-type {\n        vertical-align: middle;\n    }\n\n    .dataframe tbody tr th {\n        vertical-align: top;\n    }\n\n    .dataframe thead th {\n        text-align: right;\n    }\n</style>\n<table border=\"1\" class=\"dataframe\">\n  <thead>\n    <tr style=\"text-align: right;\">\n      <th></th>\n      <th>customerID</th>\n      <th>gender</th>\n      <th>SeniorCitizen</th>\n      <th>Partner</th>\n      <th>Dependents</th>\n      <th>tenure</th>\n      <th>PhoneService</th>\n      <th>MultipleLines</th>\n      <th>InternetService</th>\n      <th>OnlineSecurity</th>\n      <th>...</th>\n      <th>DeviceProtection</th>\n      <th>TechSupport</th>\n      <th>StreamingTV</th>\n      <th>StreamingMovies</th>\n      <th>Contract</th>\n      <th>PaperlessBilling</th>\n      <th>PaymentMethod</th>\n      <th>MonthlyCharges</th>\n      <th>TotalCharges</th>\n      <th>Churn</th>\n    </tr>\n  </thead>\n  <tbody>\n    <tr>\n      <th>0</th>\n      <td>7590-VHVEG</td>\n      <td>Female</td>\n      <td>0</td>\n      <td>Yes</td>\n      <td>No</td>\n      <td>1</td>\n      <td>No</td>\n      <td>No phone service</td>\n      <td>DSL</td>\n      <td>No</td>\n      <td>...</td>\n      <td>No</td>\n      <td>No</td>\n      <td>No</td>\n      <td>No</td>\n      <td>Month-to-month</td>\n      <td>Yes</td>\n      <td>Electronic check</td>\n      <td>29.85</td>\n      <td>29.85</td>\n      <td>No</td>\n    </tr>\n    <tr>\n      <th>1</th>\n      <td>5575-GNVDE</td>\n      <td>Male</td>\n      <td>0</td>\n      <td>No</td>\n      <td>No</td>\n      <td>34</td>\n      <td>Yes</td>\n      <td>No</td>\n      <td>DSL</td>\n      <td>Yes</td>\n      <td>...</td>\n      <td>Yes</td>\n      <td>No</td>\n      <td>No</td>\n      <td>No</td>\n      <td>One year</td>\n      <td>No</td>\n      <td>Mailed check</td>\n      <td>56.95</td>\n      <td>1889.5</td>\n      <td>No</td>\n    </tr>\n    <tr>\n      <th>2</th>\n      <td>3668-QPYBK</td>\n      <td>Male</td>\n      <td>0</td>\n      <td>No</td>\n      <td>No</td>\n      <td>2</td>\n      <td>Yes</td>\n      <td>No</td>\n      <td>DSL</td>\n      <td>Yes</td>\n      <td>...</td>\n      <td>No</td>\n      <td>No</td>\n      <td>No</td>\n      <td>No</td>\n      <td>Month-to-month</td>\n      <td>Yes</td>\n      <td>Mailed check</td>\n      <td>53.85</td>\n      <td>108.15</td>\n      <td>Yes</td>\n    </tr>\n    <tr>\n      <th>3</th>\n      <td>7795-CFOCW</td>\n      <td>Male</td>\n      <td>0</td>\n      <td>No</td>\n      <td>No</td>\n      <td>45</td>\n      <td>No</td>\n      <td>No phone service</td>\n      <td>DSL</td>\n      <td>Yes</td>\n      <td>...</td>\n      <td>Yes</td>\n      <td>Yes</td>\n      <td>No</td>\n      <td>No</td>\n      <td>One year</td>\n      <td>No</td>\n      <td>Bank transfer (automatic)</td>\n      <td>42.30</td>\n      <td>1840.75</td>\n      <td>No</td>\n    </tr>\n    <tr>\n      <th>4</th>\n      <td>9237-HQITU</td>\n      <td>Female</td>\n      <td>0</td>\n      <td>No</td>\n      <td>No</td>\n      <td>2</td>\n      <td>Yes</td>\n      <td>No</td>\n      <td>Fiber optic</td>\n      <td>No</td>\n      <td>...</td>\n      <td>No</td>\n      <td>No</td>\n      <td>No</td>\n      <td>No</td>\n      <td>Month-to-month</td>\n      <td>Yes</td>\n      <td>Electronic check</td>\n      <td>70.70</td>\n      <td>151.65</td>\n      <td>Yes</td>\n    </tr>\n  </tbody>\n</table>\n<p>5 rows × 21 columns</p>\n</div>"
     },
     "execution_count": 2,
     "metadata": {},
     "output_type": "execute_result"
    }
   ],
   "source": [
    "df = pd.read_csv('WA_Fn-UseC_-Telco-Customer-Churn.csv')\n",
    "df.head()"
   ],
   "metadata": {
    "collapsed": false,
    "pycharm": {
     "name": "#%%\n"
    }
   }
  },
  {
   "cell_type": "code",
   "execution_count": 3,
   "outputs": [],
   "source": [
    "df.columns = df.columns.str.lower().str.replace(' ', '_')\n",
    "categorical_columns = list(df.dtypes[df.dtypes == 'object'].index)\n",
    "\n",
    "for c in categorical_columns:\n",
    "    df[c] = df[c].str.lower().str.replace(' ', '_')"
   ],
   "metadata": {
    "collapsed": false,
    "pycharm": {
     "name": "#%%\n"
    }
   }
  },
  {
   "cell_type": "code",
   "execution_count": 4,
   "outputs": [
    {
     "data": {
      "text/plain": "                                 0             1               2  \\\ncustomerid              7590-vhveg    5575-gnvde      3668-qpybk   \ngender                      female          male            male   \nseniorcitizen                    0             0               0   \npartner                        yes            no              no   \ndependents                      no            no              no   \ntenure                           1            34               2   \nphoneservice                    no           yes             yes   \nmultiplelines     no_phone_service            no              no   \ninternetservice                dsl           dsl             dsl   \nonlinesecurity                  no           yes             yes   \nonlinebackup                   yes            no             yes   \ndeviceprotection                no           yes              no   \ntechsupport                     no            no              no   \nstreamingtv                     no            no              no   \nstreamingmovies                 no            no              no   \ncontract            month-to-month      one_year  month-to-month   \npaperlessbilling               yes            no             yes   \npaymentmethod     electronic_check  mailed_check    mailed_check   \nmonthlycharges               29.85         56.95           53.85   \ntotalcharges                 29.85        1889.5          108.15   \nchurn                           no            no             yes   \n\n                                          3                 4  \ncustomerid                       7795-cfocw        9237-hqitu  \ngender                                 male            female  \nseniorcitizen                             0                 0  \npartner                                  no                no  \ndependents                               no                no  \ntenure                                   45                 2  \nphoneservice                             no               yes  \nmultiplelines              no_phone_service                no  \ninternetservice                         dsl       fiber_optic  \nonlinesecurity                          yes                no  \nonlinebackup                             no                no  \ndeviceprotection                        yes                no  \ntechsupport                             yes                no  \nstreamingtv                              no                no  \nstreamingmovies                          no                no  \ncontract                           one_year    month-to-month  \npaperlessbilling                         no               yes  \npaymentmethod     bank_transfer_(automatic)  electronic_check  \nmonthlycharges                         42.3              70.7  \ntotalcharges                        1840.75            151.65  \nchurn                                    no               yes  ",
      "text/html": "<div>\n<style scoped>\n    .dataframe tbody tr th:only-of-type {\n        vertical-align: middle;\n    }\n\n    .dataframe tbody tr th {\n        vertical-align: top;\n    }\n\n    .dataframe thead th {\n        text-align: right;\n    }\n</style>\n<table border=\"1\" class=\"dataframe\">\n  <thead>\n    <tr style=\"text-align: right;\">\n      <th></th>\n      <th>0</th>\n      <th>1</th>\n      <th>2</th>\n      <th>3</th>\n      <th>4</th>\n    </tr>\n  </thead>\n  <tbody>\n    <tr>\n      <th>customerid</th>\n      <td>7590-vhveg</td>\n      <td>5575-gnvde</td>\n      <td>3668-qpybk</td>\n      <td>7795-cfocw</td>\n      <td>9237-hqitu</td>\n    </tr>\n    <tr>\n      <th>gender</th>\n      <td>female</td>\n      <td>male</td>\n      <td>male</td>\n      <td>male</td>\n      <td>female</td>\n    </tr>\n    <tr>\n      <th>seniorcitizen</th>\n      <td>0</td>\n      <td>0</td>\n      <td>0</td>\n      <td>0</td>\n      <td>0</td>\n    </tr>\n    <tr>\n      <th>partner</th>\n      <td>yes</td>\n      <td>no</td>\n      <td>no</td>\n      <td>no</td>\n      <td>no</td>\n    </tr>\n    <tr>\n      <th>dependents</th>\n      <td>no</td>\n      <td>no</td>\n      <td>no</td>\n      <td>no</td>\n      <td>no</td>\n    </tr>\n    <tr>\n      <th>tenure</th>\n      <td>1</td>\n      <td>34</td>\n      <td>2</td>\n      <td>45</td>\n      <td>2</td>\n    </tr>\n    <tr>\n      <th>phoneservice</th>\n      <td>no</td>\n      <td>yes</td>\n      <td>yes</td>\n      <td>no</td>\n      <td>yes</td>\n    </tr>\n    <tr>\n      <th>multiplelines</th>\n      <td>no_phone_service</td>\n      <td>no</td>\n      <td>no</td>\n      <td>no_phone_service</td>\n      <td>no</td>\n    </tr>\n    <tr>\n      <th>internetservice</th>\n      <td>dsl</td>\n      <td>dsl</td>\n      <td>dsl</td>\n      <td>dsl</td>\n      <td>fiber_optic</td>\n    </tr>\n    <tr>\n      <th>onlinesecurity</th>\n      <td>no</td>\n      <td>yes</td>\n      <td>yes</td>\n      <td>yes</td>\n      <td>no</td>\n    </tr>\n    <tr>\n      <th>onlinebackup</th>\n      <td>yes</td>\n      <td>no</td>\n      <td>yes</td>\n      <td>no</td>\n      <td>no</td>\n    </tr>\n    <tr>\n      <th>deviceprotection</th>\n      <td>no</td>\n      <td>yes</td>\n      <td>no</td>\n      <td>yes</td>\n      <td>no</td>\n    </tr>\n    <tr>\n      <th>techsupport</th>\n      <td>no</td>\n      <td>no</td>\n      <td>no</td>\n      <td>yes</td>\n      <td>no</td>\n    </tr>\n    <tr>\n      <th>streamingtv</th>\n      <td>no</td>\n      <td>no</td>\n      <td>no</td>\n      <td>no</td>\n      <td>no</td>\n    </tr>\n    <tr>\n      <th>streamingmovies</th>\n      <td>no</td>\n      <td>no</td>\n      <td>no</td>\n      <td>no</td>\n      <td>no</td>\n    </tr>\n    <tr>\n      <th>contract</th>\n      <td>month-to-month</td>\n      <td>one_year</td>\n      <td>month-to-month</td>\n      <td>one_year</td>\n      <td>month-to-month</td>\n    </tr>\n    <tr>\n      <th>paperlessbilling</th>\n      <td>yes</td>\n      <td>no</td>\n      <td>yes</td>\n      <td>no</td>\n      <td>yes</td>\n    </tr>\n    <tr>\n      <th>paymentmethod</th>\n      <td>electronic_check</td>\n      <td>mailed_check</td>\n      <td>mailed_check</td>\n      <td>bank_transfer_(automatic)</td>\n      <td>electronic_check</td>\n    </tr>\n    <tr>\n      <th>monthlycharges</th>\n      <td>29.85</td>\n      <td>56.95</td>\n      <td>53.85</td>\n      <td>42.3</td>\n      <td>70.7</td>\n    </tr>\n    <tr>\n      <th>totalcharges</th>\n      <td>29.85</td>\n      <td>1889.5</td>\n      <td>108.15</td>\n      <td>1840.75</td>\n      <td>151.65</td>\n    </tr>\n    <tr>\n      <th>churn</th>\n      <td>no</td>\n      <td>no</td>\n      <td>yes</td>\n      <td>no</td>\n      <td>yes</td>\n    </tr>\n  </tbody>\n</table>\n</div>"
     },
     "execution_count": 4,
     "metadata": {},
     "output_type": "execute_result"
    }
   ],
   "source": [
    "df.head().T"
   ],
   "metadata": {
    "collapsed": false,
    "pycharm": {
     "name": "#%%\n"
    }
   }
  },
  {
   "cell_type": "code",
   "execution_count": 5,
   "outputs": [
    {
     "data": {
      "text/plain": "customerid           object\ngender               object\nseniorcitizen         int64\npartner              object\ndependents           object\ntenure                int64\nphoneservice         object\nmultiplelines        object\ninternetservice      object\nonlinesecurity       object\nonlinebackup         object\ndeviceprotection     object\ntechsupport          object\nstreamingtv          object\nstreamingmovies      object\ncontract             object\npaperlessbilling     object\npaymentmethod        object\nmonthlycharges      float64\ntotalcharges         object\nchurn                object\ndtype: object"
     },
     "execution_count": 5,
     "metadata": {},
     "output_type": "execute_result"
    }
   ],
   "source": [
    "df.dtypes"
   ],
   "metadata": {
    "collapsed": false,
    "pycharm": {
     "name": "#%%\n"
    }
   }
  },
  {
   "cell_type": "code",
   "execution_count": 6,
   "outputs": [
    {
     "data": {
      "text/plain": "      customerid totalcharges\n488   4472-lvygi            _\n753   3115-czmzd            _\n936   5709-lvoeq            _\n1082  4367-nuyao            _\n1340  1371-dwpaz            _\n3331  7644-omvmy            _\n3826  3213-vvolg            _\n4380  2520-sgtta            _\n5218  2923-arzlg            _\n6670  4075-wkniu            _\n6754  2775-sefee            _",
      "text/html": "<div>\n<style scoped>\n    .dataframe tbody tr th:only-of-type {\n        vertical-align: middle;\n    }\n\n    .dataframe tbody tr th {\n        vertical-align: top;\n    }\n\n    .dataframe thead th {\n        text-align: right;\n    }\n</style>\n<table border=\"1\" class=\"dataframe\">\n  <thead>\n    <tr style=\"text-align: right;\">\n      <th></th>\n      <th>customerid</th>\n      <th>totalcharges</th>\n    </tr>\n  </thead>\n  <tbody>\n    <tr>\n      <th>488</th>\n      <td>4472-lvygi</td>\n      <td>_</td>\n    </tr>\n    <tr>\n      <th>753</th>\n      <td>3115-czmzd</td>\n      <td>_</td>\n    </tr>\n    <tr>\n      <th>936</th>\n      <td>5709-lvoeq</td>\n      <td>_</td>\n    </tr>\n    <tr>\n      <th>1082</th>\n      <td>4367-nuyao</td>\n      <td>_</td>\n    </tr>\n    <tr>\n      <th>1340</th>\n      <td>1371-dwpaz</td>\n      <td>_</td>\n    </tr>\n    <tr>\n      <th>3331</th>\n      <td>7644-omvmy</td>\n      <td>_</td>\n    </tr>\n    <tr>\n      <th>3826</th>\n      <td>3213-vvolg</td>\n      <td>_</td>\n    </tr>\n    <tr>\n      <th>4380</th>\n      <td>2520-sgtta</td>\n      <td>_</td>\n    </tr>\n    <tr>\n      <th>5218</th>\n      <td>2923-arzlg</td>\n      <td>_</td>\n    </tr>\n    <tr>\n      <th>6670</th>\n      <td>4075-wkniu</td>\n      <td>_</td>\n    </tr>\n    <tr>\n      <th>6754</th>\n      <td>2775-sefee</td>\n      <td>_</td>\n    </tr>\n  </tbody>\n</table>\n</div>"
     },
     "execution_count": 6,
     "metadata": {},
     "output_type": "execute_result"
    }
   ],
   "source": [
    "tc = pd.to_numeric(df.totalcharges, errors='coerce')\n",
    "df[tc.isnull()][['customerid','totalcharges']]"
   ],
   "metadata": {
    "collapsed": false,
    "pycharm": {
     "name": "#%%\n"
    }
   }
  },
  {
   "cell_type": "code",
   "execution_count": 7,
   "outputs": [],
   "source": [
    "df.totalcharges = pd.to_numeric(df.totalcharges, errors='coerce')\n",
    "df.totalcharges = df.totalcharges.fillna(0)"
   ],
   "metadata": {
    "collapsed": false,
    "pycharm": {
     "name": "#%%\n"
    }
   }
  },
  {
   "cell_type": "code",
   "execution_count": 8,
   "outputs": [],
   "source": [
    "df.churn = (df.churn == 'yes').astype(int)"
   ],
   "metadata": {
    "collapsed": false,
    "pycharm": {
     "name": "#%%\n"
    }
   }
  },
  {
   "cell_type": "markdown",
   "source": [
    "# Setting up the validation framework"
   ],
   "metadata": {
    "collapsed": false,
    "pycharm": {
     "name": "#%% md\n"
    }
   }
  },
  {
   "cell_type": "markdown",
   "source": [
    "Perform the train/validation/test split with Scikit-Learn"
   ],
   "metadata": {
    "collapsed": false
   }
  },
  {
   "cell_type": "code",
   "execution_count": 9,
   "outputs": [],
   "source": [
    "from sklearn.model_selection import train_test_split"
   ],
   "metadata": {
    "collapsed": false,
    "pycharm": {
     "name": "#%%\n"
    }
   }
  },
  {
   "cell_type": "code",
   "execution_count": 10,
   "outputs": [],
   "source": [
    "df_full_train, df_test = train_test_split(df, test_size=0.2, random_state=1)"
   ],
   "metadata": {
    "collapsed": false,
    "pycharm": {
     "name": "#%%\n"
    }
   }
  },
  {
   "cell_type": "code",
   "execution_count": 11,
   "outputs": [],
   "source": [
    "df_train, df_val = train_test_split(df_full_train, test_size=0.25, random_state=1)"
   ],
   "metadata": {
    "collapsed": false,
    "pycharm": {
     "name": "#%%\n"
    }
   }
  },
  {
   "cell_type": "code",
   "execution_count": 12,
   "outputs": [
    {
     "data": {
      "text/plain": "(4225, 1409, 1409)"
     },
     "execution_count": 12,
     "metadata": {},
     "output_type": "execute_result"
    }
   ],
   "source": [
    "len(df_train), len(df_test), len(df_val)"
   ],
   "metadata": {
    "collapsed": false,
    "pycharm": {
     "name": "#%%\n"
    }
   }
  },
  {
   "cell_type": "code",
   "execution_count": 13,
   "outputs": [],
   "source": [
    "df_train = df_train.reset_index(drop=True)\n",
    "df_test = df_test.reset_index(drop=True)\n",
    "df_val = df_val.reset_index(drop=True)"
   ],
   "metadata": {
    "collapsed": false,
    "pycharm": {
     "name": "#%%\n"
    }
   }
  },
  {
   "cell_type": "code",
   "execution_count": 14,
   "outputs": [],
   "source": [
    "y_train = df_train.churn.values\n",
    "y_test = df_test.churn.values\n",
    "y_val = df_val.churn.values"
   ],
   "metadata": {
    "collapsed": false,
    "pycharm": {
     "name": "#%%\n"
    }
   }
  },
  {
   "cell_type": "code",
   "execution_count": 15,
   "outputs": [],
   "source": [
    "del df_train['churn']\n",
    "del df_test['churn']\n",
    "del df_val['churn']"
   ],
   "metadata": {
    "collapsed": false,
    "pycharm": {
     "name": "#%%\n"
    }
   }
  },
  {
   "cell_type": "markdown",
   "source": [
    "# EDA - Exploratory Data Analysis"
   ],
   "metadata": {
    "collapsed": false
   }
  },
  {
   "cell_type": "code",
   "execution_count": 16,
   "outputs": [
    {
     "data": {
      "text/plain": "   customerid  gender  seniorcitizen partner dependents  tenure phoneservice  \\\n0  5442-pptjy    male              0     yes        yes      12          yes   \n1  6261-rcvns  female              0      no         no      42          yes   \n2  2176-osjuv    male              0     yes         no      71          yes   \n3  6161-erdgd    male              0     yes        yes      71          yes   \n4  2364-ufrom    male              0      no         no      30          yes   \n\n  multiplelines internetservice       onlinesecurity  ...  \\\n0            no              no  no_internet_service  ...   \n1            no             dsl                  yes  ...   \n2           yes             dsl                  yes  ...   \n3           yes             dsl                  yes  ...   \n4            no             dsl                  yes  ...   \n\n      deviceprotection          techsupport          streamingtv  \\\n0  no_internet_service  no_internet_service  no_internet_service   \n1                  yes                  yes                   no   \n2                   no                  yes                   no   \n3                  yes                  yes                  yes   \n4                   no                  yes                  yes   \n\n       streamingmovies  contract paperlessbilling              paymentmethod  \\\n0  no_internet_service  two_year               no               mailed_check   \n1                  yes  one_year               no    credit_card_(automatic)   \n2                   no  two_year               no  bank_transfer_(automatic)   \n3                  yes  one_year               no           electronic_check   \n4                   no  one_year               no           electronic_check   \n\n  monthlycharges  totalcharges  churn  \n0          19.70        258.35      0  \n1          73.90       3160.55      1  \n2          65.15       4681.75      0  \n3          85.45       6300.85      0  \n4          70.40       2044.75      0  \n\n[5 rows x 21 columns]",
      "text/html": "<div>\n<style scoped>\n    .dataframe tbody tr th:only-of-type {\n        vertical-align: middle;\n    }\n\n    .dataframe tbody tr th {\n        vertical-align: top;\n    }\n\n    .dataframe thead th {\n        text-align: right;\n    }\n</style>\n<table border=\"1\" class=\"dataframe\">\n  <thead>\n    <tr style=\"text-align: right;\">\n      <th></th>\n      <th>customerid</th>\n      <th>gender</th>\n      <th>seniorcitizen</th>\n      <th>partner</th>\n      <th>dependents</th>\n      <th>tenure</th>\n      <th>phoneservice</th>\n      <th>multiplelines</th>\n      <th>internetservice</th>\n      <th>onlinesecurity</th>\n      <th>...</th>\n      <th>deviceprotection</th>\n      <th>techsupport</th>\n      <th>streamingtv</th>\n      <th>streamingmovies</th>\n      <th>contract</th>\n      <th>paperlessbilling</th>\n      <th>paymentmethod</th>\n      <th>monthlycharges</th>\n      <th>totalcharges</th>\n      <th>churn</th>\n    </tr>\n  </thead>\n  <tbody>\n    <tr>\n      <th>0</th>\n      <td>5442-pptjy</td>\n      <td>male</td>\n      <td>0</td>\n      <td>yes</td>\n      <td>yes</td>\n      <td>12</td>\n      <td>yes</td>\n      <td>no</td>\n      <td>no</td>\n      <td>no_internet_service</td>\n      <td>...</td>\n      <td>no_internet_service</td>\n      <td>no_internet_service</td>\n      <td>no_internet_service</td>\n      <td>no_internet_service</td>\n      <td>two_year</td>\n      <td>no</td>\n      <td>mailed_check</td>\n      <td>19.70</td>\n      <td>258.35</td>\n      <td>0</td>\n    </tr>\n    <tr>\n      <th>1</th>\n      <td>6261-rcvns</td>\n      <td>female</td>\n      <td>0</td>\n      <td>no</td>\n      <td>no</td>\n      <td>42</td>\n      <td>yes</td>\n      <td>no</td>\n      <td>dsl</td>\n      <td>yes</td>\n      <td>...</td>\n      <td>yes</td>\n      <td>yes</td>\n      <td>no</td>\n      <td>yes</td>\n      <td>one_year</td>\n      <td>no</td>\n      <td>credit_card_(automatic)</td>\n      <td>73.90</td>\n      <td>3160.55</td>\n      <td>1</td>\n    </tr>\n    <tr>\n      <th>2</th>\n      <td>2176-osjuv</td>\n      <td>male</td>\n      <td>0</td>\n      <td>yes</td>\n      <td>no</td>\n      <td>71</td>\n      <td>yes</td>\n      <td>yes</td>\n      <td>dsl</td>\n      <td>yes</td>\n      <td>...</td>\n      <td>no</td>\n      <td>yes</td>\n      <td>no</td>\n      <td>no</td>\n      <td>two_year</td>\n      <td>no</td>\n      <td>bank_transfer_(automatic)</td>\n      <td>65.15</td>\n      <td>4681.75</td>\n      <td>0</td>\n    </tr>\n    <tr>\n      <th>3</th>\n      <td>6161-erdgd</td>\n      <td>male</td>\n      <td>0</td>\n      <td>yes</td>\n      <td>yes</td>\n      <td>71</td>\n      <td>yes</td>\n      <td>yes</td>\n      <td>dsl</td>\n      <td>yes</td>\n      <td>...</td>\n      <td>yes</td>\n      <td>yes</td>\n      <td>yes</td>\n      <td>yes</td>\n      <td>one_year</td>\n      <td>no</td>\n      <td>electronic_check</td>\n      <td>85.45</td>\n      <td>6300.85</td>\n      <td>0</td>\n    </tr>\n    <tr>\n      <th>4</th>\n      <td>2364-ufrom</td>\n      <td>male</td>\n      <td>0</td>\n      <td>no</td>\n      <td>no</td>\n      <td>30</td>\n      <td>yes</td>\n      <td>no</td>\n      <td>dsl</td>\n      <td>yes</td>\n      <td>...</td>\n      <td>no</td>\n      <td>yes</td>\n      <td>yes</td>\n      <td>no</td>\n      <td>one_year</td>\n      <td>no</td>\n      <td>electronic_check</td>\n      <td>70.40</td>\n      <td>2044.75</td>\n      <td>0</td>\n    </tr>\n  </tbody>\n</table>\n<p>5 rows × 21 columns</p>\n</div>"
     },
     "execution_count": 16,
     "metadata": {},
     "output_type": "execute_result"
    }
   ],
   "source": [
    "df_full_train = df_full_train.reset_index(drop=True)\n",
    "df_full_train.head()"
   ],
   "metadata": {
    "collapsed": false,
    "pycharm": {
     "name": "#%%\n"
    }
   }
  },
  {
   "cell_type": "code",
   "execution_count": 17,
   "outputs": [
    {
     "data": {
      "text/plain": "customerid          0\ngender              0\nseniorcitizen       0\npartner             0\ndependents          0\ntenure              0\nphoneservice        0\nmultiplelines       0\ninternetservice     0\nonlinesecurity      0\nonlinebackup        0\ndeviceprotection    0\ntechsupport         0\nstreamingtv         0\nstreamingmovies     0\ncontract            0\npaperlessbilling    0\npaymentmethod       0\nmonthlycharges      0\ntotalcharges        0\nchurn               0\ndtype: int64"
     },
     "execution_count": 17,
     "metadata": {},
     "output_type": "execute_result"
    }
   ],
   "source": [
    "df_full_train.isnull().sum()"
   ],
   "metadata": {
    "collapsed": false,
    "pycharm": {
     "name": "#%%\n"
    }
   }
  },
  {
   "cell_type": "code",
   "execution_count": 18,
   "outputs": [
    {
     "data": {
      "text/plain": "0    0.730032\n1    0.269968\nName: churn, dtype: float64"
     },
     "execution_count": 18,
     "metadata": {},
     "output_type": "execute_result"
    }
   ],
   "source": [
    "df_full_train.churn.value_counts(normalize=True)"
   ],
   "metadata": {
    "collapsed": false,
    "pycharm": {
     "name": "#%%\n"
    }
   }
  },
  {
   "cell_type": "code",
   "execution_count": 19,
   "outputs": [
    {
     "data": {
      "text/plain": "0.27"
     },
     "execution_count": 19,
     "metadata": {},
     "output_type": "execute_result"
    }
   ],
   "source": [
    "global_churn_rate = df_full_train.churn.mean()\n",
    "round(global_churn_rate, 2)"
   ],
   "metadata": {
    "collapsed": false,
    "pycharm": {
     "name": "#%%\n"
    }
   }
  },
  {
   "cell_type": "code",
   "execution_count": 20,
   "outputs": [
    {
     "data": {
      "text/plain": "customerid           object\ngender               object\nseniorcitizen         int64\npartner              object\ndependents           object\ntenure                int64\nphoneservice         object\nmultiplelines        object\ninternetservice      object\nonlinesecurity       object\nonlinebackup         object\ndeviceprotection     object\ntechsupport          object\nstreamingtv          object\nstreamingmovies      object\ncontract             object\npaperlessbilling     object\npaymentmethod        object\nmonthlycharges      float64\ntotalcharges        float64\nchurn                 int64\ndtype: object"
     },
     "execution_count": 20,
     "metadata": {},
     "output_type": "execute_result"
    }
   ],
   "source": [
    "df_full_train.dtypes"
   ],
   "metadata": {
    "collapsed": false,
    "pycharm": {
     "name": "#%%\n"
    }
   }
  },
  {
   "cell_type": "code",
   "execution_count": 21,
   "outputs": [],
   "source": [
    "numerical = [\n",
    "    'tenure', 'monthlycharges', 'totalcharges'\n",
    "]"
   ],
   "metadata": {
    "collapsed": false,
    "pycharm": {
     "name": "#%%\n"
    }
   }
  },
  {
   "cell_type": "code",
   "execution_count": 22,
   "outputs": [
    {
     "data": {
      "text/plain": "Index(['customerid', 'gender', 'seniorcitizen', 'partner', 'dependents',\n       'tenure', 'phoneservice', 'multiplelines', 'internetservice',\n       'onlinesecurity', 'onlinebackup', 'deviceprotection', 'techsupport',\n       'streamingtv', 'streamingmovies', 'contract', 'paperlessbilling',\n       'paymentmethod', 'monthlycharges', 'totalcharges', 'churn'],\n      dtype='object')"
     },
     "execution_count": 22,
     "metadata": {},
     "output_type": "execute_result"
    }
   ],
   "source": [
    "df_full_train.columns"
   ],
   "metadata": {
    "collapsed": false,
    "pycharm": {
     "name": "#%%\n"
    }
   }
  },
  {
   "cell_type": "markdown",
   "source": [
    "Selecting Subset of Data"
   ],
   "metadata": {
    "collapsed": false
   }
  },
  {
   "cell_type": "code",
   "execution_count": 23,
   "outputs": [],
   "source": [
    "categorical = [\n",
    "       'gender', 'seniorcitizen', 'partner', 'dependents',\n",
    "       'phoneservice', 'multiplelines', 'internetservice',\n",
    "       'onlinesecurity', 'onlinebackup', 'deviceprotection', 'techsupport',\n",
    "       'streamingtv', 'streamingmovies', 'contract', 'paperlessbilling',\n",
    "       'paymentmethod',\n",
    "]"
   ],
   "metadata": {
    "collapsed": false,
    "pycharm": {
     "name": "#%%\n"
    }
   }
  },
  {
   "cell_type": "code",
   "execution_count": 24,
   "outputs": [
    {
     "data": {
      "text/plain": "gender              2\nseniorcitizen       2\npartner             2\ndependents          2\nphoneservice        2\nmultiplelines       3\ninternetservice     3\nonlinesecurity      3\nonlinebackup        3\ndeviceprotection    3\ntechsupport         3\nstreamingtv         3\nstreamingmovies     3\ncontract            3\npaperlessbilling    2\npaymentmethod       4\ndtype: int64"
     },
     "execution_count": 24,
     "metadata": {},
     "output_type": "execute_result"
    }
   ],
   "source": [
    "df_full_train[categorical].nunique()"
   ],
   "metadata": {
    "collapsed": false,
    "pycharm": {
     "name": "#%%\n"
    }
   }
  },
  {
   "cell_type": "markdown",
   "source": [
    "# Feature importance: Churn rate and risk ratio"
   ],
   "metadata": {
    "collapsed": false
   }
  },
  {
   "cell_type": "markdown",
   "source": [
    "Churn rate"
   ],
   "metadata": {
    "collapsed": false
   }
  },
  {
   "cell_type": "code",
   "execution_count": 25,
   "outputs": [
    {
     "data": {
      "text/plain": "   customerid  gender  seniorcitizen partner dependents  tenure phoneservice  \\\n0  5442-pptjy    male              0     yes        yes      12          yes   \n1  6261-rcvns  female              0      no         no      42          yes   \n2  2176-osjuv    male              0     yes         no      71          yes   \n3  6161-erdgd    male              0     yes        yes      71          yes   \n4  2364-ufrom    male              0      no         no      30          yes   \n\n  multiplelines internetservice       onlinesecurity  ...  \\\n0            no              no  no_internet_service  ...   \n1            no             dsl                  yes  ...   \n2           yes             dsl                  yes  ...   \n3           yes             dsl                  yes  ...   \n4            no             dsl                  yes  ...   \n\n      deviceprotection          techsupport          streamingtv  \\\n0  no_internet_service  no_internet_service  no_internet_service   \n1                  yes                  yes                   no   \n2                   no                  yes                   no   \n3                  yes                  yes                  yes   \n4                   no                  yes                  yes   \n\n       streamingmovies  contract paperlessbilling              paymentmethod  \\\n0  no_internet_service  two_year               no               mailed_check   \n1                  yes  one_year               no    credit_card_(automatic)   \n2                   no  two_year               no  bank_transfer_(automatic)   \n3                  yes  one_year               no           electronic_check   \n4                   no  one_year               no           electronic_check   \n\n  monthlycharges  totalcharges  churn  \n0          19.70        258.35      0  \n1          73.90       3160.55      1  \n2          65.15       4681.75      0  \n3          85.45       6300.85      0  \n4          70.40       2044.75      0  \n\n[5 rows x 21 columns]",
      "text/html": "<div>\n<style scoped>\n    .dataframe tbody tr th:only-of-type {\n        vertical-align: middle;\n    }\n\n    .dataframe tbody tr th {\n        vertical-align: top;\n    }\n\n    .dataframe thead th {\n        text-align: right;\n    }\n</style>\n<table border=\"1\" class=\"dataframe\">\n  <thead>\n    <tr style=\"text-align: right;\">\n      <th></th>\n      <th>customerid</th>\n      <th>gender</th>\n      <th>seniorcitizen</th>\n      <th>partner</th>\n      <th>dependents</th>\n      <th>tenure</th>\n      <th>phoneservice</th>\n      <th>multiplelines</th>\n      <th>internetservice</th>\n      <th>onlinesecurity</th>\n      <th>...</th>\n      <th>deviceprotection</th>\n      <th>techsupport</th>\n      <th>streamingtv</th>\n      <th>streamingmovies</th>\n      <th>contract</th>\n      <th>paperlessbilling</th>\n      <th>paymentmethod</th>\n      <th>monthlycharges</th>\n      <th>totalcharges</th>\n      <th>churn</th>\n    </tr>\n  </thead>\n  <tbody>\n    <tr>\n      <th>0</th>\n      <td>5442-pptjy</td>\n      <td>male</td>\n      <td>0</td>\n      <td>yes</td>\n      <td>yes</td>\n      <td>12</td>\n      <td>yes</td>\n      <td>no</td>\n      <td>no</td>\n      <td>no_internet_service</td>\n      <td>...</td>\n      <td>no_internet_service</td>\n      <td>no_internet_service</td>\n      <td>no_internet_service</td>\n      <td>no_internet_service</td>\n      <td>two_year</td>\n      <td>no</td>\n      <td>mailed_check</td>\n      <td>19.70</td>\n      <td>258.35</td>\n      <td>0</td>\n    </tr>\n    <tr>\n      <th>1</th>\n      <td>6261-rcvns</td>\n      <td>female</td>\n      <td>0</td>\n      <td>no</td>\n      <td>no</td>\n      <td>42</td>\n      <td>yes</td>\n      <td>no</td>\n      <td>dsl</td>\n      <td>yes</td>\n      <td>...</td>\n      <td>yes</td>\n      <td>yes</td>\n      <td>no</td>\n      <td>yes</td>\n      <td>one_year</td>\n      <td>no</td>\n      <td>credit_card_(automatic)</td>\n      <td>73.90</td>\n      <td>3160.55</td>\n      <td>1</td>\n    </tr>\n    <tr>\n      <th>2</th>\n      <td>2176-osjuv</td>\n      <td>male</td>\n      <td>0</td>\n      <td>yes</td>\n      <td>no</td>\n      <td>71</td>\n      <td>yes</td>\n      <td>yes</td>\n      <td>dsl</td>\n      <td>yes</td>\n      <td>...</td>\n      <td>no</td>\n      <td>yes</td>\n      <td>no</td>\n      <td>no</td>\n      <td>two_year</td>\n      <td>no</td>\n      <td>bank_transfer_(automatic)</td>\n      <td>65.15</td>\n      <td>4681.75</td>\n      <td>0</td>\n    </tr>\n    <tr>\n      <th>3</th>\n      <td>6161-erdgd</td>\n      <td>male</td>\n      <td>0</td>\n      <td>yes</td>\n      <td>yes</td>\n      <td>71</td>\n      <td>yes</td>\n      <td>yes</td>\n      <td>dsl</td>\n      <td>yes</td>\n      <td>...</td>\n      <td>yes</td>\n      <td>yes</td>\n      <td>yes</td>\n      <td>yes</td>\n      <td>one_year</td>\n      <td>no</td>\n      <td>electronic_check</td>\n      <td>85.45</td>\n      <td>6300.85</td>\n      <td>0</td>\n    </tr>\n    <tr>\n      <th>4</th>\n      <td>2364-ufrom</td>\n      <td>male</td>\n      <td>0</td>\n      <td>no</td>\n      <td>no</td>\n      <td>30</td>\n      <td>yes</td>\n      <td>no</td>\n      <td>dsl</td>\n      <td>yes</td>\n      <td>...</td>\n      <td>no</td>\n      <td>yes</td>\n      <td>yes</td>\n      <td>no</td>\n      <td>one_year</td>\n      <td>no</td>\n      <td>electronic_check</td>\n      <td>70.40</td>\n      <td>2044.75</td>\n      <td>0</td>\n    </tr>\n  </tbody>\n</table>\n<p>5 rows × 21 columns</p>\n</div>"
     },
     "execution_count": 25,
     "metadata": {},
     "output_type": "execute_result"
    }
   ],
   "source": [
    "df_full_train.head()"
   ],
   "metadata": {
    "collapsed": false,
    "pycharm": {
     "name": "#%%\n"
    }
   }
  },
  {
   "cell_type": "code",
   "execution_count": 26,
   "outputs": [
    {
     "name": "stdout",
     "output_type": "stream",
     "text": [
      "Global Churn rate: 0.27, Female Churn rate: 0.28, Male Churn rate: 0.26\n"
     ]
    }
   ],
   "source": [
    "churn_female = df_full_train[df_full_train.gender == 'female'].churn.mean()\n",
    "churn_male = df_full_train[df_full_train.gender == 'male'].churn.mean()\n",
    "print(f'Global Churn rate: {round(global_churn_rate,2)}, Female Churn rate: {round(churn_female,2)}, Male Churn rate: {round(churn_male,2)}')"
   ],
   "metadata": {
    "collapsed": false,
    "pycharm": {
     "name": "#%%\n"
    }
   }
  },
  {
   "cell_type": "code",
   "execution_count": 27,
   "outputs": [
    {
     "name": "stdout",
     "output_type": "stream",
     "text": [
      "Global Churn rate: 0.27, Churn With Partner rate: 0.21, Churn No Partner rate: 0.33\n"
     ]
    }
   ],
   "source": [
    "churn_partner = df_full_train[df_full_train.partner == 'yes'].churn.mean()\n",
    "churn_no_partner = df_full_train[df_full_train.partner == 'no'].churn.mean()\n",
    "print(f'Global Churn rate: {round(global_churn_rate,2)}, Churn With Partner rate: {round(churn_partner,2)}, Churn No Partner rate: {round(churn_no_partner,2)}')"
   ],
   "metadata": {
    "collapsed": false,
    "pycharm": {
     "name": "#%%\n"
    }
   }
  },
  {
   "cell_type": "markdown",
   "source": [
    "Differencing"
   ],
   "metadata": {
    "collapsed": false
   }
  },
  {
   "cell_type": "code",
   "execution_count": 28,
   "outputs": [
    {
     "data": {
      "text/plain": "0.06493474245795922"
     },
     "execution_count": 28,
     "metadata": {},
     "output_type": "execute_result"
    }
   ],
   "source": [
    "global_churn_rate - churn_partner"
   ],
   "metadata": {
    "collapsed": false,
    "pycharm": {
     "name": "#%%\n"
    }
   }
  },
  {
   "cell_type": "code",
   "execution_count": 29,
   "outputs": [
    {
     "data": {
      "text/plain": "-0.05984095297455855"
     },
     "execution_count": 29,
     "metadata": {},
     "output_type": "execute_result"
    }
   ],
   "source": [
    "global_churn_rate - churn_no_partner"
   ],
   "metadata": {
    "collapsed": false,
    "pycharm": {
     "name": "#%%\n"
    }
   }
  },
  {
   "cell_type": "markdown",
   "source": [
    "Risk Ratio"
   ],
   "metadata": {
    "collapsed": false
   }
  },
  {
   "cell_type": "code",
   "execution_count": 30,
   "outputs": [
    {
     "data": {
      "text/plain": "1.2216593879412643"
     },
     "execution_count": 30,
     "metadata": {},
     "output_type": "execute_result"
    }
   ],
   "source": [
    "churn_no_partner / global_churn_rate"
   ],
   "metadata": {
    "collapsed": false,
    "pycharm": {
     "name": "#%%\n"
    }
   }
  },
  {
   "cell_type": "code",
   "execution_count": 31,
   "outputs": [
    {
     "data": {
      "text/plain": "0.7594724924338315"
     },
     "execution_count": 31,
     "metadata": {},
     "output_type": "execute_result"
    }
   ],
   "source": [
    "churn_partner / global_churn_rate"
   ],
   "metadata": {
    "collapsed": false,
    "pycharm": {
     "name": "#%%\n"
    }
   }
  },
  {
   "cell_type": "code",
   "execution_count": 32,
   "outputs": [],
   "source": [
    "from IPython.display import display"
   ],
   "metadata": {
    "collapsed": false,
    "pycharm": {
     "name": "#%%\n"
    }
   }
  },
  {
   "cell_type": "code",
   "execution_count": 33,
   "outputs": [
    {
     "name": "stdout",
     "output_type": "stream",
     "text": [
      "gender\n"
     ]
    },
    {
     "data": {
      "text/plain": "            mean  count      diff      risk\ngender                                     \nfemale  0.276824   2796  0.006856  1.025396\nmale    0.263214   2838 -0.006755  0.974980",
      "text/html": "<div>\n<style scoped>\n    .dataframe tbody tr th:only-of-type {\n        vertical-align: middle;\n    }\n\n    .dataframe tbody tr th {\n        vertical-align: top;\n    }\n\n    .dataframe thead th {\n        text-align: right;\n    }\n</style>\n<table border=\"1\" class=\"dataframe\">\n  <thead>\n    <tr style=\"text-align: right;\">\n      <th></th>\n      <th>mean</th>\n      <th>count</th>\n      <th>diff</th>\n      <th>risk</th>\n    </tr>\n    <tr>\n      <th>gender</th>\n      <th></th>\n      <th></th>\n      <th></th>\n      <th></th>\n    </tr>\n  </thead>\n  <tbody>\n    <tr>\n      <th>female</th>\n      <td>0.276824</td>\n      <td>2796</td>\n      <td>0.006856</td>\n      <td>1.025396</td>\n    </tr>\n    <tr>\n      <th>male</th>\n      <td>0.263214</td>\n      <td>2838</td>\n      <td>-0.006755</td>\n      <td>0.974980</td>\n    </tr>\n  </tbody>\n</table>\n</div>"
     },
     "metadata": {},
     "output_type": "display_data"
    },
    {
     "name": "stdout",
     "output_type": "stream",
     "text": [
      "\n",
      "seniorcitizen\n"
     ]
    },
    {
     "data": {
      "text/plain": "                   mean  count      diff      risk\nseniorcitizen                                     \n0              0.242270   4722 -0.027698  0.897403\n1              0.413377    912  0.143409  1.531208",
      "text/html": "<div>\n<style scoped>\n    .dataframe tbody tr th:only-of-type {\n        vertical-align: middle;\n    }\n\n    .dataframe tbody tr th {\n        vertical-align: top;\n    }\n\n    .dataframe thead th {\n        text-align: right;\n    }\n</style>\n<table border=\"1\" class=\"dataframe\">\n  <thead>\n    <tr style=\"text-align: right;\">\n      <th></th>\n      <th>mean</th>\n      <th>count</th>\n      <th>diff</th>\n      <th>risk</th>\n    </tr>\n    <tr>\n      <th>seniorcitizen</th>\n      <th></th>\n      <th></th>\n      <th></th>\n      <th></th>\n    </tr>\n  </thead>\n  <tbody>\n    <tr>\n      <th>0</th>\n      <td>0.242270</td>\n      <td>4722</td>\n      <td>-0.027698</td>\n      <td>0.897403</td>\n    </tr>\n    <tr>\n      <th>1</th>\n      <td>0.413377</td>\n      <td>912</td>\n      <td>0.143409</td>\n      <td>1.531208</td>\n    </tr>\n  </tbody>\n</table>\n</div>"
     },
     "metadata": {},
     "output_type": "display_data"
    },
    {
     "name": "stdout",
     "output_type": "stream",
     "text": [
      "\n",
      "partner\n"
     ]
    },
    {
     "data": {
      "text/plain": "             mean  count      diff      risk\npartner                                     \nno       0.329809   2932  0.059841  1.221659\nyes      0.205033   2702 -0.064935  0.759472",
      "text/html": "<div>\n<style scoped>\n    .dataframe tbody tr th:only-of-type {\n        vertical-align: middle;\n    }\n\n    .dataframe tbody tr th {\n        vertical-align: top;\n    }\n\n    .dataframe thead th {\n        text-align: right;\n    }\n</style>\n<table border=\"1\" class=\"dataframe\">\n  <thead>\n    <tr style=\"text-align: right;\">\n      <th></th>\n      <th>mean</th>\n      <th>count</th>\n      <th>diff</th>\n      <th>risk</th>\n    </tr>\n    <tr>\n      <th>partner</th>\n      <th></th>\n      <th></th>\n      <th></th>\n      <th></th>\n    </tr>\n  </thead>\n  <tbody>\n    <tr>\n      <th>no</th>\n      <td>0.329809</td>\n      <td>2932</td>\n      <td>0.059841</td>\n      <td>1.221659</td>\n    </tr>\n    <tr>\n      <th>yes</th>\n      <td>0.205033</td>\n      <td>2702</td>\n      <td>-0.064935</td>\n      <td>0.759472</td>\n    </tr>\n  </tbody>\n</table>\n</div>"
     },
     "metadata": {},
     "output_type": "display_data"
    },
    {
     "name": "stdout",
     "output_type": "stream",
     "text": [
      "\n",
      "dependents\n"
     ]
    },
    {
     "data": {
      "text/plain": "                mean  count      diff      risk\ndependents                                     \nno          0.313760   3968  0.043792  1.162212\nyes         0.165666   1666 -0.104302  0.613651",
      "text/html": "<div>\n<style scoped>\n    .dataframe tbody tr th:only-of-type {\n        vertical-align: middle;\n    }\n\n    .dataframe tbody tr th {\n        vertical-align: top;\n    }\n\n    .dataframe thead th {\n        text-align: right;\n    }\n</style>\n<table border=\"1\" class=\"dataframe\">\n  <thead>\n    <tr style=\"text-align: right;\">\n      <th></th>\n      <th>mean</th>\n      <th>count</th>\n      <th>diff</th>\n      <th>risk</th>\n    </tr>\n    <tr>\n      <th>dependents</th>\n      <th></th>\n      <th></th>\n      <th></th>\n      <th></th>\n    </tr>\n  </thead>\n  <tbody>\n    <tr>\n      <th>no</th>\n      <td>0.313760</td>\n      <td>3968</td>\n      <td>0.043792</td>\n      <td>1.162212</td>\n    </tr>\n    <tr>\n      <th>yes</th>\n      <td>0.165666</td>\n      <td>1666</td>\n      <td>-0.104302</td>\n      <td>0.613651</td>\n    </tr>\n  </tbody>\n</table>\n</div>"
     },
     "metadata": {},
     "output_type": "display_data"
    },
    {
     "name": "stdout",
     "output_type": "stream",
     "text": [
      "\n",
      "phoneservice\n"
     ]
    },
    {
     "data": {
      "text/plain": "                  mean  count      diff      risk\nphoneservice                                     \nno            0.241316    547 -0.028652  0.893870\nyes           0.273049   5087  0.003081  1.011412",
      "text/html": "<div>\n<style scoped>\n    .dataframe tbody tr th:only-of-type {\n        vertical-align: middle;\n    }\n\n    .dataframe tbody tr th {\n        vertical-align: top;\n    }\n\n    .dataframe thead th {\n        text-align: right;\n    }\n</style>\n<table border=\"1\" class=\"dataframe\">\n  <thead>\n    <tr style=\"text-align: right;\">\n      <th></th>\n      <th>mean</th>\n      <th>count</th>\n      <th>diff</th>\n      <th>risk</th>\n    </tr>\n    <tr>\n      <th>phoneservice</th>\n      <th></th>\n      <th></th>\n      <th></th>\n      <th></th>\n    </tr>\n  </thead>\n  <tbody>\n    <tr>\n      <th>no</th>\n      <td>0.241316</td>\n      <td>547</td>\n      <td>-0.028652</td>\n      <td>0.893870</td>\n    </tr>\n    <tr>\n      <th>yes</th>\n      <td>0.273049</td>\n      <td>5087</td>\n      <td>0.003081</td>\n      <td>1.011412</td>\n    </tr>\n  </tbody>\n</table>\n</div>"
     },
     "metadata": {},
     "output_type": "display_data"
    },
    {
     "name": "stdout",
     "output_type": "stream",
     "text": [
      "\n",
      "multiplelines\n"
     ]
    },
    {
     "data": {
      "text/plain": "                      mean  count      diff      risk\nmultiplelines                                        \nno                0.257407   2700 -0.012561  0.953474\nno_phone_service  0.241316    547 -0.028652  0.893870\nyes               0.290742   2387  0.020773  1.076948",
      "text/html": "<div>\n<style scoped>\n    .dataframe tbody tr th:only-of-type {\n        vertical-align: middle;\n    }\n\n    .dataframe tbody tr th {\n        vertical-align: top;\n    }\n\n    .dataframe thead th {\n        text-align: right;\n    }\n</style>\n<table border=\"1\" class=\"dataframe\">\n  <thead>\n    <tr style=\"text-align: right;\">\n      <th></th>\n      <th>mean</th>\n      <th>count</th>\n      <th>diff</th>\n      <th>risk</th>\n    </tr>\n    <tr>\n      <th>multiplelines</th>\n      <th></th>\n      <th></th>\n      <th></th>\n      <th></th>\n    </tr>\n  </thead>\n  <tbody>\n    <tr>\n      <th>no</th>\n      <td>0.257407</td>\n      <td>2700</td>\n      <td>-0.012561</td>\n      <td>0.953474</td>\n    </tr>\n    <tr>\n      <th>no_phone_service</th>\n      <td>0.241316</td>\n      <td>547</td>\n      <td>-0.028652</td>\n      <td>0.893870</td>\n    </tr>\n    <tr>\n      <th>yes</th>\n      <td>0.290742</td>\n      <td>2387</td>\n      <td>0.020773</td>\n      <td>1.076948</td>\n    </tr>\n  </tbody>\n</table>\n</div>"
     },
     "metadata": {},
     "output_type": "display_data"
    },
    {
     "name": "stdout",
     "output_type": "stream",
     "text": [
      "\n",
      "internetservice\n"
     ]
    },
    {
     "data": {
      "text/plain": "                     mean  count      diff      risk\ninternetservice                                     \ndsl              0.192347   1934 -0.077621  0.712482\nfiber_optic      0.425171   2479  0.155203  1.574895\nno               0.077805   1221 -0.192163  0.288201",
      "text/html": "<div>\n<style scoped>\n    .dataframe tbody tr th:only-of-type {\n        vertical-align: middle;\n    }\n\n    .dataframe tbody tr th {\n        vertical-align: top;\n    }\n\n    .dataframe thead th {\n        text-align: right;\n    }\n</style>\n<table border=\"1\" class=\"dataframe\">\n  <thead>\n    <tr style=\"text-align: right;\">\n      <th></th>\n      <th>mean</th>\n      <th>count</th>\n      <th>diff</th>\n      <th>risk</th>\n    </tr>\n    <tr>\n      <th>internetservice</th>\n      <th></th>\n      <th></th>\n      <th></th>\n      <th></th>\n    </tr>\n  </thead>\n  <tbody>\n    <tr>\n      <th>dsl</th>\n      <td>0.192347</td>\n      <td>1934</td>\n      <td>-0.077621</td>\n      <td>0.712482</td>\n    </tr>\n    <tr>\n      <th>fiber_optic</th>\n      <td>0.425171</td>\n      <td>2479</td>\n      <td>0.155203</td>\n      <td>1.574895</td>\n    </tr>\n    <tr>\n      <th>no</th>\n      <td>0.077805</td>\n      <td>1221</td>\n      <td>-0.192163</td>\n      <td>0.288201</td>\n    </tr>\n  </tbody>\n</table>\n</div>"
     },
     "metadata": {},
     "output_type": "display_data"
    },
    {
     "name": "stdout",
     "output_type": "stream",
     "text": [
      "\n",
      "onlinesecurity\n"
     ]
    },
    {
     "data": {
      "text/plain": "                         mean  count      diff      risk\nonlinesecurity                                          \nno                   0.420921   2801  0.150953  1.559152\nno_internet_service  0.077805   1221 -0.192163  0.288201\nyes                  0.153226   1612 -0.116742  0.567570",
      "text/html": "<div>\n<style scoped>\n    .dataframe tbody tr th:only-of-type {\n        vertical-align: middle;\n    }\n\n    .dataframe tbody tr th {\n        vertical-align: top;\n    }\n\n    .dataframe thead th {\n        text-align: right;\n    }\n</style>\n<table border=\"1\" class=\"dataframe\">\n  <thead>\n    <tr style=\"text-align: right;\">\n      <th></th>\n      <th>mean</th>\n      <th>count</th>\n      <th>diff</th>\n      <th>risk</th>\n    </tr>\n    <tr>\n      <th>onlinesecurity</th>\n      <th></th>\n      <th></th>\n      <th></th>\n      <th></th>\n    </tr>\n  </thead>\n  <tbody>\n    <tr>\n      <th>no</th>\n      <td>0.420921</td>\n      <td>2801</td>\n      <td>0.150953</td>\n      <td>1.559152</td>\n    </tr>\n    <tr>\n      <th>no_internet_service</th>\n      <td>0.077805</td>\n      <td>1221</td>\n      <td>-0.192163</td>\n      <td>0.288201</td>\n    </tr>\n    <tr>\n      <th>yes</th>\n      <td>0.153226</td>\n      <td>1612</td>\n      <td>-0.116742</td>\n      <td>0.567570</td>\n    </tr>\n  </tbody>\n</table>\n</div>"
     },
     "metadata": {},
     "output_type": "display_data"
    },
    {
     "name": "stdout",
     "output_type": "stream",
     "text": [
      "\n",
      "onlinebackup\n"
     ]
    },
    {
     "data": {
      "text/plain": "                         mean  count      diff      risk\nonlinebackup                                            \nno                   0.404323   2498  0.134355  1.497672\nno_internet_service  0.077805   1221 -0.192163  0.288201\nyes                  0.217232   1915 -0.052736  0.804660",
      "text/html": "<div>\n<style scoped>\n    .dataframe tbody tr th:only-of-type {\n        vertical-align: middle;\n    }\n\n    .dataframe tbody tr th {\n        vertical-align: top;\n    }\n\n    .dataframe thead th {\n        text-align: right;\n    }\n</style>\n<table border=\"1\" class=\"dataframe\">\n  <thead>\n    <tr style=\"text-align: right;\">\n      <th></th>\n      <th>mean</th>\n      <th>count</th>\n      <th>diff</th>\n      <th>risk</th>\n    </tr>\n    <tr>\n      <th>onlinebackup</th>\n      <th></th>\n      <th></th>\n      <th></th>\n      <th></th>\n    </tr>\n  </thead>\n  <tbody>\n    <tr>\n      <th>no</th>\n      <td>0.404323</td>\n      <td>2498</td>\n      <td>0.134355</td>\n      <td>1.497672</td>\n    </tr>\n    <tr>\n      <th>no_internet_service</th>\n      <td>0.077805</td>\n      <td>1221</td>\n      <td>-0.192163</td>\n      <td>0.288201</td>\n    </tr>\n    <tr>\n      <th>yes</th>\n      <td>0.217232</td>\n      <td>1915</td>\n      <td>-0.052736</td>\n      <td>0.804660</td>\n    </tr>\n  </tbody>\n</table>\n</div>"
     },
     "metadata": {},
     "output_type": "display_data"
    },
    {
     "name": "stdout",
     "output_type": "stream",
     "text": [
      "\n",
      "deviceprotection\n"
     ]
    },
    {
     "data": {
      "text/plain": "                         mean  count      diff      risk\ndeviceprotection                                        \nno                   0.395875   2473  0.125907  1.466379\nno_internet_service  0.077805   1221 -0.192163  0.288201\nyes                  0.230412   1940 -0.039556  0.853480",
      "text/html": "<div>\n<style scoped>\n    .dataframe tbody tr th:only-of-type {\n        vertical-align: middle;\n    }\n\n    .dataframe tbody tr th {\n        vertical-align: top;\n    }\n\n    .dataframe thead th {\n        text-align: right;\n    }\n</style>\n<table border=\"1\" class=\"dataframe\">\n  <thead>\n    <tr style=\"text-align: right;\">\n      <th></th>\n      <th>mean</th>\n      <th>count</th>\n      <th>diff</th>\n      <th>risk</th>\n    </tr>\n    <tr>\n      <th>deviceprotection</th>\n      <th></th>\n      <th></th>\n      <th></th>\n      <th></th>\n    </tr>\n  </thead>\n  <tbody>\n    <tr>\n      <th>no</th>\n      <td>0.395875</td>\n      <td>2473</td>\n      <td>0.125907</td>\n      <td>1.466379</td>\n    </tr>\n    <tr>\n      <th>no_internet_service</th>\n      <td>0.077805</td>\n      <td>1221</td>\n      <td>-0.192163</td>\n      <td>0.288201</td>\n    </tr>\n    <tr>\n      <th>yes</th>\n      <td>0.230412</td>\n      <td>1940</td>\n      <td>-0.039556</td>\n      <td>0.853480</td>\n    </tr>\n  </tbody>\n</table>\n</div>"
     },
     "metadata": {},
     "output_type": "display_data"
    },
    {
     "name": "stdout",
     "output_type": "stream",
     "text": [
      "\n",
      "techsupport\n"
     ]
    },
    {
     "data": {
      "text/plain": "                         mean  count      diff      risk\ntechsupport                                             \nno                   0.418914   2781  0.148946  1.551717\nno_internet_service  0.077805   1221 -0.192163  0.288201\nyes                  0.159926   1632 -0.110042  0.592390",
      "text/html": "<div>\n<style scoped>\n    .dataframe tbody tr th:only-of-type {\n        vertical-align: middle;\n    }\n\n    .dataframe tbody tr th {\n        vertical-align: top;\n    }\n\n    .dataframe thead th {\n        text-align: right;\n    }\n</style>\n<table border=\"1\" class=\"dataframe\">\n  <thead>\n    <tr style=\"text-align: right;\">\n      <th></th>\n      <th>mean</th>\n      <th>count</th>\n      <th>diff</th>\n      <th>risk</th>\n    </tr>\n    <tr>\n      <th>techsupport</th>\n      <th></th>\n      <th></th>\n      <th></th>\n      <th></th>\n    </tr>\n  </thead>\n  <tbody>\n    <tr>\n      <th>no</th>\n      <td>0.418914</td>\n      <td>2781</td>\n      <td>0.148946</td>\n      <td>1.551717</td>\n    </tr>\n    <tr>\n      <th>no_internet_service</th>\n      <td>0.077805</td>\n      <td>1221</td>\n      <td>-0.192163</td>\n      <td>0.288201</td>\n    </tr>\n    <tr>\n      <th>yes</th>\n      <td>0.159926</td>\n      <td>1632</td>\n      <td>-0.110042</td>\n      <td>0.592390</td>\n    </tr>\n  </tbody>\n</table>\n</div>"
     },
     "metadata": {},
     "output_type": "display_data"
    },
    {
     "name": "stdout",
     "output_type": "stream",
     "text": [
      "\n",
      "streamingtv\n"
     ]
    },
    {
     "data": {
      "text/plain": "                         mean  count      diff      risk\nstreamingtv                                             \nno                   0.342832   2246  0.072864  1.269897\nno_internet_service  0.077805   1221 -0.192163  0.288201\nyes                  0.302723   2167  0.032755  1.121328",
      "text/html": "<div>\n<style scoped>\n    .dataframe tbody tr th:only-of-type {\n        vertical-align: middle;\n    }\n\n    .dataframe tbody tr th {\n        vertical-align: top;\n    }\n\n    .dataframe thead th {\n        text-align: right;\n    }\n</style>\n<table border=\"1\" class=\"dataframe\">\n  <thead>\n    <tr style=\"text-align: right;\">\n      <th></th>\n      <th>mean</th>\n      <th>count</th>\n      <th>diff</th>\n      <th>risk</th>\n    </tr>\n    <tr>\n      <th>streamingtv</th>\n      <th></th>\n      <th></th>\n      <th></th>\n      <th></th>\n    </tr>\n  </thead>\n  <tbody>\n    <tr>\n      <th>no</th>\n      <td>0.342832</td>\n      <td>2246</td>\n      <td>0.072864</td>\n      <td>1.269897</td>\n    </tr>\n    <tr>\n      <th>no_internet_service</th>\n      <td>0.077805</td>\n      <td>1221</td>\n      <td>-0.192163</td>\n      <td>0.288201</td>\n    </tr>\n    <tr>\n      <th>yes</th>\n      <td>0.302723</td>\n      <td>2167</td>\n      <td>0.032755</td>\n      <td>1.121328</td>\n    </tr>\n  </tbody>\n</table>\n</div>"
     },
     "metadata": {},
     "output_type": "display_data"
    },
    {
     "name": "stdout",
     "output_type": "stream",
     "text": [
      "\n",
      "streamingmovies\n"
     ]
    },
    {
     "data": {
      "text/plain": "                         mean  count      diff      risk\nstreamingmovies                                         \nno                   0.338906   2213  0.068938  1.255358\nno_internet_service  0.077805   1221 -0.192163  0.288201\nyes                  0.307273   2200  0.037305  1.138182",
      "text/html": "<div>\n<style scoped>\n    .dataframe tbody tr th:only-of-type {\n        vertical-align: middle;\n    }\n\n    .dataframe tbody tr th {\n        vertical-align: top;\n    }\n\n    .dataframe thead th {\n        text-align: right;\n    }\n</style>\n<table border=\"1\" class=\"dataframe\">\n  <thead>\n    <tr style=\"text-align: right;\">\n      <th></th>\n      <th>mean</th>\n      <th>count</th>\n      <th>diff</th>\n      <th>risk</th>\n    </tr>\n    <tr>\n      <th>streamingmovies</th>\n      <th></th>\n      <th></th>\n      <th></th>\n      <th></th>\n    </tr>\n  </thead>\n  <tbody>\n    <tr>\n      <th>no</th>\n      <td>0.338906</td>\n      <td>2213</td>\n      <td>0.068938</td>\n      <td>1.255358</td>\n    </tr>\n    <tr>\n      <th>no_internet_service</th>\n      <td>0.077805</td>\n      <td>1221</td>\n      <td>-0.192163</td>\n      <td>0.288201</td>\n    </tr>\n    <tr>\n      <th>yes</th>\n      <td>0.307273</td>\n      <td>2200</td>\n      <td>0.037305</td>\n      <td>1.138182</td>\n    </tr>\n  </tbody>\n</table>\n</div>"
     },
     "metadata": {},
     "output_type": "display_data"
    },
    {
     "name": "stdout",
     "output_type": "stream",
     "text": [
      "\n",
      "contract\n"
     ]
    },
    {
     "data": {
      "text/plain": "                    mean  count      diff      risk\ncontract                                           \nmonth-to-month  0.431701   3104  0.161733  1.599082\none_year        0.120573   1186 -0.149395  0.446621\ntwo_year        0.028274   1344 -0.241694  0.104730",
      "text/html": "<div>\n<style scoped>\n    .dataframe tbody tr th:only-of-type {\n        vertical-align: middle;\n    }\n\n    .dataframe tbody tr th {\n        vertical-align: top;\n    }\n\n    .dataframe thead th {\n        text-align: right;\n    }\n</style>\n<table border=\"1\" class=\"dataframe\">\n  <thead>\n    <tr style=\"text-align: right;\">\n      <th></th>\n      <th>mean</th>\n      <th>count</th>\n      <th>diff</th>\n      <th>risk</th>\n    </tr>\n    <tr>\n      <th>contract</th>\n      <th></th>\n      <th></th>\n      <th></th>\n      <th></th>\n    </tr>\n  </thead>\n  <tbody>\n    <tr>\n      <th>month-to-month</th>\n      <td>0.431701</td>\n      <td>3104</td>\n      <td>0.161733</td>\n      <td>1.599082</td>\n    </tr>\n    <tr>\n      <th>one_year</th>\n      <td>0.120573</td>\n      <td>1186</td>\n      <td>-0.149395</td>\n      <td>0.446621</td>\n    </tr>\n    <tr>\n      <th>two_year</th>\n      <td>0.028274</td>\n      <td>1344</td>\n      <td>-0.241694</td>\n      <td>0.104730</td>\n    </tr>\n  </tbody>\n</table>\n</div>"
     },
     "metadata": {},
     "output_type": "display_data"
    },
    {
     "name": "stdout",
     "output_type": "stream",
     "text": [
      "\n",
      "paperlessbilling\n"
     ]
    },
    {
     "data": {
      "text/plain": "                      mean  count      diff      risk\npaperlessbilling                                     \nno                0.172071   2313 -0.097897  0.637375\nyes               0.338151   3321  0.068183  1.252560",
      "text/html": "<div>\n<style scoped>\n    .dataframe tbody tr th:only-of-type {\n        vertical-align: middle;\n    }\n\n    .dataframe tbody tr th {\n        vertical-align: top;\n    }\n\n    .dataframe thead th {\n        text-align: right;\n    }\n</style>\n<table border=\"1\" class=\"dataframe\">\n  <thead>\n    <tr style=\"text-align: right;\">\n      <th></th>\n      <th>mean</th>\n      <th>count</th>\n      <th>diff</th>\n      <th>risk</th>\n    </tr>\n    <tr>\n      <th>paperlessbilling</th>\n      <th></th>\n      <th></th>\n      <th></th>\n      <th></th>\n    </tr>\n  </thead>\n  <tbody>\n    <tr>\n      <th>no</th>\n      <td>0.172071</td>\n      <td>2313</td>\n      <td>-0.097897</td>\n      <td>0.637375</td>\n    </tr>\n    <tr>\n      <th>yes</th>\n      <td>0.338151</td>\n      <td>3321</td>\n      <td>0.068183</td>\n      <td>1.252560</td>\n    </tr>\n  </tbody>\n</table>\n</div>"
     },
     "metadata": {},
     "output_type": "display_data"
    },
    {
     "name": "stdout",
     "output_type": "stream",
     "text": [
      "\n",
      "paymentmethod\n"
     ]
    },
    {
     "data": {
      "text/plain": "                               mean  count      diff      risk\npaymentmethod                                                 \nbank_transfer_(automatic)  0.168171   1219 -0.101797  0.622928\ncredit_card_(automatic)    0.164339   1217 -0.105630  0.608733\nelectronic_check           0.455890   1893  0.185922  1.688682\nmailed_check               0.193870   1305 -0.076098  0.718121",
      "text/html": "<div>\n<style scoped>\n    .dataframe tbody tr th:only-of-type {\n        vertical-align: middle;\n    }\n\n    .dataframe tbody tr th {\n        vertical-align: top;\n    }\n\n    .dataframe thead th {\n        text-align: right;\n    }\n</style>\n<table border=\"1\" class=\"dataframe\">\n  <thead>\n    <tr style=\"text-align: right;\">\n      <th></th>\n      <th>mean</th>\n      <th>count</th>\n      <th>diff</th>\n      <th>risk</th>\n    </tr>\n    <tr>\n      <th>paymentmethod</th>\n      <th></th>\n      <th></th>\n      <th></th>\n      <th></th>\n    </tr>\n  </thead>\n  <tbody>\n    <tr>\n      <th>bank_transfer_(automatic)</th>\n      <td>0.168171</td>\n      <td>1219</td>\n      <td>-0.101797</td>\n      <td>0.622928</td>\n    </tr>\n    <tr>\n      <th>credit_card_(automatic)</th>\n      <td>0.164339</td>\n      <td>1217</td>\n      <td>-0.105630</td>\n      <td>0.608733</td>\n    </tr>\n    <tr>\n      <th>electronic_check</th>\n      <td>0.455890</td>\n      <td>1893</td>\n      <td>0.185922</td>\n      <td>1.688682</td>\n    </tr>\n    <tr>\n      <th>mailed_check</th>\n      <td>0.193870</td>\n      <td>1305</td>\n      <td>-0.076098</td>\n      <td>0.718121</td>\n    </tr>\n  </tbody>\n</table>\n</div>"
     },
     "metadata": {},
     "output_type": "display_data"
    },
    {
     "name": "stdout",
     "output_type": "stream",
     "text": [
      "\n"
     ]
    }
   ],
   "source": [
    "for c in categorical:\n",
    "    print(c)\n",
    "    df_group = df_full_train.groupby(c).churn.agg(['mean', 'count'])\n",
    "    df_group['diff'] = df_group['mean'] - global_churn_rate\n",
    "    df_group['risk'] = df_group['mean'] / global_churn_rate\n",
    "    display(df_group)\n",
    "print()"
   ],
   "metadata": {
    "collapsed": false,
    "pycharm": {
     "name": "#%%\n"
    }
   }
  },
  {
   "cell_type": "markdown",
   "source": [
    "# Feature Importance using Mutual Information"
   ],
   "metadata": {
    "collapsed": false
   }
  },
  {
   "cell_type": "code",
   "execution_count": 34,
   "outputs": [],
   "source": [
    "from sklearn.metrics import mutual_info_score"
   ],
   "metadata": {
    "collapsed": false,
    "pycharm": {
     "name": "#%%\n"
    }
   }
  },
  {
   "cell_type": "code",
   "execution_count": 35,
   "outputs": [
    {
     "data": {
      "text/plain": "0.0983203874041556"
     },
     "execution_count": 35,
     "metadata": {},
     "output_type": "execute_result"
    }
   ],
   "source": [
    "mutual_info_score(df_full_train.churn, df_full_train.contract)"
   ],
   "metadata": {
    "collapsed": false,
    "pycharm": {
     "name": "#%%\n"
    }
   }
  },
  {
   "cell_type": "code",
   "execution_count": 36,
   "outputs": [
    {
     "data": {
      "text/plain": "0.0001174846211139946"
     },
     "execution_count": 36,
     "metadata": {},
     "output_type": "execute_result"
    }
   ],
   "source": [
    "mutual_info_score(df_full_train.churn, df_full_train.gender)"
   ],
   "metadata": {
    "collapsed": false,
    "pycharm": {
     "name": "#%%\n"
    }
   }
  },
  {
   "cell_type": "code",
   "execution_count": 37,
   "outputs": [
    {
     "data": {
      "text/plain": "0.009967689095399745"
     },
     "execution_count": 37,
     "metadata": {},
     "output_type": "execute_result"
    }
   ],
   "source": [
    "mutual_info_score(df_full_train.churn, df_full_train.partner)"
   ],
   "metadata": {
    "collapsed": false,
    "pycharm": {
     "name": "#%%\n"
    }
   }
  },
  {
   "cell_type": "code",
   "execution_count": 38,
   "outputs": [],
   "source": [
    "def mutual_info_churn_score(series):\n",
    "    return mutual_info_score(series, df_full_train.churn)"
   ],
   "metadata": {
    "collapsed": false,
    "pycharm": {
     "name": "#%%\n"
    }
   }
  },
  {
   "cell_type": "code",
   "execution_count": 39,
   "outputs": [
    {
     "data": {
      "text/plain": "contract            0.098320\nonlinesecurity      0.063085\ntechsupport         0.061032\ninternetservice     0.055868\nonlinebackup        0.046923\ndeviceprotection    0.043453\npaymentmethod       0.043210\nstreamingtv         0.031853\nstreamingmovies     0.031581\npaperlessbilling    0.017589\ndependents          0.012346\npartner             0.009968\nseniorcitizen       0.009410\nmultiplelines       0.000857\nphoneservice        0.000229\ngender              0.000117\ndtype: float64"
     },
     "execution_count": 39,
     "metadata": {},
     "output_type": "execute_result"
    }
   ],
   "source": [
    "mi = df_full_train[categorical].apply(mutual_info_churn_score)\n",
    "mi.sort_values(ascending=False)"
   ],
   "metadata": {
    "collapsed": false,
    "pycharm": {
     "name": "#%%\n"
    }
   }
  },
  {
   "cell_type": "markdown",
   "source": [
    "# Feature Importance with Correlation - Numerical variables"
   ],
   "metadata": {
    "collapsed": false
   }
  },
  {
   "cell_type": "code",
   "execution_count": 40,
   "outputs": [
    {
     "data": {
      "text/plain": "72"
     },
     "execution_count": 40,
     "metadata": {},
     "output_type": "execute_result"
    }
   ],
   "source": [
    "df_full_train.tenure.max()"
   ],
   "metadata": {
    "collapsed": false,
    "pycharm": {
     "name": "#%%\n"
    }
   }
  },
  {
   "cell_type": "code",
   "execution_count": 41,
   "outputs": [
    {
     "data": {
      "text/plain": "tenure            0.351885\nmonthlycharges    0.196805\ntotalcharges      0.196353\ndtype: float64"
     },
     "execution_count": 41,
     "metadata": {},
     "output_type": "execute_result"
    }
   ],
   "source": [
    "df_full_train[numerical].corrwith(df_full_train.churn).abs()"
   ],
   "metadata": {
    "collapsed": false,
    "pycharm": {
     "name": "#%%\n"
    }
   }
  },
  {
   "cell_type": "code",
   "execution_count": 42,
   "outputs": [
    {
     "data": {
      "text/plain": "0.5953420669577875"
     },
     "execution_count": 42,
     "metadata": {},
     "output_type": "execute_result"
    }
   ],
   "source": [
    "df_full_train[df_full_train.tenure <=2].churn.mean()"
   ],
   "metadata": {
    "collapsed": false,
    "pycharm": {
     "name": "#%%\n"
    }
   }
  },
  {
   "cell_type": "code",
   "execution_count": 43,
   "outputs": [
    {
     "data": {
      "text/plain": "0.3994413407821229"
     },
     "execution_count": 43,
     "metadata": {},
     "output_type": "execute_result"
    }
   ],
   "source": [
    "df_full_train[(df_full_train.tenure > 2) & (df_full_train.tenure <=12)].churn.mean()"
   ],
   "metadata": {
    "collapsed": false,
    "pycharm": {
     "name": "#%%\n"
    }
   }
  },
  {
   "cell_type": "code",
   "execution_count": 44,
   "outputs": [
    {
     "data": {
      "text/plain": "0.17634908339788277"
     },
     "execution_count": 44,
     "metadata": {},
     "output_type": "execute_result"
    }
   ],
   "source": [
    "df_full_train[df_full_train.tenure > 12].churn.mean()"
   ],
   "metadata": {
    "collapsed": false,
    "pycharm": {
     "name": "#%%\n"
    }
   }
  },
  {
   "cell_type": "code",
   "execution_count": 45,
   "outputs": [
    {
     "data": {
      "text/plain": "0.08795411089866156"
     },
     "execution_count": 45,
     "metadata": {},
     "output_type": "execute_result"
    }
   ],
   "source": [
    "df_full_train[df_full_train.monthlycharges <=20].churn.mean()"
   ],
   "metadata": {
    "collapsed": false,
    "pycharm": {
     "name": "#%%\n"
    }
   }
  },
  {
   "cell_type": "code",
   "execution_count": 46,
   "outputs": [
    {
     "data": {
      "text/plain": "0.18340943683409436"
     },
     "execution_count": 46,
     "metadata": {},
     "output_type": "execute_result"
    }
   ],
   "source": [
    "df_full_train[(df_full_train.monthlycharges > 20) & (df_full_train.monthlycharges <=50)].churn.mean()"
   ],
   "metadata": {
    "collapsed": false,
    "pycharm": {
     "name": "#%%\n"
    }
   }
  },
  {
   "cell_type": "code",
   "execution_count": 47,
   "outputs": [
    {
     "data": {
      "text/plain": "0.32499341585462205"
     },
     "execution_count": 47,
     "metadata": {},
     "output_type": "execute_result"
    }
   ],
   "source": [
    "df_full_train[df_full_train.monthlycharges > 50].churn.mean()"
   ],
   "metadata": {
    "collapsed": false,
    "pycharm": {
     "name": "#%%\n"
    }
   }
  },
  {
   "cell_type": "markdown",
   "source": [
    "# One-hot Encoding"
   ],
   "metadata": {
    "collapsed": false
   }
  },
  {
   "cell_type": "code",
   "execution_count": 94,
   "outputs": [],
   "source": [
    "from sklearn.feature_extraction import DictVectorizer"
   ],
   "metadata": {
    "collapsed": false,
    "pycharm": {
     "name": "#%%\n"
    }
   }
  },
  {
   "cell_type": "code",
   "execution_count": 95,
   "outputs": [],
   "source": [
    "train_dicts = df_train[categorical + numerical].to_dict(orient='records')\n",
    "val_dicts = df_val[categorical + numerical].to_dict(orient='records')"
   ],
   "metadata": {
    "collapsed": false,
    "pycharm": {
     "name": "#%%\n"
    }
   }
  },
  {
   "cell_type": "code",
   "execution_count": 96,
   "outputs": [],
   "source": [
    "dv = DictVectorizer(sparse=False)"
   ],
   "metadata": {
    "collapsed": false,
    "pycharm": {
     "name": "#%%\n"
    }
   }
  },
  {
   "cell_type": "code",
   "execution_count": 111,
   "outputs": [],
   "source": [
    "X_train = dv.fit_transform(train_dicts)\n",
    "X_val = dv.fit_transform(val_dicts) # only fit function for Val set"
   ],
   "metadata": {
    "collapsed": false,
    "pycharm": {
     "name": "#%%\n"
    }
   }
  },
  {
   "cell_type": "code",
   "execution_count": 98,
   "outputs": [
    {
     "data": {
      "text/plain": "array([[0.00000e+00, 0.00000e+00, 1.00000e+00, ..., 1.00000e+00,\n        7.20000e+01, 8.42515e+03],\n       [1.00000e+00, 0.00000e+00, 0.00000e+00, ..., 0.00000e+00,\n        1.00000e+01, 1.02155e+03],\n       [1.00000e+00, 0.00000e+00, 0.00000e+00, ..., 0.00000e+00,\n        5.00000e+00, 4.13650e+02],\n       ...,\n       [1.00000e+00, 0.00000e+00, 0.00000e+00, ..., 1.00000e+00,\n        2.00000e+00, 1.90050e+02],\n       [0.00000e+00, 0.00000e+00, 1.00000e+00, ..., 0.00000e+00,\n        2.70000e+01, 7.61950e+02],\n       [1.00000e+00, 0.00000e+00, 0.00000e+00, ..., 0.00000e+00,\n        9.00000e+00, 7.51650e+02]])"
     },
     "execution_count": 98,
     "metadata": {},
     "output_type": "execute_result"
    }
   ],
   "source": [
    "X_train"
   ],
   "metadata": {
    "collapsed": false,
    "pycharm": {
     "name": "#%%\n"
    }
   }
  },
  {
   "cell_type": "code",
   "execution_count": 99,
   "outputs": [
    {
     "data": {
      "text/plain": "array(['contract=month-to-month', 'contract=one_year',\n       'contract=two_year', 'dependents=no', 'dependents=yes',\n       'deviceprotection=no', 'deviceprotection=no_internet_service',\n       'deviceprotection=yes', 'gender=female', 'gender=male',\n       'internetservice=dsl', 'internetservice=fiber_optic',\n       'internetservice=no', 'monthlycharges', 'multiplelines=no',\n       'multiplelines=no_phone_service', 'multiplelines=yes',\n       'onlinebackup=no', 'onlinebackup=no_internet_service',\n       'onlinebackup=yes', 'onlinesecurity=no',\n       'onlinesecurity=no_internet_service', 'onlinesecurity=yes',\n       'paperlessbilling=no', 'paperlessbilling=yes', 'partner=no',\n       'partner=yes', 'paymentmethod=bank_transfer_(automatic)',\n       'paymentmethod=credit_card_(automatic)',\n       'paymentmethod=electronic_check', 'paymentmethod=mailed_check',\n       'phoneservice=no', 'phoneservice=yes', 'seniorcitizen',\n       'streamingmovies=no', 'streamingmovies=no_internet_service',\n       'streamingmovies=yes', 'streamingtv=no',\n       'streamingtv=no_internet_service', 'streamingtv=yes',\n       'techsupport=no', 'techsupport=no_internet_service',\n       'techsupport=yes', 'tenure', 'totalcharges'], dtype=object)"
     },
     "execution_count": 99,
     "metadata": {},
     "output_type": "execute_result"
    }
   ],
   "source": [
    "dv.get_feature_names_out()"
   ],
   "metadata": {
    "collapsed": false,
    "pycharm": {
     "name": "#%%\n"
    }
   }
  },
  {
   "cell_type": "markdown",
   "source": [
    "# Logistic Regression"
   ],
   "metadata": {
    "collapsed": false
   }
  },
  {
   "cell_type": "markdown",
   "source": [
    "Binary Classification\n",
    "Linear vs Logistic Regression"
   ],
   "metadata": {
    "collapsed": false
   }
  },
  {
   "cell_type": "code",
   "execution_count": 100,
   "outputs": [],
   "source": [
    "def sigmoid(z):\n",
    "    return  1 / (1 + np.exp(-z))"
   ],
   "metadata": {
    "collapsed": false,
    "pycharm": {
     "name": "#%%\n"
    }
   }
  },
  {
   "cell_type": "code",
   "execution_count": 101,
   "outputs": [],
   "source": [
    "z = np.linspace(-7, 7, 51)"
   ],
   "metadata": {
    "collapsed": false,
    "pycharm": {
     "name": "#%%\n"
    }
   }
  },
  {
   "cell_type": "code",
   "execution_count": 102,
   "outputs": [
    {
     "data": {
      "text/plain": "array([9.11051194e-04, 1.20508423e-03, 1.59386223e-03, 2.10780106e-03,\n       2.78699622e-03, 3.68423990e-03, 4.86893124e-03, 6.43210847e-03,\n       8.49286285e-03, 1.12064063e-02, 1.47740317e-02, 1.94550846e-02,\n       2.55807883e-02, 3.35692233e-02, 4.39398154e-02, 5.73241759e-02,\n       7.44679452e-02, 9.62155417e-02, 1.23467048e-01, 1.57095469e-01,\n       1.97816111e-01, 2.46011284e-01, 3.01534784e-01, 3.63547460e-01,\n       4.30453776e-01, 5.00000000e-01, 5.69546224e-01, 6.36452540e-01,\n       6.98465216e-01, 7.53988716e-01, 8.02183889e-01, 8.42904531e-01,\n       8.76532952e-01, 9.03784458e-01, 9.25532055e-01, 9.42675824e-01,\n       9.56060185e-01, 9.66430777e-01, 9.74419212e-01, 9.80544915e-01,\n       9.85225968e-01, 9.88793594e-01, 9.91507137e-01, 9.93567892e-01,\n       9.95131069e-01, 9.96315760e-01, 9.97213004e-01, 9.97892199e-01,\n       9.98406138e-01, 9.98794916e-01, 9.99088949e-01])"
     },
     "execution_count": 102,
     "metadata": {},
     "output_type": "execute_result"
    }
   ],
   "source": [
    "sigmoid(z)"
   ],
   "metadata": {
    "collapsed": false,
    "pycharm": {
     "name": "#%%\n"
    }
   }
  },
  {
   "cell_type": "code",
   "execution_count": 103,
   "outputs": [
    {
     "name": "stdout",
     "output_type": "stream",
     "text": [
      "\n"
     ]
    },
    {
     "data": {
      "text/plain": "<Figure size 432x288 with 1 Axes>",
      "image/png": "[encoded data removed]"
     },
     "metadata": {},
     "output_type": "display_data"
    }
   ],
   "source": [
    "plt.plot(z, sigmoid(z))\n",
    "print()"
   ],
   "metadata": {
    "collapsed": false,
    "pycharm": {
     "name": "#%%\n"
    }
   }
  },
  {
   "cell_type": "code",
   "execution_count": 104,
   "outputs": [],
   "source": [
    "w0 = 1\n",
    "w = []\n",
    "def linear_regression(xi):\n",
    "    result = w0\n",
    "\n",
    "    for j in range(len(w)):\n",
    "        result = result + xi[j] * w[j]\n",
    "\n",
    "    return result"
   ],
   "metadata": {
    "collapsed": false,
    "pycharm": {
     "name": "#%%\n"
    }
   }
  },
  {
   "cell_type": "code",
   "execution_count": 105,
   "outputs": [],
   "source": [
    "def logistic_regression(xi):\n",
    "    score = w0\n",
    "\n",
    "    for j in range(len(w)):\n",
    "        score = score + xi[j] * w[j]\n",
    "\n",
    "    result = sigmoid(score)\n",
    "    return result"
   ],
   "metadata": {
    "collapsed": false,
    "pycharm": {
     "name": "#%%\n"
    }
   }
  },
  {
   "cell_type": "markdown",
   "source": [
    "# Training Logistic Regression with Scikit-Learn"
   ],
   "metadata": {
    "collapsed": false
   }
  },
  {
   "cell_type": "code",
   "execution_count": 106,
   "outputs": [],
   "source": [
    "from sklearn.linear_model import LogisticRegression"
   ],
   "metadata": {
    "collapsed": false,
    "pycharm": {
     "name": "#%%\n"
    }
   }
  },
  {
   "cell_type": "code",
   "execution_count": 107,
   "outputs": [
    {
     "data": {
      "text/plain": "LogisticRegression()",
      "text/html": "<style>#sk-container-id-4 {color: black;background-color: white;}#sk-container-id-4 pre{padding: 0;}#sk-container-id-4 div.sk-toggleable {background-color: white;}#sk-container-id-4 label.sk-toggleable__label {cursor: pointer;display: block;width: 100%;margin-bottom: 0;padding: 0.3em;box-sizing: border-box;text-align: center;}#sk-container-id-4 label.sk-toggleable__label-arrow:before {content: \"▸\";float: left;margin-right: 0.25em;color: #696969;}#sk-container-id-4 label.sk-toggleable__label-arrow:hover:before {color: black;}#sk-container-id-4 div.sk-estimator:hover label.sk-toggleable__label-arrow:before {color: black;}#sk-container-id-4 div.sk-toggleable__content {max-height: 0;max-width: 0;overflow: hidden;text-align: left;background-color: #f0f8ff;}#sk-container-id-4 div.sk-toggleable__content pre {margin: 0.2em;color: black;border-radius: 0.25em;background-color: #f0f8ff;}#sk-container-id-4 input.sk-toggleable__control:checked~div.sk-toggleable__content {max-height: 200px;max-width: 100%;overflow: auto;}#sk-container-id-4 input.sk-toggleable__control:checked~label.sk-toggleable__label-arrow:before {content: \"▾\";}#sk-container-id-4 div.sk-estimator input.sk-toggleable__control:checked~label.sk-toggleable__label {background-color: #d4ebff;}#sk-container-id-4 div.sk-label input.sk-toggleable__control:checked~label.sk-toggleable__label {background-color: #d4ebff;}#sk-container-id-4 input.sk-hidden--visually {border: 0;clip: rect(1px 1px 1px 1px);clip: rect(1px, 1px, 1px, 1px);height: 1px;margin: -1px;overflow: hidden;padding: 0;position: absolute;width: 1px;}#sk-container-id-4 div.sk-estimator {font-family: monospace;background-color: #f0f8ff;border: 1px dotted black;border-radius: 0.25em;box-sizing: border-box;margin-bottom: 0.5em;}#sk-container-id-4 div.sk-estimator:hover {background-color: #d4ebff;}#sk-container-id-4 div.sk-parallel-item::after {content: \"\";width: 100%;border-bottom: 1px solid gray;flex-grow: 1;}#sk-container-id-4 div.sk-label:hover label.sk-toggleable__label {background-color: #d4ebff;}#sk-container-id-4 div.sk-serial::before {content: \"\";position: absolute;border-left: 1px solid gray;box-sizing: border-box;top: 0;bottom: 0;left: 50%;z-index: 0;}#sk-container-id-4 div.sk-serial {display: flex;flex-direction: column;align-items: center;background-color: white;padding-right: 0.2em;padding-left: 0.2em;position: relative;}#sk-container-id-4 div.sk-item {position: relative;z-index: 1;}#sk-container-id-4 div.sk-parallel {display: flex;align-items: stretch;justify-content: center;background-color: white;position: relative;}#sk-container-id-4 div.sk-item::before, #sk-container-id-4 div.sk-parallel-item::before {content: \"\";position: absolute;border-left: 1px solid gray;box-sizing: border-box;top: 0;bottom: 0;left: 50%;z-index: -1;}#sk-container-id-4 div.sk-parallel-item {display: flex;flex-direction: column;z-index: 1;position: relative;background-color: white;}#sk-container-id-4 div.sk-parallel-item:first-child::after {align-self: flex-end;width: 50%;}#sk-container-id-4 div.sk-parallel-item:last-child::after {align-self: flex-start;width: 50%;}#sk-container-id-4 div.sk-parallel-item:only-child::after {width: 0;}#sk-container-id-4 div.sk-dashed-wrapped {border: 1px dashed gray;margin: 0 0.4em 0.5em 0.4em;box-sizing: border-box;padding-bottom: 0.4em;background-color: white;}#sk-container-id-4 div.sk-label label {font-family: monospace;font-weight: bold;display: inline-block;line-height: 1.2em;}#sk-container-id-4 div.sk-label-container {text-align: center;}#sk-container-id-4 div.sk-container {/* jupyter's `normalize.less` sets `[hidden] { display: none; }` but bootstrap.min.css set `[hidden] { display: none !important; }` so we also need the `!important` here to be able to override the default hidden behavior on the sphinx rendered scikit-learn.org. See: https://github.com/scikit-learn/scikit-learn/issues/21755 */display: inline-block !important;position: relative;}#sk-container-id-4 div.sk-text-repr-fallback {display: none;}</style><div id=\"sk-container-id-4\" class=\"sk-top-container\"><div class=\"sk-text-repr-fallback\"><pre>LogisticRegression()</pre><b>In a Jupyter environment, please rerun this cell to show the HTML representation or trust the notebook. <br />On GitHub, the HTML representation is unable to render, please try loading this page with nbviewer.org.</b></div><div class=\"sk-container\" hidden><div class=\"sk-item\"><div class=\"sk-estimator sk-toggleable\"><input class=\"sk-toggleable__control sk-hidden--visually\" id=\"sk-estimator-id-4\" type=\"checkbox\" checked><label for=\"sk-estimator-id-4\" class=\"sk-toggleable__label sk-toggleable__label-arrow\">LogisticRegression</label><div class=\"sk-toggleable__content\"><pre>LogisticRegression()</pre></div></div></div></div></div>"
     },
     "execution_count": 107,
     "metadata": {},
     "output_type": "execute_result"
    }
   ],
   "source": [
    "model = LogisticRegression()\n",
    "model.fit(X_train, y_train)"
   ],
   "metadata": {
    "collapsed": false,
    "pycharm": {
     "name": "#%%\n"
    }
   }
  },
  {
   "cell_type": "code",
   "execution_count": 108,
   "outputs": [
    {
     "data": {
      "text/plain": "array([ 0.475, -0.175, -0.408, -0.03 , -0.078,  0.063, -0.089, -0.081,\n       -0.034, -0.073, -0.335,  0.317, -0.089,  0.004, -0.258,  0.141,\n        0.009,  0.063, -0.089, -0.081,  0.266, -0.089, -0.284, -0.231,\n        0.124, -0.166,  0.058, -0.087, -0.032,  0.071, -0.059,  0.141,\n       -0.249,  0.216, -0.12 , -0.089,  0.102, -0.071, -0.089,  0.052,\n        0.213, -0.089, -0.232, -0.07 ,  0.   ])"
     },
     "execution_count": 108,
     "metadata": {},
     "output_type": "execute_result"
    }
   ],
   "source": [
    "model.coef_[0].round(3) # weights"
   ],
   "metadata": {
    "collapsed": false,
    "pycharm": {
     "name": "#%%\n"
    }
   }
  },
  {
   "cell_type": "code",
   "execution_count": 109,
   "outputs": [
    {
     "data": {
      "text/plain": "-0.10900197396551693"
     },
     "execution_count": 109,
     "metadata": {},
     "output_type": "execute_result"
    }
   ],
   "source": [
    "model.intercept_[0] # Bias"
   ],
   "metadata": {
    "collapsed": false,
    "pycharm": {
     "name": "#%%\n"
    }
   }
  },
  {
   "cell_type": "code",
   "execution_count": 112,
   "outputs": [],
   "source": [
    "y_pred = model.predict_proba(X_val)[:, 1]"
   ],
   "metadata": {
    "collapsed": false,
    "pycharm": {
     "name": "#%%\n"
    }
   }
  },
  {
   "cell_type": "code",
   "execution_count": 115,
   "outputs": [],
   "source": [
    "churn_decision = (y_pred > 0.5)"
   ],
   "metadata": {
    "collapsed": false,
    "pycharm": {
     "name": "#%%\n"
    }
   }
  },
  {
   "cell_type": "code",
   "execution_count": 117,
   "outputs": [
    {
     "data": {
      "text/plain": "3       8433-wxgna\n8       3440-jpscl\n11      2637-fkfsy\n12      7228-omtpn\n19      6711-fldfb\n           ...    \n1397    5976-jcjrh\n1398    2034-cgrhz\n1399    5276-kqwhg\n1407    6521-yytyi\n1408    3049-solay\nName: customerid, Length: 311, dtype: object"
     },
     "execution_count": 117,
     "metadata": {},
     "output_type": "execute_result"
    }
   ],
   "source": [
    "df_val[churn_decision].customerid"
   ],
   "metadata": {
    "collapsed": false,
    "pycharm": {
     "name": "#%%\n"
    }
   }
  },
  {
   "cell_type": "code",
   "execution_count": 119,
   "outputs": [
    {
     "data": {
      "text/plain": "0.8034066713981547"
     },
     "execution_count": 119,
     "metadata": {},
     "output_type": "execute_result"
    }
   ],
   "source": [
    "(y_val == churn_decision).mean()"
   ],
   "metadata": {
    "collapsed": false,
    "pycharm": {
     "name": "#%%\n"
    }
   }
  },
  {
   "cell_type": "code",
   "execution_count": 120,
   "outputs": [],
   "source": [
    "df_pred = pd.DataFrame()\n",
    "df_pred['probability'] = y_pred\n",
    "df_pred['prediction'] = churn_decision.astype(int)\n",
    "df_pred['actual'] = y_val"
   ],
   "metadata": {
    "collapsed": false,
    "pycharm": {
     "name": "#%%\n"
    }
   }
  },
  {
   "cell_type": "code",
   "execution_count": 123,
   "outputs": [],
   "source": [
    "df_pred['correct'] = df_pred.prediction == df_pred.actual"
   ],
   "metadata": {
    "collapsed": false,
    "pycharm": {
     "name": "#%%\n"
    }
   }
  },
  {
   "cell_type": "code",
   "execution_count": 125,
   "outputs": [
    {
     "data": {
      "text/plain": "0.8034066713981547"
     },
     "execution_count": 125,
     "metadata": {},
     "output_type": "execute_result"
    }
   ],
   "source": [
    "df_pred.correct.mean()"
   ],
   "metadata": {
    "collapsed": false,
    "pycharm": {
     "name": "#%%\n"
    }
   }
  },
  {
   "cell_type": "markdown",
   "source": [
    "# Model Interpretation"
   ],
   "metadata": {
    "collapsed": false
   }
  },
  {
   "cell_type": "code",
   "execution_count": 126,
   "outputs": [
    {
     "data": {
      "text/plain": "{'contract=month-to-month': 0.475,\n 'contract=one_year': -0.175,\n 'contract=two_year': -0.408,\n 'dependents=no': -0.03,\n 'dependents=yes': -0.078,\n 'deviceprotection=no': 0.063,\n 'deviceprotection=no_internet_service': -0.089,\n 'deviceprotection=yes': -0.081,\n 'gender=female': -0.034,\n 'gender=male': -0.073,\n 'internetservice=dsl': -0.335,\n 'internetservice=fiber_optic': 0.317,\n 'internetservice=no': -0.089,\n 'monthlycharges': 0.004,\n 'multiplelines=no': -0.258,\n 'multiplelines=no_phone_service': 0.141,\n 'multiplelines=yes': 0.009,\n 'onlinebackup=no': 0.063,\n 'onlinebackup=no_internet_service': -0.089,\n 'onlinebackup=yes': -0.081,\n 'onlinesecurity=no': 0.266,\n 'onlinesecurity=no_internet_service': -0.089,\n 'onlinesecurity=yes': -0.284,\n 'paperlessbilling=no': -0.231,\n 'paperlessbilling=yes': 0.124,\n 'partner=no': -0.166,\n 'partner=yes': 0.058,\n 'paymentmethod=bank_transfer_(automatic)': -0.087,\n 'paymentmethod=credit_card_(automatic)': -0.032,\n 'paymentmethod=electronic_check': 0.071,\n 'paymentmethod=mailed_check': -0.059,\n 'phoneservice=no': 0.141,\n 'phoneservice=yes': -0.249,\n 'seniorcitizen': 0.216,\n 'streamingmovies=no': -0.12,\n 'streamingmovies=no_internet_service': -0.089,\n 'streamingmovies=yes': 0.102,\n 'streamingtv=no': -0.071,\n 'streamingtv=no_internet_service': -0.089,\n 'streamingtv=yes': 0.052,\n 'techsupport=no': 0.213,\n 'techsupport=no_internet_service': -0.089,\n 'techsupport=yes': -0.232,\n 'tenure': -0.07,\n 'totalcharges': 0.0}"
     },
     "execution_count": 126,
     "metadata": {},
     "output_type": "execute_result"
    }
   ],
   "source": [
    "dict(zip(dv.get_feature_names_out(), model.coef_[0].round(3)))"
   ],
   "metadata": {
    "collapsed": false,
    "pycharm": {
     "name": "#%%\n"
    }
   }
  },
  {
   "cell_type": "code",
   "execution_count": 127,
   "outputs": [],
   "source": [
    "small = ['contract', 'tenure', 'monthlycharges']"
   ],
   "metadata": {
    "collapsed": false,
    "pycharm": {
     "name": "#%%\n"
    }
   }
  },
  {
   "cell_type": "code",
   "execution_count": 130,
   "outputs": [],
   "source": [
    "dicts_train_small = df_train[small].to_dict(orient='records')\n",
    "dicts_val_small = df_val[small].to_dict(orient='records')"
   ],
   "metadata": {
    "collapsed": false,
    "pycharm": {
     "name": "#%%\n"
    }
   }
  },
  {
   "cell_type": "code",
   "execution_count": 131,
   "outputs": [
    {
     "data": {
      "text/plain": "DictVectorizer(sparse=False)",
      "text/html": "<style>#sk-container-id-5 {color: black;background-color: white;}#sk-container-id-5 pre{padding: 0;}#sk-container-id-5 div.sk-toggleable {background-color: white;}#sk-container-id-5 label.sk-toggleable__label {cursor: pointer;display: block;width: 100%;margin-bottom: 0;padding: 0.3em;box-sizing: border-box;text-align: center;}#sk-container-id-5 label.sk-toggleable__label-arrow:before {content: \"▸\";float: left;margin-right: 0.25em;color: #696969;}#sk-container-id-5 label.sk-toggleable__label-arrow:hover:before {color: black;}#sk-container-id-5 div.sk-estimator:hover label.sk-toggleable__label-arrow:before {color: black;}#sk-container-id-5 div.sk-toggleable__content {max-height: 0;max-width: 0;overflow: hidden;text-align: left;background-color: #f0f8ff;}#sk-container-id-5 div.sk-toggleable__content pre {margin: 0.2em;color: black;border-radius: 0.25em;background-color: #f0f8ff;}#sk-container-id-5 input.sk-toggleable__control:checked~div.sk-toggleable__content {max-height: 200px;max-width: 100%;overflow: auto;}#sk-container-id-5 input.sk-toggleable__control:checked~label.sk-toggleable__label-arrow:before {content: \"▾\";}#sk-container-id-5 div.sk-estimator input.sk-toggleable__control:checked~label.sk-toggleable__label {background-color: #d4ebff;}#sk-container-id-5 div.sk-label input.sk-toggleable__control:checked~label.sk-toggleable__label {background-color: #d4ebff;}#sk-container-id-5 input.sk-hidden--visually {border: 0;clip: rect(1px 1px 1px 1px);clip: rect(1px, 1px, 1px, 1px);height: 1px;margin: -1px;overflow: hidden;padding: 0;position: absolute;width: 1px;}#sk-container-id-5 div.sk-estimator {font-family: monospace;background-color: #f0f8ff;border: 1px dotted black;border-radius: 0.25em;box-sizing: border-box;margin-bottom: 0.5em;}#sk-container-id-5 div.sk-estimator:hover {background-color: #d4ebff;}#sk-container-id-5 div.sk-parallel-item::after {content: \"\";width: 100%;border-bottom: 1px solid gray;flex-grow: 1;}#sk-container-id-5 div.sk-label:hover label.sk-toggleable__label {background-color: #d4ebff;}#sk-container-id-5 div.sk-serial::before {content: \"\";position: absolute;border-left: 1px solid gray;box-sizing: border-box;top: 0;bottom: 0;left: 50%;z-index: 0;}#sk-container-id-5 div.sk-serial {display: flex;flex-direction: column;align-items: center;background-color: white;padding-right: 0.2em;padding-left: 0.2em;position: relative;}#sk-container-id-5 div.sk-item {position: relative;z-index: 1;}#sk-container-id-5 div.sk-parallel {display: flex;align-items: stretch;justify-content: center;background-color: white;position: relative;}#sk-container-id-5 div.sk-item::before, #sk-container-id-5 div.sk-parallel-item::before {content: \"\";position: absolute;border-left: 1px solid gray;box-sizing: border-box;top: 0;bottom: 0;left: 50%;z-index: -1;}#sk-container-id-5 div.sk-parallel-item {display: flex;flex-direction: column;z-index: 1;position: relative;background-color: white;}#sk-container-id-5 div.sk-parallel-item:first-child::after {align-self: flex-end;width: 50%;}#sk-container-id-5 div.sk-parallel-item:last-child::after {align-self: flex-start;width: 50%;}#sk-container-id-5 div.sk-parallel-item:only-child::after {width: 0;}#sk-container-id-5 div.sk-dashed-wrapped {border: 1px dashed gray;margin: 0 0.4em 0.5em 0.4em;box-sizing: border-box;padding-bottom: 0.4em;background-color: white;}#sk-container-id-5 div.sk-label label {font-family: monospace;font-weight: bold;display: inline-block;line-height: 1.2em;}#sk-container-id-5 div.sk-label-container {text-align: center;}#sk-container-id-5 div.sk-container {/* jupyter's `normalize.less` sets `[hidden] { display: none; }` but bootstrap.min.css set `[hidden] { display: none !important; }` so we also need the `!important` here to be able to override the default hidden behavior on the sphinx rendered scikit-learn.org. See: https://github.com/scikit-learn/scikit-learn/issues/21755 */display: inline-block !important;position: relative;}#sk-container-id-5 div.sk-text-repr-fallback {display: none;}</style><div id=\"sk-container-id-5\" class=\"sk-top-container\"><div class=\"sk-text-repr-fallback\"><pre>DictVectorizer(sparse=False)</pre><b>In a Jupyter environment, please rerun this cell to show the HTML representation or trust the notebook. <br />On GitHub, the HTML representation is unable to render, please try loading this page with nbviewer.org.</b></div><div class=\"sk-container\" hidden><div class=\"sk-item\"><div class=\"sk-estimator sk-toggleable\"><input class=\"sk-toggleable__control sk-hidden--visually\" id=\"sk-estimator-id-5\" type=\"checkbox\" checked><label for=\"sk-estimator-id-5\" class=\"sk-toggleable__label sk-toggleable__label-arrow\">DictVectorizer</label><div class=\"sk-toggleable__content\"><pre>DictVectorizer(sparse=False)</pre></div></div></div></div></div>"
     },
     "execution_count": 131,
     "metadata": {},
     "output_type": "execute_result"
    }
   ],
   "source": [
    "dv_small = DictVectorizer(sparse=False)\n",
    "dv_small.fit(dicts_train_small)"
   ],
   "metadata": {
    "collapsed": false,
    "pycharm": {
     "name": "#%%\n"
    }
   }
  },
  {
   "cell_type": "code",
   "execution_count": 132,
   "outputs": [
    {
     "data": {
      "text/plain": "array(['contract=month-to-month', 'contract=one_year',\n       'contract=two_year', 'monthlycharges', 'tenure'], dtype=object)"
     },
     "execution_count": 132,
     "metadata": {},
     "output_type": "execute_result"
    }
   ],
   "source": [
    "dv_small.get_feature_names_out()"
   ],
   "metadata": {
    "collapsed": false,
    "pycharm": {
     "name": "#%%\n"
    }
   }
  },
  {
   "cell_type": "code",
   "execution_count": 133,
   "outputs": [],
   "source": [
    "X_train_small = dv_small.transform(dicts_train_small)"
   ],
   "metadata": {
    "collapsed": false,
    "pycharm": {
     "name": "#%%\n"
    }
   }
  },
  {
   "cell_type": "code",
   "execution_count": 141,
   "outputs": [
    {
     "data": {
      "text/plain": "LogisticRegression()",
      "text/html": "<style>#sk-container-id-7 {color: black;background-color: white;}#sk-container-id-7 pre{padding: 0;}#sk-container-id-7 div.sk-toggleable {background-color: white;}#sk-container-id-7 label.sk-toggleable__label {cursor: pointer;display: block;width: 100%;margin-bottom: 0;padding: 0.3em;box-sizing: border-box;text-align: center;}#sk-container-id-7 label.sk-toggleable__label-arrow:before {content: \"▸\";float: left;margin-right: 0.25em;color: #696969;}#sk-container-id-7 label.sk-toggleable__label-arrow:hover:before {color: black;}#sk-container-id-7 div.sk-estimator:hover label.sk-toggleable__label-arrow:before {color: black;}#sk-container-id-7 div.sk-toggleable__content {max-height: 0;max-width: 0;overflow: hidden;text-align: left;background-color: #f0f8ff;}#sk-container-id-7 div.sk-toggleable__content pre {margin: 0.2em;color: black;border-radius: 0.25em;background-color: #f0f8ff;}#sk-container-id-7 input.sk-toggleable__control:checked~div.sk-toggleable__content {max-height: 200px;max-width: 100%;overflow: auto;}#sk-container-id-7 input.sk-toggleable__control:checked~label.sk-toggleable__label-arrow:before {content: \"▾\";}#sk-container-id-7 div.sk-estimator input.sk-toggleable__control:checked~label.sk-toggleable__label {background-color: #d4ebff;}#sk-container-id-7 div.sk-label input.sk-toggleable__control:checked~label.sk-toggleable__label {background-color: #d4ebff;}#sk-container-id-7 input.sk-hidden--visually {border: 0;clip: rect(1px 1px 1px 1px);clip: rect(1px, 1px, 1px, 1px);height: 1px;margin: -1px;overflow: hidden;padding: 0;position: absolute;width: 1px;}#sk-container-id-7 div.sk-estimator {font-family: monospace;background-color: #f0f8ff;border: 1px dotted black;border-radius: 0.25em;box-sizing: border-box;margin-bottom: 0.5em;}#sk-container-id-7 div.sk-estimator:hover {background-color: #d4ebff;}#sk-container-id-7 div.sk-parallel-item::after {content: \"\";width: 100%;border-bottom: 1px solid gray;flex-grow: 1;}#sk-container-id-7 div.sk-label:hover label.sk-toggleable__label {background-color: #d4ebff;}#sk-container-id-7 div.sk-serial::before {content: \"\";position: absolute;border-left: 1px solid gray;box-sizing: border-box;top: 0;bottom: 0;left: 50%;z-index: 0;}#sk-container-id-7 div.sk-serial {display: flex;flex-direction: column;align-items: center;background-color: white;padding-right: 0.2em;padding-left: 0.2em;position: relative;}#sk-container-id-7 div.sk-item {position: relative;z-index: 1;}#sk-container-id-7 div.sk-parallel {display: flex;align-items: stretch;justify-content: center;background-color: white;position: relative;}#sk-container-id-7 div.sk-item::before, #sk-container-id-7 div.sk-parallel-item::before {content: \"\";position: absolute;border-left: 1px solid gray;box-sizing: border-box;top: 0;bottom: 0;left: 50%;z-index: -1;}#sk-container-id-7 div.sk-parallel-item {display: flex;flex-direction: column;z-index: 1;position: relative;background-color: white;}#sk-container-id-7 div.sk-parallel-item:first-child::after {align-self: flex-end;width: 50%;}#sk-container-id-7 div.sk-parallel-item:last-child::after {align-self: flex-start;width: 50%;}#sk-container-id-7 div.sk-parallel-item:only-child::after {width: 0;}#sk-container-id-7 div.sk-dashed-wrapped {border: 1px dashed gray;margin: 0 0.4em 0.5em 0.4em;box-sizing: border-box;padding-bottom: 0.4em;background-color: white;}#sk-container-id-7 div.sk-label label {font-family: monospace;font-weight: bold;display: inline-block;line-height: 1.2em;}#sk-container-id-7 div.sk-label-container {text-align: center;}#sk-container-id-7 div.sk-container {/* jupyter's `normalize.less` sets `[hidden] { display: none; }` but bootstrap.min.css set `[hidden] { display: none !important; }` so we also need the `!important` here to be able to override the default hidden behavior on the sphinx rendered scikit-learn.org. See: https://github.com/scikit-learn/scikit-learn/issues/21755 */display: inline-block !important;position: relative;}#sk-container-id-7 div.sk-text-repr-fallback {display: none;}</style><div id=\"sk-container-id-7\" class=\"sk-top-container\"><div class=\"sk-text-repr-fallback\"><pre>LogisticRegression()</pre><b>In a Jupyter environment, please rerun this cell to show the HTML representation or trust the notebook. <br />On GitHub, the HTML representation is unable to render, please try loading this page with nbviewer.org.</b></div><div class=\"sk-container\" hidden><div class=\"sk-item\"><div class=\"sk-estimator sk-toggleable\"><input class=\"sk-toggleable__control sk-hidden--visually\" id=\"sk-estimator-id-7\" type=\"checkbox\" checked><label for=\"sk-estimator-id-7\" class=\"sk-toggleable__label sk-toggleable__label-arrow\">LogisticRegression</label><div class=\"sk-toggleable__content\"><pre>LogisticRegression()</pre></div></div></div></div></div>"
     },
     "execution_count": 141,
     "metadata": {},
     "output_type": "execute_result"
    }
   ],
   "source": [
    "model_small = LogisticRegression()\n",
    "model_small.fit(X_train_small, y_train)"
   ],
   "metadata": {
    "collapsed": false,
    "pycharm": {
     "name": "#%%\n"
    }
   }
  },
  {
   "cell_type": "code",
   "execution_count": 142,
   "outputs": [
    {
     "name": "stdout",
     "output_type": "stream",
     "text": [
      "-2.4767756600806425\n"
     ]
    }
   ],
   "source": [
    "w0 = model_small.intercept_[0]\n",
    "w = model_small.coef_[0].round(3)\n",
    "print(w0)"
   ],
   "metadata": {
    "collapsed": false,
    "pycharm": {
     "name": "#%%\n"
    }
   }
  },
  {
   "cell_type": "code",
   "execution_count": 143,
   "outputs": [
    {
     "data": {
      "text/plain": "{'contract=month-to-month': 0.97,\n 'contract=one_year': -0.025,\n 'contract=two_year': -0.949,\n 'dependents=no': 0.027,\n 'dependents=yes': -0.036}"
     },
     "execution_count": 143,
     "metadata": {},
     "output_type": "execute_result"
    }
   ],
   "source": [
    "dict(zip(dv.get_feature_names_out(), w))"
   ],
   "metadata": {
    "collapsed": false,
    "pycharm": {
     "name": "#%%\n"
    }
   }
  },
  {
   "cell_type": "markdown",
   "source": [
    "# Using the Model"
   ],
   "metadata": {
    "collapsed": false
   }
  },
  {
   "cell_type": "code",
   "execution_count": 145,
   "outputs": [],
   "source": [
    "dicts_full_train = df_full_train[categorical + numerical].to_dict(orient='records')"
   ],
   "metadata": {
    "collapsed": false,
    "pycharm": {
     "name": "#%%\n"
    }
   }
  },
  {
   "cell_type": "code",
   "execution_count": 146,
   "outputs": [
    {
     "data": {
      "text/plain": "[{'gender': 'male',\n  'seniorcitizen': 0,\n  'partner': 'yes',\n  'dependents': 'yes',\n  'phoneservice': 'yes',\n  'multiplelines': 'no',\n  'internetservice': 'no',\n  'onlinesecurity': 'no_internet_service',\n  'onlinebackup': 'no_internet_service',\n  'deviceprotection': 'no_internet_service',\n  'techsupport': 'no_internet_service',\n  'streamingtv': 'no_internet_service',\n  'streamingmovies': 'no_internet_service',\n  'contract': 'two_year',\n  'paperlessbilling': 'no',\n  'paymentmethod': 'mailed_check',\n  'tenure': 12,\n  'monthlycharges': 19.7,\n  'totalcharges': 258.35},\n {'gender': 'female',\n  'seniorcitizen': 0,\n  'partner': 'no',\n  'dependents': 'no',\n  'phoneservice': 'yes',\n  'multiplelines': 'no',\n  'internetservice': 'dsl',\n  'onlinesecurity': 'yes',\n  'onlinebackup': 'yes',\n  'deviceprotection': 'yes',\n  'techsupport': 'yes',\n  'streamingtv': 'no',\n  'streamingmovies': 'yes',\n  'contract': 'one_year',\n  'paperlessbilling': 'no',\n  'paymentmethod': 'credit_card_(automatic)',\n  'tenure': 42,\n  'monthlycharges': 73.9,\n  'totalcharges': 3160.55},\n {'gender': 'male',\n  'seniorcitizen': 0,\n  'partner': 'yes',\n  'dependents': 'no',\n  'phoneservice': 'yes',\n  'multiplelines': 'yes',\n  'internetservice': 'dsl',\n  'onlinesecurity': 'yes',\n  'onlinebackup': 'yes',\n  'deviceprotection': 'no',\n  'techsupport': 'yes',\n  'streamingtv': 'no',\n  'streamingmovies': 'no',\n  'contract': 'two_year',\n  'paperlessbilling': 'no',\n  'paymentmethod': 'bank_transfer_(automatic)',\n  'tenure': 71,\n  'monthlycharges': 65.15,\n  'totalcharges': 4681.75}]"
     },
     "execution_count": 146,
     "metadata": {},
     "output_type": "execute_result"
    }
   ],
   "source": [
    "dicts_full_train[:3]"
   ],
   "metadata": {
    "collapsed": false,
    "pycharm": {
     "name": "#%%\n"
    }
   }
  },
  {
   "cell_type": "code",
   "execution_count": 147,
   "outputs": [],
   "source": [
    "dv = DictVectorizer(sparse=False)\n",
    "X_full_train = dv.fit_transform(dicts_full_train)"
   ],
   "metadata": {
    "collapsed": false,
    "pycharm": {
     "name": "#%%\n"
    }
   }
  },
  {
   "cell_type": "code",
   "execution_count": 148,
   "outputs": [],
   "source": [
    "y_full_train = df_full_train.churn.values"
   ],
   "metadata": {
    "collapsed": false,
    "pycharm": {
     "name": "#%%\n"
    }
   }
  },
  {
   "cell_type": "code",
   "execution_count": 149,
   "outputs": [
    {
     "data": {
      "text/plain": "LogisticRegression()",
      "text/html": "<style>#sk-container-id-8 {color: black;background-color: white;}#sk-container-id-8 pre{padding: 0;}#sk-container-id-8 div.sk-toggleable {background-color: white;}#sk-container-id-8 label.sk-toggleable__label {cursor: pointer;display: block;width: 100%;margin-bottom: 0;padding: 0.3em;box-sizing: border-box;text-align: center;}#sk-container-id-8 label.sk-toggleable__label-arrow:before {content: \"▸\";float: left;margin-right: 0.25em;color: #696969;}#sk-container-id-8 label.sk-toggleable__label-arrow:hover:before {color: black;}#sk-container-id-8 div.sk-estimator:hover label.sk-toggleable__label-arrow:before {color: black;}#sk-container-id-8 div.sk-toggleable__content {max-height: 0;max-width: 0;overflow: hidden;text-align: left;background-color: #f0f8ff;}#sk-container-id-8 div.sk-toggleable__content pre {margin: 0.2em;color: black;border-radius: 0.25em;background-color: #f0f8ff;}#sk-container-id-8 input.sk-toggleable__control:checked~div.sk-toggleable__content {max-height: 200px;max-width: 100%;overflow: auto;}#sk-container-id-8 input.sk-toggleable__control:checked~label.sk-toggleable__label-arrow:before {content: \"▾\";}#sk-container-id-8 div.sk-estimator input.sk-toggleable__control:checked~label.sk-toggleable__label {background-color: #d4ebff;}#sk-container-id-8 div.sk-label input.sk-toggleable__control:checked~label.sk-toggleable__label {background-color: #d4ebff;}#sk-container-id-8 input.sk-hidden--visually {border: 0;clip: rect(1px 1px 1px 1px);clip: rect(1px, 1px, 1px, 1px);height: 1px;margin: -1px;overflow: hidden;padding: 0;position: absolute;width: 1px;}#sk-container-id-8 div.sk-estimator {font-family: monospace;background-color: #f0f8ff;border: 1px dotted black;border-radius: 0.25em;box-sizing: border-box;margin-bottom: 0.5em;}#sk-container-id-8 div.sk-estimator:hover {background-color: #d4ebff;}#sk-container-id-8 div.sk-parallel-item::after {content: \"\";width: 100%;border-bottom: 1px solid gray;flex-grow: 1;}#sk-container-id-8 div.sk-label:hover label.sk-toggleable__label {background-color: #d4ebff;}#sk-container-id-8 div.sk-serial::before {content: \"\";position: absolute;border-left: 1px solid gray;box-sizing: border-box;top: 0;bottom: 0;left: 50%;z-index: 0;}#sk-container-id-8 div.sk-serial {display: flex;flex-direction: column;align-items: center;background-color: white;padding-right: 0.2em;padding-left: 0.2em;position: relative;}#sk-container-id-8 div.sk-item {position: relative;z-index: 1;}#sk-container-id-8 div.sk-parallel {display: flex;align-items: stretch;justify-content: center;background-color: white;position: relative;}#sk-container-id-8 div.sk-item::before, #sk-container-id-8 div.sk-parallel-item::before {content: \"\";position: absolute;border-left: 1px solid gray;box-sizing: border-box;top: 0;bottom: 0;left: 50%;z-index: -1;}#sk-container-id-8 div.sk-parallel-item {display: flex;flex-direction: column;z-index: 1;position: relative;background-color: white;}#sk-container-id-8 div.sk-parallel-item:first-child::after {align-self: flex-end;width: 50%;}#sk-container-id-8 div.sk-parallel-item:last-child::after {align-self: flex-start;width: 50%;}#sk-container-id-8 div.sk-parallel-item:only-child::after {width: 0;}#sk-container-id-8 div.sk-dashed-wrapped {border: 1px dashed gray;margin: 0 0.4em 0.5em 0.4em;box-sizing: border-box;padding-bottom: 0.4em;background-color: white;}#sk-container-id-8 div.sk-label label {font-family: monospace;font-weight: bold;display: inline-block;line-height: 1.2em;}#sk-container-id-8 div.sk-label-container {text-align: center;}#sk-container-id-8 div.sk-container {/* jupyter's `normalize.less` sets `[hidden] { display: none; }` but bootstrap.min.css set `[hidden] { display: none !important; }` so we also need the `!important` here to be able to override the default hidden behavior on the sphinx rendered scikit-learn.org. See: https://github.com/scikit-learn/scikit-learn/issues/21755 */display: inline-block !important;position: relative;}#sk-container-id-8 div.sk-text-repr-fallback {display: none;}</style><div id=\"sk-container-id-8\" class=\"sk-top-container\"><div class=\"sk-text-repr-fallback\"><pre>LogisticRegression()</pre><b>In a Jupyter environment, please rerun this cell to show the HTML representation or trust the notebook. <br />On GitHub, the HTML representation is unable to render, please try loading this page with nbviewer.org.</b></div><div class=\"sk-container\" hidden><div class=\"sk-item\"><div class=\"sk-estimator sk-toggleable\"><input class=\"sk-toggleable__control sk-hidden--visually\" id=\"sk-estimator-id-8\" type=\"checkbox\" checked><label for=\"sk-estimator-id-8\" class=\"sk-toggleable__label sk-toggleable__label-arrow\">LogisticRegression</label><div class=\"sk-toggleable__content\"><pre>LogisticRegression()</pre></div></div></div></div></div>"
     },
     "execution_count": 149,
     "metadata": {},
     "output_type": "execute_result"
    }
   ],
   "source": [
    "model = LogisticRegression()\n",
    "model.fit(X_full_train, y_full_train)"
   ],
   "metadata": {
    "collapsed": false,
    "pycharm": {
     "name": "#%%\n"
    }
   }
  },
  {
   "cell_type": "code",
   "execution_count": 150,
   "outputs": [],
   "source": [
    "dicts_test = df_test[categorical + numerical].to_dict(orient='records')"
   ],
   "metadata": {
    "collapsed": false,
    "pycharm": {
     "name": "#%%\n"
    }
   }
  },
  {
   "cell_type": "code",
   "execution_count": 151,
   "outputs": [],
   "source": [
    "X_test = dv.transform(dicts_test)"
   ],
   "metadata": {
    "collapsed": false,
    "pycharm": {
     "name": "#%%\n"
    }
   }
  },
  {
   "cell_type": "code",
   "execution_count": 157,
   "outputs": [],
   "source": [
    "y_pred = model.predict_proba(X_test)[:, 1]"
   ],
   "metadata": {
    "collapsed": false,
    "pycharm": {
     "name": "#%%\n"
    }
   }
  },
  {
   "cell_type": "code",
   "execution_count": 158,
   "outputs": [],
   "source": [
    "churn_decision = (y_pred >= 0.5)"
   ],
   "metadata": {
    "collapsed": false,
    "pycharm": {
     "name": "#%%\n"
    }
   }
  },
  {
   "cell_type": "code",
   "execution_count": 160,
   "outputs": [
    {
     "data": {
      "text/plain": "0.815471965933286"
     },
     "execution_count": 160,
     "metadata": {},
     "output_type": "execute_result"
    }
   ],
   "source": [
    "(churn_decision == y_test).mean()"
   ],
   "metadata": {
    "collapsed": false,
    "pycharm": {
     "name": "#%%\n"
    }
   }
  },
  {
   "cell_type": "code",
   "execution_count": 166,
   "outputs": [],
   "source": [
    "customer = dicts_test[-1]"
   ],
   "metadata": {
    "collapsed": false,
    "pycharm": {
     "name": "#%%\n"
    }
   }
  },
  {
   "cell_type": "code",
   "execution_count": 167,
   "outputs": [],
   "source": [
    "X_small = dv.transform([customer])"
   ],
   "metadata": {
    "collapsed": false,
    "pycharm": {
     "name": "#%%\n"
    }
   }
  },
  {
   "cell_type": "code",
   "execution_count": 171,
   "outputs": [
    {
     "data": {
      "text/plain": "0.5968852088265946"
     },
     "execution_count": 171,
     "metadata": {},
     "output_type": "execute_result"
    }
   ],
   "source": [
    "model.predict_proba(X_small)[0, 1]"
   ],
   "metadata": {
    "collapsed": false,
    "pycharm": {
     "name": "#%%\n"
    }
   }
  },
  {
   "cell_type": "code",
   "execution_count": 170,
   "outputs": [
    {
     "data": {
      "text/plain": "1"
     },
     "execution_count": 170,
     "metadata": {},
     "output_type": "execute_result"
    }
   ],
   "source": [
    "y_test[-1]"
   ],
   "metadata": {
    "collapsed": false,
    "pycharm": {
     "name": "#%%\n"
    }
   }
  },
  {
   "cell_type": "code",
   "execution_count": null,
   "outputs": [],
   "source": [],
   "metadata": {
    "collapsed": false,
    "pycharm": {
     "name": "#%%\n"
    }
   }
  }
 ],
 "metadata": {
  "kernelspec": {
   "display_name": "Python 3",
   "language": "python",
   "name": "python3"
  },
  "language_info": {
   "codemirror_mode": {
    "name": "ipython",
    "version": 2
   },
   "file_extension": ".py",
   "mimetype": "text/x-python",
   "name": "python",
   "nbconvert_exporter": "python",
   "pygments_lexer": "ipython2",
   "version": "2.7.6"
  }
 },
 "nbformat": 4,
 "nbformat_minor": 0
}