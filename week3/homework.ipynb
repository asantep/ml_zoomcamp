{
 "cells": [
  {
   "cell_type": "code",
   "execution_count": 1,
   "metadata": {
    "collapsed": true
   },
   "outputs": [],
   "source": [
    "import numpy as np\n",
    "import pandas as pd\n",
    "from matplotlib import pyplot as plt\n",
    "import seaborn as sns\n",
    "from sklearn.feature_extraction import DictVectorizer\n",
    "from sklearn.linear_model import LogisticRegression, Ridge\n",
    "from sklearn.metrics import mutual_info_score as mis\n",
    "from sklearn.model_selection import train_test_split\n",
    "from sklearn.metrics import accuracy_score, mean_squared_error\n",
    "import warnings\n",
    "\n",
    "warnings.filterwarnings('ignore')"
   ]
  },
  {
   "cell_type": "markdown",
   "source": [
    "# Load Data"
   ],
   "metadata": {
    "collapsed": false
   }
  },
  {
   "cell_type": "code",
   "execution_count": 2,
   "outputs": [],
   "source": [
    "df = pd.read_csv('https://raw.githubusercontent.com/alexeygrigorev/datasets/master/housing.csv')"
   ],
   "metadata": {
    "collapsed": false,
    "pycharm": {
     "name": "#%%\n"
    }
   }
  },
  {
   "cell_type": "code",
   "execution_count": 3,
   "outputs": [
    {
     "data": {
      "text/plain": "(20640, 10)"
     },
     "execution_count": 3,
     "metadata": {},
     "output_type": "execute_result"
    }
   ],
   "source": [
    "df.shape"
   ],
   "metadata": {
    "collapsed": false,
    "pycharm": {
     "name": "#%%\n"
    }
   }
  },
  {
   "cell_type": "code",
   "execution_count": 4,
   "outputs": [
    {
     "data": {
      "text/plain": "Index(['longitude', 'latitude', 'housing_median_age', 'total_rooms',\n       'total_bedrooms', 'population', 'households', 'median_income',\n       'median_house_value', 'ocean_proximity'],\n      dtype='object')"
     },
     "execution_count": 4,
     "metadata": {},
     "output_type": "execute_result"
    }
   ],
   "source": [
    "df.columns"
   ],
   "metadata": {
    "collapsed": false,
    "pycharm": {
     "name": "#%%\n"
    }
   }
  },
  {
   "cell_type": "code",
   "execution_count": 5,
   "outputs": [
    {
     "data": {
      "text/plain": "longitude               0\nlatitude                0\nhousing_median_age      0\ntotal_rooms             0\ntotal_bedrooms        207\npopulation              0\nhouseholds              0\nmedian_income           0\nmedian_house_value      0\nocean_proximity         0\ndtype: int64"
     },
     "execution_count": 5,
     "metadata": {},
     "output_type": "execute_result"
    }
   ],
   "source": [
    "df.isnull().sum()"
   ],
   "metadata": {
    "collapsed": false,
    "pycharm": {
     "name": "#%%\n"
    }
   }
  },
  {
   "cell_type": "code",
   "execution_count": 6,
   "outputs": [
    {
     "data": {
      "text/plain": "longitude             float64\nlatitude              float64\nhousing_median_age    float64\ntotal_rooms           float64\ntotal_bedrooms        float64\npopulation            float64\nhouseholds            float64\nmedian_income         float64\nmedian_house_value    float64\nocean_proximity        object\ndtype: object"
     },
     "execution_count": 6,
     "metadata": {},
     "output_type": "execute_result"
    }
   ],
   "source": [
    "df.dtypes"
   ],
   "metadata": {
    "collapsed": false,
    "pycharm": {
     "name": "#%%\n"
    }
   }
  },
  {
   "cell_type": "code",
   "execution_count": 7,
   "outputs": [
    {
     "data": {
      "text/plain": "   longitude  latitude  housing_median_age  total_rooms  total_bedrooms  \\\n0    -122.23     37.88                41.0        880.0           129.0   \n1    -122.22     37.86                21.0       7099.0          1106.0   \n2    -122.24     37.85                52.0       1467.0           190.0   \n3    -122.25     37.85                52.0       1274.0           235.0   \n4    -122.25     37.85                52.0       1627.0           280.0   \n\n   population  households  median_income  median_house_value ocean_proximity  \n0       322.0       126.0         8.3252            452600.0        NEAR BAY  \n1      2401.0      1138.0         8.3014            358500.0        NEAR BAY  \n2       496.0       177.0         7.2574            352100.0        NEAR BAY  \n3       558.0       219.0         5.6431            341300.0        NEAR BAY  \n4       565.0       259.0         3.8462            342200.0        NEAR BAY  ",
      "text/html": "<div>\n<style scoped>\n    .dataframe tbody tr th:only-of-type {\n        vertical-align: middle;\n    }\n\n    .dataframe tbody tr th {\n        vertical-align: top;\n    }\n\n    .dataframe thead th {\n        text-align: right;\n    }\n</style>\n<table border=\"1\" class=\"dataframe\">\n  <thead>\n    <tr style=\"text-align: right;\">\n      <th></th>\n      <th>longitude</th>\n      <th>latitude</th>\n      <th>housing_median_age</th>\n      <th>total_rooms</th>\n      <th>total_bedrooms</th>\n      <th>population</th>\n      <th>households</th>\n      <th>median_income</th>\n      <th>median_house_value</th>\n      <th>ocean_proximity</th>\n    </tr>\n  </thead>\n  <tbody>\n    <tr>\n      <th>0</th>\n      <td>-122.23</td>\n      <td>37.88</td>\n      <td>41.0</td>\n      <td>880.0</td>\n      <td>129.0</td>\n      <td>322.0</td>\n      <td>126.0</td>\n      <td>8.3252</td>\n      <td>452600.0</td>\n      <td>NEAR BAY</td>\n    </tr>\n    <tr>\n      <th>1</th>\n      <td>-122.22</td>\n      <td>37.86</td>\n      <td>21.0</td>\n      <td>7099.0</td>\n      <td>1106.0</td>\n      <td>2401.0</td>\n      <td>1138.0</td>\n      <td>8.3014</td>\n      <td>358500.0</td>\n      <td>NEAR BAY</td>\n    </tr>\n    <tr>\n      <th>2</th>\n      <td>-122.24</td>\n      <td>37.85</td>\n      <td>52.0</td>\n      <td>1467.0</td>\n      <td>190.0</td>\n      <td>496.0</td>\n      <td>177.0</td>\n      <td>7.2574</td>\n      <td>352100.0</td>\n      <td>NEAR BAY</td>\n    </tr>\n    <tr>\n      <th>3</th>\n      <td>-122.25</td>\n      <td>37.85</td>\n      <td>52.0</td>\n      <td>1274.0</td>\n      <td>235.0</td>\n      <td>558.0</td>\n      <td>219.0</td>\n      <td>5.6431</td>\n      <td>341300.0</td>\n      <td>NEAR BAY</td>\n    </tr>\n    <tr>\n      <th>4</th>\n      <td>-122.25</td>\n      <td>37.85</td>\n      <td>52.0</td>\n      <td>1627.0</td>\n      <td>280.0</td>\n      <td>565.0</td>\n      <td>259.0</td>\n      <td>3.8462</td>\n      <td>342200.0</td>\n      <td>NEAR BAY</td>\n    </tr>\n  </tbody>\n</table>\n</div>"
     },
     "execution_count": 7,
     "metadata": {},
     "output_type": "execute_result"
    }
   ],
   "source": [
    "df.head()"
   ],
   "metadata": {
    "collapsed": false,
    "pycharm": {
     "name": "#%%\n"
    }
   }
  },
  {
   "cell_type": "code",
   "execution_count": 8,
   "outputs": [],
   "source": [
    "df.fillna(0, inplace=True)"
   ],
   "metadata": {
    "collapsed": false,
    "pycharm": {
     "name": "#%%\n"
    }
   }
  },
  {
   "cell_type": "code",
   "execution_count": 9,
   "outputs": [
    {
     "data": {
      "text/plain": "longitude             0\nlatitude              0\nhousing_median_age    0\ntotal_rooms           0\ntotal_bedrooms        0\npopulation            0\nhouseholds            0\nmedian_income         0\nmedian_house_value    0\nocean_proximity       0\ndtype: int64"
     },
     "execution_count": 9,
     "metadata": {},
     "output_type": "execute_result"
    }
   ],
   "source": [
    "df.isnull().sum()"
   ],
   "metadata": {
    "collapsed": false,
    "pycharm": {
     "name": "#%%\n"
    }
   }
  },
  {
   "cell_type": "markdown",
   "source": [
    "New Column Creation"
   ],
   "metadata": {
    "collapsed": false
   }
  },
  {
   "cell_type": "code",
   "execution_count": 10,
   "outputs": [],
   "source": [
    "df['rooms_per_household'] = df.total_rooms / df.households\n",
    "df['bedrooms_per_room'] = df.total_bedrooms / df.total_rooms\n",
    "df['population_per_household'] = df.population / df.households"
   ],
   "metadata": {
    "collapsed": false,
    "pycharm": {
     "name": "#%%\n"
    }
   }
  },
  {
   "cell_type": "code",
   "execution_count": 11,
   "outputs": [
    {
     "data": {
      "text/plain": "   longitude  latitude  housing_median_age  total_rooms  total_bedrooms  \\\n0    -122.23     37.88                41.0        880.0           129.0   \n1    -122.22     37.86                21.0       7099.0          1106.0   \n2    -122.24     37.85                52.0       1467.0           190.0   \n3    -122.25     37.85                52.0       1274.0           235.0   \n4    -122.25     37.85                52.0       1627.0           280.0   \n\n   population  households  median_income  median_house_value ocean_proximity  \\\n0       322.0       126.0         8.3252            452600.0        NEAR BAY   \n1      2401.0      1138.0         8.3014            358500.0        NEAR BAY   \n2       496.0       177.0         7.2574            352100.0        NEAR BAY   \n3       558.0       219.0         5.6431            341300.0        NEAR BAY   \n4       565.0       259.0         3.8462            342200.0        NEAR BAY   \n\n   rooms_per_household  bedrooms_per_room  population_per_household  \n0             6.984127           0.146591                  2.555556  \n1             6.238137           0.155797                  2.109842  \n2             8.288136           0.129516                  2.802260  \n3             5.817352           0.184458                  2.547945  \n4             6.281853           0.172096                  2.181467  ",
      "text/html": "<div>\n<style scoped>\n    .dataframe tbody tr th:only-of-type {\n        vertical-align: middle;\n    }\n\n    .dataframe tbody tr th {\n        vertical-align: top;\n    }\n\n    .dataframe thead th {\n        text-align: right;\n    }\n</style>\n<table border=\"1\" class=\"dataframe\">\n  <thead>\n    <tr style=\"text-align: right;\">\n      <th></th>\n      <th>longitude</th>\n      <th>latitude</th>\n      <th>housing_median_age</th>\n      <th>total_rooms</th>\n      <th>total_bedrooms</th>\n      <th>population</th>\n      <th>households</th>\n      <th>median_income</th>\n      <th>median_house_value</th>\n      <th>ocean_proximity</th>\n      <th>rooms_per_household</th>\n      <th>bedrooms_per_room</th>\n      <th>population_per_household</th>\n    </tr>\n  </thead>\n  <tbody>\n    <tr>\n      <th>0</th>\n      <td>-122.23</td>\n      <td>37.88</td>\n      <td>41.0</td>\n      <td>880.0</td>\n      <td>129.0</td>\n      <td>322.0</td>\n      <td>126.0</td>\n      <td>8.3252</td>\n      <td>452600.0</td>\n      <td>NEAR BAY</td>\n      <td>6.984127</td>\n      <td>0.146591</td>\n      <td>2.555556</td>\n    </tr>\n    <tr>\n      <th>1</th>\n      <td>-122.22</td>\n      <td>37.86</td>\n      <td>21.0</td>\n      <td>7099.0</td>\n      <td>1106.0</td>\n      <td>2401.0</td>\n      <td>1138.0</td>\n      <td>8.3014</td>\n      <td>358500.0</td>\n      <td>NEAR BAY</td>\n      <td>6.238137</td>\n      <td>0.155797</td>\n      <td>2.109842</td>\n    </tr>\n    <tr>\n      <th>2</th>\n      <td>-122.24</td>\n      <td>37.85</td>\n      <td>52.0</td>\n      <td>1467.0</td>\n      <td>190.0</td>\n      <td>496.0</td>\n      <td>177.0</td>\n      <td>7.2574</td>\n      <td>352100.0</td>\n      <td>NEAR BAY</td>\n      <td>8.288136</td>\n      <td>0.129516</td>\n      <td>2.802260</td>\n    </tr>\n    <tr>\n      <th>3</th>\n      <td>-122.25</td>\n      <td>37.85</td>\n      <td>52.0</td>\n      <td>1274.0</td>\n      <td>235.0</td>\n      <td>558.0</td>\n      <td>219.0</td>\n      <td>5.6431</td>\n      <td>341300.0</td>\n      <td>NEAR BAY</td>\n      <td>5.817352</td>\n      <td>0.184458</td>\n      <td>2.547945</td>\n    </tr>\n    <tr>\n      <th>4</th>\n      <td>-122.25</td>\n      <td>37.85</td>\n      <td>52.0</td>\n      <td>1627.0</td>\n      <td>280.0</td>\n      <td>565.0</td>\n      <td>259.0</td>\n      <td>3.8462</td>\n      <td>342200.0</td>\n      <td>NEAR BAY</td>\n      <td>6.281853</td>\n      <td>0.172096</td>\n      <td>2.181467</td>\n    </tr>\n  </tbody>\n</table>\n</div>"
     },
     "execution_count": 11,
     "metadata": {},
     "output_type": "execute_result"
    }
   ],
   "source": [
    "df.head()"
   ],
   "metadata": {
    "collapsed": false,
    "pycharm": {
     "name": "#%%\n"
    }
   }
  },
  {
   "cell_type": "code",
   "execution_count": 12,
   "outputs": [
    {
     "data": {
      "text/plain": "0    <1H OCEAN\nName: ocean_proximity, dtype: object"
     },
     "execution_count": 12,
     "metadata": {},
     "output_type": "execute_result"
    }
   ],
   "source": [
    "df['ocean_proximity'].mode()"
   ],
   "metadata": {
    "collapsed": false,
    "pycharm": {
     "name": "#%%\n"
    }
   }
  },
  {
   "cell_type": "markdown",
   "source": [
    "Question 1 - Ans is <1H OCEAN"
   ],
   "metadata": {
    "collapsed": false
   }
  },
  {
   "cell_type": "code",
   "execution_count": 13,
   "outputs": [],
   "source": [
    "numerical = list(df.dtypes.index[df.dtypes != 'object'])"
   ],
   "metadata": {
    "collapsed": false,
    "pycharm": {
     "name": "#%%\n"
    }
   }
  },
  {
   "cell_type": "code",
   "execution_count": 14,
   "outputs": [
    {
     "data": {
      "text/plain": "                          longitude  latitude  housing_median_age  \\\nlongitude                  1.000000 -0.924664           -0.108197   \nlatitude                  -0.924664  1.000000            0.011173   \nhousing_median_age        -0.108197  0.011173            1.000000   \ntotal_rooms                0.044568 -0.036100           -0.361262   \ntotal_bedrooms             0.068082 -0.065318           -0.317063   \npopulation                 0.099773 -0.108785           -0.296244   \nhouseholds                 0.055310 -0.071035           -0.302916   \nmedian_income             -0.015176 -0.079809           -0.119034   \nmedian_house_value        -0.045967 -0.144160            0.105623   \nrooms_per_household       -0.027540  0.106389           -0.153277   \nbedrooms_per_room          0.084836 -0.104112            0.125396   \npopulation_per_household   0.002476  0.002366            0.013191   \n\n                          total_rooms  total_bedrooms  population  households  \\\nlongitude                    0.044568        0.068082    0.099773    0.055310   \nlatitude                    -0.036100       -0.065318   -0.108785   -0.071035   \nhousing_median_age          -0.361262       -0.317063   -0.296244   -0.302916   \ntotal_rooms                  1.000000        0.920196    0.857126    0.918484   \ntotal_bedrooms               0.920196        1.000000    0.866266    0.966507   \npopulation                   0.857126        0.866266    1.000000    0.907222   \nhouseholds                   0.918484        0.966507    0.907222    1.000000   \nmedian_income                0.198050       -0.007295    0.004834    0.013033   \nmedian_house_value           0.134153        0.049148   -0.024650    0.065843   \nrooms_per_household          0.133798        0.002717   -0.072213   -0.080598   \nbedrooms_per_room           -0.174583        0.122205    0.031397    0.059818   \npopulation_per_household    -0.024581       -0.028019    0.069863   -0.027309   \n\n                          median_income  median_house_value  \\\nlongitude                     -0.015176           -0.045967   \nlatitude                      -0.079809           -0.144160   \nhousing_median_age            -0.119034            0.105623   \ntotal_rooms                    0.198050            0.134153   \ntotal_bedrooms                -0.007295            0.049148   \npopulation                     0.004834           -0.024650   \nhouseholds                     0.013033            0.065843   \nmedian_income                  1.000000            0.688075   \nmedian_house_value             0.688075            1.000000   \nrooms_per_household            0.326895            0.151948   \nbedrooms_per_room             -0.573836           -0.238759   \npopulation_per_household       0.018766           -0.023737   \n\n                          rooms_per_household  bedrooms_per_room  \\\nlongitude                           -0.027540           0.084836   \nlatitude                             0.106389          -0.104112   \nhousing_median_age                  -0.153277           0.125396   \ntotal_rooms                          0.133798          -0.174583   \ntotal_bedrooms                       0.002717           0.122205   \npopulation                          -0.072213           0.031397   \nhouseholds                          -0.080598           0.059818   \nmedian_income                        0.326895          -0.573836   \nmedian_house_value                   0.151948          -0.238759   \nrooms_per_household                  1.000000          -0.387465   \nbedrooms_per_room                   -0.387465           1.000000   \npopulation_per_household            -0.004852           0.003047   \n\n                          population_per_household  \nlongitude                                 0.002476  \nlatitude                                  0.002366  \nhousing_median_age                        0.013191  \ntotal_rooms                              -0.024581  \ntotal_bedrooms                           -0.028019  \npopulation                                0.069863  \nhouseholds                               -0.027309  \nmedian_income                             0.018766  \nmedian_house_value                       -0.023737  \nrooms_per_household                      -0.004852  \nbedrooms_per_room                         0.003047  \npopulation_per_household                  1.000000  ",
      "text/html": "<div>\n<style scoped>\n    .dataframe tbody tr th:only-of-type {\n        vertical-align: middle;\n    }\n\n    .dataframe tbody tr th {\n        vertical-align: top;\n    }\n\n    .dataframe thead th {\n        text-align: right;\n    }\n</style>\n<table border=\"1\" class=\"dataframe\">\n  <thead>\n    <tr style=\"text-align: right;\">\n      <th></th>\n      <th>longitude</th>\n      <th>latitude</th>\n      <th>housing_median_age</th>\n      <th>total_rooms</th>\n      <th>total_bedrooms</th>\n      <th>population</th>\n      <th>households</th>\n      <th>median_income</th>\n      <th>median_house_value</th>\n      <th>rooms_per_household</th>\n      <th>bedrooms_per_room</th>\n      <th>population_per_household</th>\n    </tr>\n  </thead>\n  <tbody>\n    <tr>\n      <th>longitude</th>\n      <td>1.000000</td>\n      <td>-0.924664</td>\n      <td>-0.108197</td>\n      <td>0.044568</td>\n      <td>0.068082</td>\n      <td>0.099773</td>\n      <td>0.055310</td>\n      <td>-0.015176</td>\n      <td>-0.045967</td>\n      <td>-0.027540</td>\n      <td>0.084836</td>\n      <td>0.002476</td>\n    </tr>\n    <tr>\n      <th>latitude</th>\n      <td>-0.924664</td>\n      <td>1.000000</td>\n      <td>0.011173</td>\n      <td>-0.036100</td>\n      <td>-0.065318</td>\n      <td>-0.108785</td>\n      <td>-0.071035</td>\n      <td>-0.079809</td>\n      <td>-0.144160</td>\n      <td>0.106389</td>\n      <td>-0.104112</td>\n      <td>0.002366</td>\n    </tr>\n    <tr>\n      <th>housing_median_age</th>\n      <td>-0.108197</td>\n      <td>0.011173</td>\n      <td>1.000000</td>\n      <td>-0.361262</td>\n      <td>-0.317063</td>\n      <td>-0.296244</td>\n      <td>-0.302916</td>\n      <td>-0.119034</td>\n      <td>0.105623</td>\n      <td>-0.153277</td>\n      <td>0.125396</td>\n      <td>0.013191</td>\n    </tr>\n    <tr>\n      <th>total_rooms</th>\n      <td>0.044568</td>\n      <td>-0.036100</td>\n      <td>-0.361262</td>\n      <td>1.000000</td>\n      <td>0.920196</td>\n      <td>0.857126</td>\n      <td>0.918484</td>\n      <td>0.198050</td>\n      <td>0.134153</td>\n      <td>0.133798</td>\n      <td>-0.174583</td>\n      <td>-0.024581</td>\n    </tr>\n    <tr>\n      <th>total_bedrooms</th>\n      <td>0.068082</td>\n      <td>-0.065318</td>\n      <td>-0.317063</td>\n      <td>0.920196</td>\n      <td>1.000000</td>\n      <td>0.866266</td>\n      <td>0.966507</td>\n      <td>-0.007295</td>\n      <td>0.049148</td>\n      <td>0.002717</td>\n      <td>0.122205</td>\n      <td>-0.028019</td>\n    </tr>\n    <tr>\n      <th>population</th>\n      <td>0.099773</td>\n      <td>-0.108785</td>\n      <td>-0.296244</td>\n      <td>0.857126</td>\n      <td>0.866266</td>\n      <td>1.000000</td>\n      <td>0.907222</td>\n      <td>0.004834</td>\n      <td>-0.024650</td>\n      <td>-0.072213</td>\n      <td>0.031397</td>\n      <td>0.069863</td>\n    </tr>\n    <tr>\n      <th>households</th>\n      <td>0.055310</td>\n      <td>-0.071035</td>\n      <td>-0.302916</td>\n      <td>0.918484</td>\n      <td>0.966507</td>\n      <td>0.907222</td>\n      <td>1.000000</td>\n      <td>0.013033</td>\n      <td>0.065843</td>\n      <td>-0.080598</td>\n      <td>0.059818</td>\n      <td>-0.027309</td>\n    </tr>\n    <tr>\n      <th>median_income</th>\n      <td>-0.015176</td>\n      <td>-0.079809</td>\n      <td>-0.119034</td>\n      <td>0.198050</td>\n      <td>-0.007295</td>\n      <td>0.004834</td>\n      <td>0.013033</td>\n      <td>1.000000</td>\n      <td>0.688075</td>\n      <td>0.326895</td>\n      <td>-0.573836</td>\n      <td>0.018766</td>\n    </tr>\n    <tr>\n      <th>median_house_value</th>\n      <td>-0.045967</td>\n      <td>-0.144160</td>\n      <td>0.105623</td>\n      <td>0.134153</td>\n      <td>0.049148</td>\n      <td>-0.024650</td>\n      <td>0.065843</td>\n      <td>0.688075</td>\n      <td>1.000000</td>\n      <td>0.151948</td>\n      <td>-0.238759</td>\n      <td>-0.023737</td>\n    </tr>\n    <tr>\n      <th>rooms_per_household</th>\n      <td>-0.027540</td>\n      <td>0.106389</td>\n      <td>-0.153277</td>\n      <td>0.133798</td>\n      <td>0.002717</td>\n      <td>-0.072213</td>\n      <td>-0.080598</td>\n      <td>0.326895</td>\n      <td>0.151948</td>\n      <td>1.000000</td>\n      <td>-0.387465</td>\n      <td>-0.004852</td>\n    </tr>\n    <tr>\n      <th>bedrooms_per_room</th>\n      <td>0.084836</td>\n      <td>-0.104112</td>\n      <td>0.125396</td>\n      <td>-0.174583</td>\n      <td>0.122205</td>\n      <td>0.031397</td>\n      <td>0.059818</td>\n      <td>-0.573836</td>\n      <td>-0.238759</td>\n      <td>-0.387465</td>\n      <td>1.000000</td>\n      <td>0.003047</td>\n    </tr>\n    <tr>\n      <th>population_per_household</th>\n      <td>0.002476</td>\n      <td>0.002366</td>\n      <td>0.013191</td>\n      <td>-0.024581</td>\n      <td>-0.028019</td>\n      <td>0.069863</td>\n      <td>-0.027309</td>\n      <td>0.018766</td>\n      <td>-0.023737</td>\n      <td>-0.004852</td>\n      <td>0.003047</td>\n      <td>1.000000</td>\n    </tr>\n  </tbody>\n</table>\n</div>"
     },
     "execution_count": 14,
     "metadata": {},
     "output_type": "execute_result"
    }
   ],
   "source": [
    "corrM = df[numerical].corr()\n",
    "corrM"
   ],
   "metadata": {
    "collapsed": false,
    "pycharm": {
     "name": "#%%\n"
    }
   }
  },
  {
   "cell_type": "code",
   "execution_count": 15,
   "outputs": [
    {
     "data": {
      "text/plain": "<Figure size 1080x720 with 2 Axes>",
      "image/png": "[encoded data removed]"
     },
     "metadata": {
      "needs_background": "light"
     },
     "output_type": "display_data"
    }
   ],
   "source": [
    "plt.figure(figsize=(15,10))\n",
    "sns.heatmap(corrM, annot=True)\n",
    "plt.title('Correlation Matrix of numerical columns')\n",
    "plt.show()"
   ],
   "metadata": {
    "collapsed": false,
    "pycharm": {
     "name": "#%%\n"
    }
   }
  },
  {
   "cell_type": "markdown",
   "source": [
    "Question 2 - Ans is total_bedrooms and households"
   ],
   "metadata": {
    "collapsed": false
   }
  },
  {
   "cell_type": "code",
   "execution_count": 16,
   "outputs": [
    {
     "data": {
      "text/plain": "206855.81690891474"
     },
     "execution_count": 16,
     "metadata": {},
     "output_type": "execute_result"
    }
   ],
   "source": [
    "data = df.copy()\n",
    "mean_hv = data.median_house_value.mean()\n",
    "mean_hv"
   ],
   "metadata": {
    "collapsed": false,
    "pycharm": {
     "name": "#%%\n"
    }
   }
  },
  {
   "cell_type": "code",
   "execution_count": 17,
   "outputs": [
    {
     "data": {
      "text/plain": "count     20640.000000\nmean     206855.816909\nstd      115395.615874\nmin       14999.000000\n25%      119600.000000\n50%      179700.000000\n75%      264725.000000\nmax      500001.000000\nName: median_house_value, dtype: float64"
     },
     "execution_count": 17,
     "metadata": {},
     "output_type": "execute_result"
    }
   ],
   "source": [
    "data.median_house_value.describe()"
   ],
   "metadata": {
    "collapsed": false,
    "pycharm": {
     "name": "#%%\n"
    }
   }
  },
  {
   "cell_type": "code",
   "execution_count": 18,
   "outputs": [],
   "source": [
    "data['above_average'] = (data.median_house_value > mean_hv).astype(int)"
   ],
   "metadata": {
    "collapsed": false,
    "pycharm": {
     "name": "#%%\n"
    }
   }
  },
  {
   "cell_type": "code",
   "execution_count": 19,
   "outputs": [],
   "source": [
    "data = data.drop('median_house_value', axis=1)"
   ],
   "metadata": {
    "collapsed": false,
    "pycharm": {
     "name": "#%%\n"
    }
   }
  },
  {
   "cell_type": "markdown",
   "source": [
    "# Validation Framework"
   ],
   "metadata": {
    "collapsed": false
   }
  },
  {
   "cell_type": "code",
   "execution_count": 20,
   "outputs": [
    {
     "data": {
      "text/plain": "(12384, 4128, 4128)"
     },
     "execution_count": 20,
     "metadata": {},
     "output_type": "execute_result"
    }
   ],
   "source": [
    "np.random.seed(42)\n",
    "df_full_train, df_test = train_test_split(data, test_size=0.2, random_state=1)\n",
    "df_train, df_val = train_test_split(df_full_train, test_size=0.25, random_state=1)\n",
    "len(df_train), len(df_test), len(df_val)"
   ],
   "metadata": {
    "collapsed": false,
    "pycharm": {
     "name": "#%%\n"
    }
   }
  },
  {
   "cell_type": "code",
   "execution_count": 21,
   "outputs": [],
   "source": [
    "df_train = df_train.reset_index(drop=True)\n",
    "df_test = df_test.reset_index(drop=True)\n",
    "df_val = df_val.reset_index(drop=True)\n",
    "\n",
    "y_train = df_train.above_average.values\n",
    "y_test = df_test.above_average.values\n",
    "y_val = df_val.above_average.values\n",
    "\n",
    "#del df_train['median_house_value']\n",
    "#del df_test['median_house_value']\n",
    "#del df_val['median_house_value']"
   ],
   "metadata": {
    "collapsed": false,
    "pycharm": {
     "name": "#%%\n"
    }
   }
  },
  {
   "cell_type": "code",
   "execution_count": 22,
   "outputs": [],
   "source": [
    "def mutual_info_score(series):\n",
    "    return mis(series, df_train.above_average)"
   ],
   "metadata": {
    "collapsed": false,
    "pycharm": {
     "name": "#%%\n"
    }
   }
  },
  {
   "cell_type": "code",
   "execution_count": 23,
   "outputs": [
    {
     "data": {
      "text/plain": "ocean_proximity    0.1\ndtype: float64"
     },
     "execution_count": 23,
     "metadata": {},
     "output_type": "execute_result"
    }
   ],
   "source": [
    "cols = ['ocean_proximity']\n",
    "mi = df_train[cols].apply(mutual_info_score)\n",
    "round(mi.sort_values(ascending=False),2)"
   ],
   "metadata": {
    "collapsed": false,
    "pycharm": {
     "name": "#%%\n"
    }
   }
  },
  {
   "cell_type": "markdown",
   "source": [
    "Question 3 - Ans is 0.1"
   ],
   "metadata": {
    "collapsed": false
   }
  },
  {
   "cell_type": "code",
   "execution_count": 24,
   "outputs": [
    {
     "data": {
      "text/plain": "Index(['longitude', 'latitude', 'housing_median_age', 'total_rooms',\n       'total_bedrooms', 'population', 'households', 'median_income',\n       'ocean_proximity', 'rooms_per_household', 'bedrooms_per_room',\n       'population_per_household', 'above_average'],\n      dtype='object')"
     },
     "execution_count": 24,
     "metadata": {},
     "output_type": "execute_result"
    }
   ],
   "source": [
    "df_train.columns"
   ],
   "metadata": {
    "collapsed": false,
    "pycharm": {
     "name": "#%%\n"
    }
   }
  },
  {
   "cell_type": "code",
   "execution_count": 25,
   "outputs": [],
   "source": [
    "numerical = ['longitude', 'latitude', 'housing_median_age', 'total_rooms', 'total_bedrooms', 'population', 'households', 'median_income', 'rooms_per_household',\n",
    "             'bedrooms_per_room', 'population_per_household']\n",
    "train_dicts = df_train[['ocean_proximity'] + numerical].to_dict(orient='records')\n",
    "val_dicts = df_val[['ocean_proximity'] + numerical].to_dict(orient='records')\n",
    "\n",
    "dv = DictVectorizer(sparse=False)"
   ],
   "metadata": {
    "collapsed": false,
    "pycharm": {
     "name": "#%%\n"
    }
   }
  },
  {
   "cell_type": "code",
   "execution_count": 26,
   "outputs": [],
   "source": [
    "X_train = dv.fit_transform(train_dicts)\n",
    "X_val = dv.transform(val_dicts)"
   ],
   "metadata": {
    "collapsed": false,
    "pycharm": {
     "name": "#%%\n"
    }
   }
  },
  {
   "cell_type": "code",
   "execution_count": 27,
   "outputs": [
    {
     "data": {
      "text/plain": "LogisticRegression(max_iter=1000, random_state=42, solver='liblinear')",
      "text/html": "<style>#sk-container-id-1 {color: black;background-color: white;}#sk-container-id-1 pre{padding: 0;}#sk-container-id-1 div.sk-toggleable {background-color: white;}#sk-container-id-1 label.sk-toggleable__label {cursor: pointer;display: block;width: 100%;margin-bottom: 0;padding: 0.3em;box-sizing: border-box;text-align: center;}#sk-container-id-1 label.sk-toggleable__label-arrow:before {content: \"▸\";float: left;margin-right: 0.25em;color: #696969;}#sk-container-id-1 label.sk-toggleable__label-arrow:hover:before {color: black;}#sk-container-id-1 div.sk-estimator:hover label.sk-toggleable__label-arrow:before {color: black;}#sk-container-id-1 div.sk-toggleable__content {max-height: 0;max-width: 0;overflow: hidden;text-align: left;background-color: #f0f8ff;}#sk-container-id-1 div.sk-toggleable__content pre {margin: 0.2em;color: black;border-radius: 0.25em;background-color: #f0f8ff;}#sk-container-id-1 input.sk-toggleable__control:checked~div.sk-toggleable__content {max-height: 200px;max-width: 100%;overflow: auto;}#sk-container-id-1 input.sk-toggleable__control:checked~label.sk-toggleable__label-arrow:before {content: \"▾\";}#sk-container-id-1 div.sk-estimator input.sk-toggleable__control:checked~label.sk-toggleable__label {background-color: #d4ebff;}#sk-container-id-1 div.sk-label input.sk-toggleable__control:checked~label.sk-toggleable__label {background-color: #d4ebff;}#sk-container-id-1 input.sk-hidden--visually {border: 0;clip: rect(1px 1px 1px 1px);clip: rect(1px, 1px, 1px, 1px);height: 1px;margin: -1px;overflow: hidden;padding: 0;position: absolute;width: 1px;}#sk-container-id-1 div.sk-estimator {font-family: monospace;background-color: #f0f8ff;border: 1px dotted black;border-radius: 0.25em;box-sizing: border-box;margin-bottom: 0.5em;}#sk-container-id-1 div.sk-estimator:hover {background-color: #d4ebff;}#sk-container-id-1 div.sk-parallel-item::after {content: \"\";width: 100%;border-bottom: 1px solid gray;flex-grow: 1;}#sk-container-id-1 div.sk-label:hover label.sk-toggleable__label {background-color: #d4ebff;}#sk-container-id-1 div.sk-serial::before {content: \"\";position: absolute;border-left: 1px solid gray;box-sizing: border-box;top: 0;bottom: 0;left: 50%;z-index: 0;}#sk-container-id-1 div.sk-serial {display: flex;flex-direction: column;align-items: center;background-color: white;padding-right: 0.2em;padding-left: 0.2em;position: relative;}#sk-container-id-1 div.sk-item {position: relative;z-index: 1;}#sk-container-id-1 div.sk-parallel {display: flex;align-items: stretch;justify-content: center;background-color: white;position: relative;}#sk-container-id-1 div.sk-item::before, #sk-container-id-1 div.sk-parallel-item::before {content: \"\";position: absolute;border-left: 1px solid gray;box-sizing: border-box;top: 0;bottom: 0;left: 50%;z-index: -1;}#sk-container-id-1 div.sk-parallel-item {display: flex;flex-direction: column;z-index: 1;position: relative;background-color: white;}#sk-container-id-1 div.sk-parallel-item:first-child::after {align-self: flex-end;width: 50%;}#sk-container-id-1 div.sk-parallel-item:last-child::after {align-self: flex-start;width: 50%;}#sk-container-id-1 div.sk-parallel-item:only-child::after {width: 0;}#sk-container-id-1 div.sk-dashed-wrapped {border: 1px dashed gray;margin: 0 0.4em 0.5em 0.4em;box-sizing: border-box;padding-bottom: 0.4em;background-color: white;}#sk-container-id-1 div.sk-label label {font-family: monospace;font-weight: bold;display: inline-block;line-height: 1.2em;}#sk-container-id-1 div.sk-label-container {text-align: center;}#sk-container-id-1 div.sk-container {/* jupyter's `normalize.less` sets `[hidden] { display: none; }` but bootstrap.min.css set `[hidden] { display: none !important; }` so we also need the `!important` here to be able to override the default hidden behavior on the sphinx rendered scikit-learn.org. See: https://github.com/scikit-learn/scikit-learn/issues/21755 */display: inline-block !important;position: relative;}#sk-container-id-1 div.sk-text-repr-fallback {display: none;}</style><div id=\"sk-container-id-1\" class=\"sk-top-container\"><div class=\"sk-text-repr-fallback\"><pre>LogisticRegression(max_iter=1000, random_state=42, solver=&#x27;liblinear&#x27;)</pre><b>In a Jupyter environment, please rerun this cell to show the HTML representation or trust the notebook. <br />On GitHub, the HTML representation is unable to render, please try loading this page with nbviewer.org.</b></div><div class=\"sk-container\" hidden><div class=\"sk-item\"><div class=\"sk-estimator sk-toggleable\"><input class=\"sk-toggleable__control sk-hidden--visually\" id=\"sk-estimator-id-1\" type=\"checkbox\" checked><label for=\"sk-estimator-id-1\" class=\"sk-toggleable__label sk-toggleable__label-arrow\">LogisticRegression</label><div class=\"sk-toggleable__content\"><pre>LogisticRegression(max_iter=1000, random_state=42, solver=&#x27;liblinear&#x27;)</pre></div></div></div></div></div>"
     },
     "execution_count": 27,
     "metadata": {},
     "output_type": "execute_result"
    }
   ],
   "source": [
    "model = LogisticRegression(solver=\"liblinear\", C=1.0, max_iter=1000, random_state=42)\n",
    "model.fit(X_train, y_train)"
   ],
   "metadata": {
    "collapsed": false,
    "pycharm": {
     "name": "#%%\n"
    }
   }
  },
  {
   "cell_type": "code",
   "execution_count": 28,
   "outputs": [
    {
     "data": {
      "text/plain": "0.82"
     },
     "execution_count": 28,
     "metadata": {},
     "output_type": "execute_result"
    }
   ],
   "source": [
    "y_pred = model.predict(X_val)\n",
    "accuracy  = round(accuracy_score(y_val, y_pred),2)\n",
    "accuracy"
   ],
   "metadata": {
    "collapsed": false,
    "pycharm": {
     "name": "#%%\n"
    }
   }
  },
  {
   "cell_type": "markdown",
   "source": [
    "Question 4 - Ans is approximately 0.84"
   ],
   "metadata": {
    "collapsed": false
   }
  },
  {
   "cell_type": "code",
   "execution_count": 29,
   "outputs": [
    {
     "data": {
      "text/plain": "Index(['longitude', 'latitude', 'housing_median_age', 'total_rooms',\n       'total_bedrooms', 'population', 'households', 'median_income',\n       'ocean_proximity', 'rooms_per_household', 'bedrooms_per_room',\n       'population_per_household', 'above_average'],\n      dtype='object')"
     },
     "execution_count": 29,
     "metadata": {},
     "output_type": "execute_result"
    }
   ],
   "source": [
    "df_train.columns"
   ],
   "metadata": {
    "collapsed": false,
    "pycharm": {
     "name": "#%%\n"
    }
   }
  },
  {
   "cell_type": "code",
   "execution_count": 30,
   "outputs": [
    {
     "name": "stdout",
     "output_type": "stream",
     "text": [
      "longitude\n",
      "Difference in Accuracies: 0.002655038759689865, Current Accuracy: 0.8173449612403101\n",
      "latitude\n",
      "Difference in Accuracies: -0.0004941860465116354, Current Accuracy: 0.8204941860465116\n",
      "housing_median_age\n",
      "Difference in Accuracies: 0.0016860465116278478, Current Accuracy: 0.8183139534883721\n",
      "total_rooms\n",
      "Difference in Accuracies: -0.003401162790697687, Current Accuracy: 0.8234011627906976\n",
      "total_bedrooms\n",
      "Difference in Accuracies: -0.00582364341085273, Current Accuracy: 0.8258236434108527\n",
      "population\n",
      "Difference in Accuracies: 0.006046511627906925, Current Accuracy: 0.813953488372093\n",
      "households\n",
      "Difference in Accuracies: 0.0021705426356588564, Current Accuracy: 0.8178294573643411\n",
      "median_income\n",
      "Difference in Accuracies: 0.044079457364341046, Current Accuracy: 0.7759205426356589\n",
      "rooms_per_household\n",
      "Difference in Accuracies: -0.003643410852713247, Current Accuracy: 0.8236434108527132\n",
      "bedrooms_per_room\n",
      "Difference in Accuracies: -0.0031589147286822383, Current Accuracy: 0.8231589147286822\n",
      "population_per_household\n",
      "Difference in Accuracies: -0.0031589147286822383, Current Accuracy: 0.8231589147286822\n",
      "ocean_proximity\n",
      "Difference in Accuracies: 0.014282945736434072, Current Accuracy: 0.8057170542635659\n"
     ]
    }
   ],
   "source": [
    "m_acc = accuracy\n",
    "\n",
    "features = ['longitude', 'latitude', 'housing_median_age', 'total_rooms', 'total_bedrooms', 'population', 'households', 'median_income', 'rooms_per_household',\n",
    "             'bedrooms_per_room', 'population_per_household', 'ocean_proximity']\n",
    "\n",
    "for feature in features:\n",
    "    extract = features.copy()\n",
    "    print(feature)\n",
    "    extract.remove(feature)\n",
    "\n",
    "    train_dicts = df_train[extract].to_dict(orient='records')\n",
    "    val_dicts = df_val[extract].to_dict(orient='records')\n",
    "\n",
    "    dv = DictVectorizer(sparse=False)\n",
    "    X_train = dv.fit_transform(train_dicts)\n",
    "    X_val = dv.transform(val_dicts)\n",
    "\n",
    "    model = LogisticRegression(solver=\"liblinear\", C=1.0, max_iter=1000, random_state=42)\n",
    "    model.fit(X_train, y_train)\n",
    "\n",
    "    y_pred = model.predict(X_val)\n",
    "    p_accuracy  = (accuracy_score(y_val, y_pred))\n",
    "    print(f\"Difference in Accuracies: {m_acc-p_accuracy}, Current Accuracy: {p_accuracy}\")"
   ],
   "metadata": {
    "collapsed": false,
    "pycharm": {
     "name": "#%%\n"
    }
   }
  },
  {
   "cell_type": "markdown",
   "source": [
    "Question 5 - Ans is total_bedrooms (-0.00582364341085273)"
   ],
   "metadata": {
    "collapsed": false
   }
  },
  {
   "cell_type": "code",
   "execution_count": 31,
   "outputs": [],
   "source": [
    "df['median_house_value'] = np.log1p(df.median_house_value)"
   ],
   "metadata": {
    "collapsed": false,
    "pycharm": {
     "name": "#%%\n"
    }
   }
  },
  {
   "cell_type": "code",
   "execution_count": 32,
   "outputs": [
    {
     "data": {
      "text/plain": "   longitude  latitude  housing_median_age  total_rooms  total_bedrooms  \\\n0    -122.23     37.88                41.0        880.0           129.0   \n1    -122.22     37.86                21.0       7099.0          1106.0   \n2    -122.24     37.85                52.0       1467.0           190.0   \n3    -122.25     37.85                52.0       1274.0           235.0   \n4    -122.25     37.85                52.0       1627.0           280.0   \n\n   population  households  median_income  median_house_value ocean_proximity  \\\n0       322.0       126.0         8.3252           13.022766        NEAR BAY   \n1      2401.0      1138.0         8.3014           12.789687        NEAR BAY   \n2       496.0       177.0         7.2574           12.771673        NEAR BAY   \n3       558.0       219.0         5.6431           12.740520        NEAR BAY   \n4       565.0       259.0         3.8462           12.743154        NEAR BAY   \n\n   rooms_per_household  bedrooms_per_room  population_per_household  \n0             6.984127           0.146591                  2.555556  \n1             6.238137           0.155797                  2.109842  \n2             8.288136           0.129516                  2.802260  \n3             5.817352           0.184458                  2.547945  \n4             6.281853           0.172096                  2.181467  ",
      "text/html": "<div>\n<style scoped>\n    .dataframe tbody tr th:only-of-type {\n        vertical-align: middle;\n    }\n\n    .dataframe tbody tr th {\n        vertical-align: top;\n    }\n\n    .dataframe thead th {\n        text-align: right;\n    }\n</style>\n<table border=\"1\" class=\"dataframe\">\n  <thead>\n    <tr style=\"text-align: right;\">\n      <th></th>\n      <th>longitude</th>\n      <th>latitude</th>\n      <th>housing_median_age</th>\n      <th>total_rooms</th>\n      <th>total_bedrooms</th>\n      <th>population</th>\n      <th>households</th>\n      <th>median_income</th>\n      <th>median_house_value</th>\n      <th>ocean_proximity</th>\n      <th>rooms_per_household</th>\n      <th>bedrooms_per_room</th>\n      <th>population_per_household</th>\n    </tr>\n  </thead>\n  <tbody>\n    <tr>\n      <th>0</th>\n      <td>-122.23</td>\n      <td>37.88</td>\n      <td>41.0</td>\n      <td>880.0</td>\n      <td>129.0</td>\n      <td>322.0</td>\n      <td>126.0</td>\n      <td>8.3252</td>\n      <td>13.022766</td>\n      <td>NEAR BAY</td>\n      <td>6.984127</td>\n      <td>0.146591</td>\n      <td>2.555556</td>\n    </tr>\n    <tr>\n      <th>1</th>\n      <td>-122.22</td>\n      <td>37.86</td>\n      <td>21.0</td>\n      <td>7099.0</td>\n      <td>1106.0</td>\n      <td>2401.0</td>\n      <td>1138.0</td>\n      <td>8.3014</td>\n      <td>12.789687</td>\n      <td>NEAR BAY</td>\n      <td>6.238137</td>\n      <td>0.155797</td>\n      <td>2.109842</td>\n    </tr>\n    <tr>\n      <th>2</th>\n      <td>-122.24</td>\n      <td>37.85</td>\n      <td>52.0</td>\n      <td>1467.0</td>\n      <td>190.0</td>\n      <td>496.0</td>\n      <td>177.0</td>\n      <td>7.2574</td>\n      <td>12.771673</td>\n      <td>NEAR BAY</td>\n      <td>8.288136</td>\n      <td>0.129516</td>\n      <td>2.802260</td>\n    </tr>\n    <tr>\n      <th>3</th>\n      <td>-122.25</td>\n      <td>37.85</td>\n      <td>52.0</td>\n      <td>1274.0</td>\n      <td>235.0</td>\n      <td>558.0</td>\n      <td>219.0</td>\n      <td>5.6431</td>\n      <td>12.740520</td>\n      <td>NEAR BAY</td>\n      <td>5.817352</td>\n      <td>0.184458</td>\n      <td>2.547945</td>\n    </tr>\n    <tr>\n      <th>4</th>\n      <td>-122.25</td>\n      <td>37.85</td>\n      <td>52.0</td>\n      <td>1627.0</td>\n      <td>280.0</td>\n      <td>565.0</td>\n      <td>259.0</td>\n      <td>3.8462</td>\n      <td>12.743154</td>\n      <td>NEAR BAY</td>\n      <td>6.281853</td>\n      <td>0.172096</td>\n      <td>2.181467</td>\n    </tr>\n  </tbody>\n</table>\n</div>"
     },
     "execution_count": 32,
     "metadata": {},
     "output_type": "execute_result"
    }
   ],
   "source": [
    "df.head()"
   ],
   "metadata": {
    "collapsed": false,
    "pycharm": {
     "name": "#%%\n"
    }
   }
  },
  {
   "cell_type": "code",
   "execution_count": 33,
   "outputs": [],
   "source": [
    "df_train_full, df_test = train_test_split(df, test_size=0.2, random_state=42)\n",
    "df_train, df_val = train_test_split(df_train_full, test_size=0.25, random_state=42)\n",
    "\n",
    "df_train = df_train.reset_index(drop=True)\n",
    "df_val = df_val.reset_index(drop=True)\n",
    "df_test = df_test.reset_index(drop=True)\n",
    "\n",
    "y_train = df_train.median_house_value.values\n",
    "y_val = df_val.median_house_value.values\n",
    "y_test = df_test.median_house_value.values\n",
    "\n",
    "del df_train['median_house_value']\n",
    "del df_val['median_house_value']\n",
    "del df_test['median_house_value']"
   ],
   "metadata": {
    "collapsed": false,
    "pycharm": {
     "name": "#%%\n"
    }
   }
  },
  {
   "cell_type": "markdown",
   "source": [
    "# Ridge Regression"
   ],
   "metadata": {
    "collapsed": false
   }
  },
  {
   "cell_type": "code",
   "execution_count": 34,
   "outputs": [],
   "source": [
    "train_dict = df_train[features].to_dict(orient='records')\n",
    "dv = DictVectorizer(sparse=False)\n",
    "dv.fit(train_dict)\n",
    "\n",
    "X_train = dv.fit_transform(train_dict)\n",
    "\n",
    "val_dict = df_val[features].to_dict(orient='records')\n",
    "X_val = dv.transform(val_dict)"
   ],
   "metadata": {
    "collapsed": false,
    "pycharm": {
     "name": "#%%\n"
    }
   }
  },
  {
   "cell_type": "code",
   "execution_count": 35,
   "outputs": [
    {
     "name": "stdout",
     "output_type": "stream",
     "text": [
      "Alpha: 0 - Accuracy Rounded: 0.524, Actual Accuracy: 0.524063570701514\n",
      "Alpha: 0.01 - Accuracy Rounded: 0.524, Actual Accuracy: 0.5240635707186291\n",
      "Alpha: 0.1 - Accuracy Rounded: 0.524, Actual Accuracy: 0.5240635708812071\n",
      "Alpha: 1 - Accuracy Rounded: 0.524, Actual Accuracy: 0.5240635725155536\n",
      "Alpha: 10 - Accuracy Rounded: 0.524, Actual Accuracy: 0.5240635888333284\n"
     ]
    }
   ],
   "source": [
    "alphas = [0, 0.01, 0.1, 1, 10]\n",
    "\n",
    "for alpha in alphas:\n",
    "    model = Ridge(alpha=alpha, solver=\"sag\", random_state=42)\n",
    "    model.fit(X_train, y_train)\n",
    "    y_pred = model.predict(X_val)\n",
    "    accuracy = np.sqrt(mean_squared_error(y_val, y_pred))\n",
    "    print(f\"Alpha: {alpha} - Accuracy Rounded: {round(accuracy, 3)}, Actual Accuracy: {accuracy}\")"
   ],
   "metadata": {
    "collapsed": false,
    "pycharm": {
     "name": "#%%\n"
    }
   }
  },
  {
   "cell_type": "markdown",
   "source": [
    "Question 6 - Ans is 0"
   ],
   "metadata": {
    "collapsed": false,
    "pycharm": {
     "name": "#%% md\n"
    }
   }
  },
  {
   "cell_type": "code",
   "execution_count": null,
   "outputs": [],
   "source": [],
   "metadata": {
    "collapsed": false,
    "pycharm": {
     "name": "#%%\n"
    }
   }
  }
 ],
 "metadata": {
  "kernelspec": {
   "display_name": "Python 3",
   "language": "python",
   "name": "python3"
  },
  "language_info": {
   "codemirror_mode": {
    "name": "ipython",
    "version": 2
   },
   "file_extension": ".py",
   "mimetype": "text/x-python",
   "name": "python",
   "nbconvert_exporter": "python",
   "pygments_lexer": "ipython2",
   "version": "2.7.6"
  }
 },
 "nbformat": 4,
 "nbformat_minor": 0
}